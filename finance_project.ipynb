{
  "nbformat": 4,
  "nbformat_minor": 0,
  "metadata": {
    "colab": {
      "provenance": [],
      "include_colab_link": true
    },
    "kernelspec": {
      "name": "python3",
      "display_name": "Python 3"
    },
    "language_info": {
      "name": "python"
    }
  },
  "cells": [
    {
      "cell_type": "markdown",
      "metadata": {
        "id": "view-in-github",
        "colab_type": "text"
      },
      "source": [
        "<a href=\"https://colab.research.google.com/github/Giuliamacis/Finance-and-financial-technologies/blob/main/finance_project.ipynb\" target=\"_parent\"><img src=\"https://colab.research.google.com/assets/colab-badge.svg\" alt=\"Open In Colab\"/></a>"
      ]
    },
    {
      "cell_type": "markdown",
      "source": [],
      "metadata": {
        "id": "5lRRQzNUepa-"
      }
    },
    {
      "cell_type": "code",
      "execution_count": null,
      "metadata": {
        "id": "6W4tmMreLv0R",
        "colab": {
          "base_uri": "https://localhost:8080/"
        },
        "outputId": "1463da27-5d2c-497d-8e43-c6a0317421ff"
      },
      "outputs": [
        {
          "output_type": "stream",
          "name": "stdout",
          "text": [
            "Requirement already satisfied: yfinance in /usr/local/lib/python3.10/dist-packages (0.2.38)\n",
            "Requirement already satisfied: pandas>=1.3.0 in /usr/local/lib/python3.10/dist-packages (from yfinance) (2.0.3)\n",
            "Requirement already satisfied: numpy>=1.16.5 in /usr/local/lib/python3.10/dist-packages (from yfinance) (1.25.2)\n",
            "Requirement already satisfied: requests>=2.31 in /usr/local/lib/python3.10/dist-packages (from yfinance) (2.31.0)\n",
            "Requirement already satisfied: multitasking>=0.0.7 in /usr/local/lib/python3.10/dist-packages (from yfinance) (0.0.11)\n",
            "Requirement already satisfied: lxml>=4.9.1 in /usr/local/lib/python3.10/dist-packages (from yfinance) (4.9.4)\n",
            "Requirement already satisfied: appdirs>=1.4.4 in /usr/local/lib/python3.10/dist-packages (from yfinance) (1.4.4)\n",
            "Requirement already satisfied: pytz>=2022.5 in /usr/local/lib/python3.10/dist-packages (from yfinance) (2023.4)\n",
            "Requirement already satisfied: frozendict>=2.3.4 in /usr/local/lib/python3.10/dist-packages (from yfinance) (2.4.2)\n",
            "Requirement already satisfied: peewee>=3.16.2 in /usr/local/lib/python3.10/dist-packages (from yfinance) (3.17.3)\n",
            "Requirement already satisfied: beautifulsoup4>=4.11.1 in /usr/local/lib/python3.10/dist-packages (from yfinance) (4.12.3)\n",
            "Requirement already satisfied: html5lib>=1.1 in /usr/local/lib/python3.10/dist-packages (from yfinance) (1.1)\n",
            "Requirement already satisfied: soupsieve>1.2 in /usr/local/lib/python3.10/dist-packages (from beautifulsoup4>=4.11.1->yfinance) (2.5)\n",
            "Requirement already satisfied: six>=1.9 in /usr/local/lib/python3.10/dist-packages (from html5lib>=1.1->yfinance) (1.16.0)\n",
            "Requirement already satisfied: webencodings in /usr/local/lib/python3.10/dist-packages (from html5lib>=1.1->yfinance) (0.5.1)\n",
            "Requirement already satisfied: python-dateutil>=2.8.2 in /usr/local/lib/python3.10/dist-packages (from pandas>=1.3.0->yfinance) (2.8.2)\n",
            "Requirement already satisfied: tzdata>=2022.1 in /usr/local/lib/python3.10/dist-packages (from pandas>=1.3.0->yfinance) (2024.1)\n",
            "Requirement already satisfied: charset-normalizer<4,>=2 in /usr/local/lib/python3.10/dist-packages (from requests>=2.31->yfinance) (3.3.2)\n",
            "Requirement already satisfied: idna<4,>=2.5 in /usr/local/lib/python3.10/dist-packages (from requests>=2.31->yfinance) (3.7)\n",
            "Requirement already satisfied: urllib3<3,>=1.21.1 in /usr/local/lib/python3.10/dist-packages (from requests>=2.31->yfinance) (2.0.7)\n",
            "Requirement already satisfied: certifi>=2017.4.17 in /usr/local/lib/python3.10/dist-packages (from requests>=2.31->yfinance) (2024.2.2)\n"
          ]
        }
      ],
      "source": [
        "pip install yfinance"
      ]
    },
    {
      "cell_type": "code",
      "source": [
        "import yfinance as yf\n",
        "#create the tickers for each company\n",
        "ferragamo = yf.Ticker('SFER.MI')\n",
        "lvmh= yf.Ticker('MC.PA')\n",
        "#display historical market data of ferragamo and lvmh\n",
        "data= yf.download(['SFER.MI','MC.PA'], period='5y',interval=\"1d\")\n",
        "#now lets see also dividends and stock splits\n",
        "data_ferragamo=ferragamo.history(period=\"5y\", interval=\"1d\")\n",
        "data_lvmh=lvmh.history(period=\"5y\", interval=\"1d\")\n"
      ],
      "metadata": {
        "colab": {
          "base_uri": "https://localhost:8080/"
        },
        "id": "HitFNdpDMLbN",
        "outputId": "c7f24e35-3d5e-47fe-b8d4-6974080f48aa"
      },
      "execution_count": null,
      "outputs": [
        {
          "output_type": "stream",
          "name": "stderr",
          "text": [
            "[*********************100%%**********************]  2 of 2 completed\n"
          ]
        }
      ]
    },
    {
      "cell_type": "code",
      "source": [
        "import pandas as pd\n",
        "dividends_lvmh = lvmh.dividends\n",
        "# Convert the Series into a DataFrame\n",
        "data = pd.DataFrame(dividends_lvmh)\n",
        "data.reset_index(inplace=True)  # Resets the index, making 'Date' a column\n",
        "data['Year'] = data['Date'].dt.year  # Extracts the year from the 'Date' column\n",
        "# Group by 'Year' and sum the dividends for each year\n",
        "annual_dividends_sum_lvmh = data.groupby('Year')['Dividends'].sum()\n",
        "annual_dividends_sum_lvmh['2024']=14.178 #bloomberg\n",
        "annual_dividends_sum_lvmh"
      ],
      "metadata": {
        "colab": {
          "base_uri": "https://localhost:8080/"
        },
        "id": "A40p8x5TCI5G",
        "outputId": "368b644b-5a54-4813-f18d-61cb557629e7"
      },
      "execution_count": null,
      "outputs": [
        {
          "output_type": "execute_result",
          "data": {
            "text/plain": [
              "Year\n",
              "2019     2.200\n",
              "2020     4.600\n",
              "2021     7.000\n",
              "2022    12.000\n",
              "2023    12.500\n",
              "2024     7.500\n",
              "2024    14.178\n",
              "Name: Dividends, dtype: float64"
            ]
          },
          "metadata": {},
          "execution_count": 4
        }
      ]
    },
    {
      "cell_type": "code",
      "source": [
        "dividends_f = ferragamo.dividends\n",
        "# Convert the Series into a DataFrame\n",
        "data = pd.DataFrame(dividends_f)\n",
        "data.reset_index(inplace=True)  # Resets the index, making 'Date' a column\n",
        "data['Year'] = data['Date'].dt.year  # Extracts the year from the 'Date' column\n",
        "# Group by 'Year' and sum the dividends for each year\n",
        "annual_dividends_sum_f= data.groupby('Year')['Dividends'].sum()\n",
        "annual_dividends_sum_f['2024']=0.096 #bloomberg\n",
        "annual_dividends_sum_f"
      ],
      "metadata": {
        "colab": {
          "base_uri": "https://localhost:8080/"
        },
        "id": "ty6nzeursIyE",
        "outputId": "7a8640de-27ea-42ec-9a45-5011f50f25c8"
      },
      "execution_count": null,
      "outputs": [
        {
          "output_type": "execute_result",
          "data": {
            "text/plain": [
              "Year\n",
              "2019    0.340\n",
              "2022    0.340\n",
              "2023    0.280\n",
              "2024    0.096\n",
              "Name: Dividends, dtype: float64"
            ]
          },
          "metadata": {},
          "execution_count": 5
        }
      ]
    },
    {
      "cell_type": "markdown",
      "source": [
        "# **STOCK EVALUATION LVMH**\n",
        "##DDM MODEL"
      ],
      "metadata": {
        "id": "H_Dz6pk36YI6"
      }
    },
    {
      "cell_type": "markdown",
      "source": [
        "###COST OF EQUITY EVALUATION\n",
        "In order to discount the dividends of the firm, we must find the right cost of equity.\n",
        "We use the CAPM model for this evaluation following this formula: expected return=Rf+beta (Rm-Rf)\n",
        "where:\n",
        "\n",
        "Rf is the risk free rate of return, in our case we can either use the yield of French government bonds or the yield of german bunds.\n",
        "We decided to use the 10-year Bund yield, as Germany's government bonds are often used as a proxy for the risk-free rate in the Eurozone due to Germany's strong economic position.\n",
        "Moreover, For evaluating LVMH's stock, the 10-year Bund yield is typically the most appropriate choice. This is because stock investments are generally considered long-term, and the 10-year yield aligns with the long-term horizon of equity investments. It provides a stable, long-term benchmark for the risk-free rate, capturing broader, long-term economic expectations, which is essential for accurately discounting future dividends back to their present value.\n",
        "\n",
        "**Rf=2.29%**\n",
        "\n",
        "Rm is the expected return of the market portfolio\n",
        "Rm-Rf is the market risk premium. The market risk premium is the additional return expected from holding a risky market portfolio instead of risk-free assets.\n",
        "We have found this value for France  in the section called 'Country Default Spreads and Risk Premiums' by Aswath Damodaran and it's **5.32%**\n",
        "\n",
        " https://pages.stern.nyu.edu/~adamodar/New_Home_Page/datafile/ctryprem.html\n",
        "\n",
        "  https://www.worldgovernmentbonds.com/country/germany/?utm_content=cmp-true https://www.bloomberg.com/markets/rates-bonds/government-bonds/germany\n",
        "\n",
        "Now we can plug the values into the CAPM formula, retrieving also lvmh's beta value\n"
      ],
      "metadata": {
        "id": "Fi9yAP75GAjt"
      }
    },
    {
      "cell_type": "code",
      "source": [
        "r=0.0229+lvmh.info['beta']*0.0532\n",
        "r"
      ],
      "metadata": {
        "colab": {
          "base_uri": "https://localhost:8080/"
        },
        "id": "3MXamsLw_g0S",
        "outputId": "b9944b7a-d7bb-49ce-e7cc-5224a9b74eda"
      },
      "execution_count": null,
      "outputs": [
        {
          "output_type": "execute_result",
          "data": {
            "text/plain": [
              "0.0756744"
            ]
          },
          "metadata": {},
          "execution_count": 6
        }
      ]
    },
    {
      "cell_type": "code",
      "source": [
        "ferragamo.info['beta']"
      ],
      "metadata": {
        "colab": {
          "base_uri": "https://localhost:8080/"
        },
        "id": "uiYo-XrMIl8k",
        "outputId": "81f72244-662a-4447-c7d7-c2458af9796c"
      },
      "execution_count": null,
      "outputs": [
        {
          "output_type": "execute_result",
          "data": {
            "text/plain": [
              "1.248"
            ]
          },
          "metadata": {},
          "execution_count": 7
        }
      ]
    },
    {
      "cell_type": "markdown",
      "source": [
        "The cost of equity found for lvmh is then **7.57%**.\n",
        "The value seems pretty fair, but can double check it by calculating the average historical returns of the french index (CAC40), considering it as a good future estimate.\n",
        "We take the last 30 years historical returns of the CAC40 index (from January 1994 to January 2024) and use the following formula:\n",
        "\n",
        "r= [(January 2024 returns/January 1994 returns)^1/30]-1\n",
        "\n",
        "Let's plug into the formula the values found in the website below\n",
        "\n",
        "https://curvo.eu/backtest/it/indice/cac-40?currency=eur"
      ],
      "metadata": {
        "id": "HaTG2rfJADwE"
      }
    },
    {
      "cell_type": "code",
      "source": [
        "r2 = ((120489 / 14629) ** (1 / 30)) - 1\n",
        "r2"
      ],
      "metadata": {
        "colab": {
          "base_uri": "https://localhost:8080/"
        },
        "id": "T0e6kssVBuxa",
        "outputId": "8a248630-ed88-4048-80ca-7e761c4c0279"
      },
      "execution_count": null,
      "outputs": [
        {
          "output_type": "execute_result",
          "data": {
            "text/plain": [
              "0.07281398271245987"
            ]
          },
          "metadata": {},
          "execution_count": 8
        }
      ]
    },
    {
      "cell_type": "markdown",
      "source": [
        "We can now say that the estimate we computed before is accuarate, and we will move one considering 7.57% as the cost of equity for lvmh."
      ],
      "metadata": {
        "id": "VfJV5YztCxe7"
      }
    },
    {
      "cell_type": "markdown",
      "source": [
        "###g EVALUATION\n",
        "Our next step in the stock evaluation process is determing the growth we will use in the DDM model.\n",
        "We need to find a rough estimate of g for a perpetuity.\n",
        "Our approach is to sum the expected inflation rate and the real growth rate. This approach is based on the Fisher Equation, which relates nominal and real interest rates under the influence of inflation.\n",
        "This makes us understand how much the nominal dividends are expected to grow, combining both the real growth in the value of the firm's distributions and the expected decrease in the purchasing power of money.\n",
        "The expected inflation rate that the banks aim to reach 2% ,\n",
        "while real growth rate we try 2 values 3% with an optimistic mindset as LVMH is a strong growth firm. We also try a more pondered value 2%, considering also the problems that it is facing in relation to the market.\n",
        "so we can estimate a growth between 4% and 5%.\n",
        "We will check the price using both extremes of the interval, to see what best suits the evaluation."
      ],
      "metadata": {
        "id": "HmyctzNXDUxf"
      }
    },
    {
      "cell_type": "markdown",
      "source": [
        "###DDM MODEL\n",
        "Our first method of stock evaluation is the dividend discount model,that is based on the theory that a firm's stock is worth the sum of all its future dividend payments, discounted back to their present value. Essentially, it calculates the present value of the expected dividends of the stock.\n",
        "The basic formula of the DDM is:\n",
        "P=D1/r-g\n",
        "where:\n",
        "P=is the current stock price,\n",
        "Div1 is the expected dividend in the next year (2025),\n",
        "r is the discount rate (cost of equity), that we calculated before\n",
        "g is the nominal growth rate of the dividends.\n",
        "The model assumes that dividends will continue to grow at a constant rate indefinitely.\n",
        "NOtice that LVMH pays dividends twicea year, so the annual dividend is just the sum of the 2.\n",
        "LVMH hasn't paied the second dividend of the year yet, so in order to get more accuarate evaluation we decided to use the 2025 annual dividend value forecasted by Bloomberg instead of calculating it manually (div_2025=div_20204*(1+g))"
      ],
      "metadata": {
        "id": "dbo9KxalJ3fC"
      }
    },
    {
      "cell_type": "markdown",
      "source": [],
      "metadata": {
        "id": "K0S3HjuHrifo"
      }
    },
    {
      "cell_type": "code",
      "source": [
        "P1=14.178/(r-0.04)\n",
        "P2=14.178/(r-0.05)"
      ],
      "metadata": {
        "id": "4SMQWQVNrix6"
      },
      "execution_count": null,
      "outputs": []
    },
    {
      "cell_type": "markdown",
      "source": [
        "Howerver assuming that the dividend will grow forever with a constant growth is a strong assumption that could lead to a less accuarate evaluation.\n",
        "\n",
        "A different option could be using the multi-staged DDM, discounting to the present the available estimation of the future dividends, and then assuming that the dividend of 2027,which is the last dividend experts forecasted on bloomberg, will grow forever with constant growth."
      ],
      "metadata": {
        "id": "Vh2DAFgPY24O"
      }
    },
    {
      "cell_type": "code",
      "source": [
        "P3 =( 14.178/ (1 + r)) + (15.861/ (1 + r)**2) + (17.123/ (1 + r)**3) + (21.115/ (1 + r)**4) + ((21.115* (1 + 0.04)/ (r - 0.04))* 1/(1+r)**4)\n",
        "P4 = ( 14.178/ (1 + r)) + (15.861/ (1 + r)**2) + (17.123/ (1 + r)**3) + (21.115/ (1 + r)**4) + ((21.115* (1 + 0.05)/ (r - 0.05))* 1/(1+r)**4)"
      ],
      "metadata": {
        "id": "s6w03dgFOG-6"
      },
      "execution_count": null,
      "outputs": []
    },
    {
      "cell_type": "code",
      "source": [
        "stock_prices= pd.DataFrame({\n",
        "    \"perpetuity\": [P1, P2],\n",
        "    \"multi-staged\": [P3, P4]\n",
        "}, index=[\"price with g=4%\", \"price with g=5%\"])\n",
        "\n",
        "stock_prices"
      ],
      "metadata": {
        "colab": {
          "base_uri": "https://localhost:8080/",
          "height": 113
        },
        "id": "5rL0boJeYb0C",
        "outputId": "0f94ac4f-68ff-46ab-9674-921de5984a29"
      },
      "execution_count": null,
      "outputs": [
        {
          "output_type": "execute_result",
          "data": {
            "text/plain": [
              "                 perpetuity  multi-staged\n",
              "price with g=4%  397.427847    516.191153\n",
              "price with g=5%  552.223226    701.412742"
            ],
            "text/html": [
              "\n",
              "  <div id=\"df-a67f4d2b-9a17-4a7d-9760-9ab7d3301737\" class=\"colab-df-container\">\n",
              "    <div>\n",
              "<style scoped>\n",
              "    .dataframe tbody tr th:only-of-type {\n",
              "        vertical-align: middle;\n",
              "    }\n",
              "\n",
              "    .dataframe tbody tr th {\n",
              "        vertical-align: top;\n",
              "    }\n",
              "\n",
              "    .dataframe thead th {\n",
              "        text-align: right;\n",
              "    }\n",
              "</style>\n",
              "<table border=\"1\" class=\"dataframe\">\n",
              "  <thead>\n",
              "    <tr style=\"text-align: right;\">\n",
              "      <th></th>\n",
              "      <th>perpetuity</th>\n",
              "      <th>multi-staged</th>\n",
              "    </tr>\n",
              "  </thead>\n",
              "  <tbody>\n",
              "    <tr>\n",
              "      <th>price with g=4%</th>\n",
              "      <td>397.427847</td>\n",
              "      <td>516.191153</td>\n",
              "    </tr>\n",
              "    <tr>\n",
              "      <th>price with g=5%</th>\n",
              "      <td>552.223226</td>\n",
              "      <td>701.412742</td>\n",
              "    </tr>\n",
              "  </tbody>\n",
              "</table>\n",
              "</div>\n",
              "    <div class=\"colab-df-buttons\">\n",
              "\n",
              "  <div class=\"colab-df-container\">\n",
              "    <button class=\"colab-df-convert\" onclick=\"convertToInteractive('df-a67f4d2b-9a17-4a7d-9760-9ab7d3301737')\"\n",
              "            title=\"Convert this dataframe to an interactive table.\"\n",
              "            style=\"display:none;\">\n",
              "\n",
              "  <svg xmlns=\"http://www.w3.org/2000/svg\" height=\"24px\" viewBox=\"0 -960 960 960\">\n",
              "    <path d=\"M120-120v-720h720v720H120Zm60-500h600v-160H180v160Zm220 220h160v-160H400v160Zm0 220h160v-160H400v160ZM180-400h160v-160H180v160Zm440 0h160v-160H620v160ZM180-180h160v-160H180v160Zm440 0h160v-160H620v160Z\"/>\n",
              "  </svg>\n",
              "    </button>\n",
              "\n",
              "  <style>\n",
              "    .colab-df-container {\n",
              "      display:flex;\n",
              "      gap: 12px;\n",
              "    }\n",
              "\n",
              "    .colab-df-convert {\n",
              "      background-color: #E8F0FE;\n",
              "      border: none;\n",
              "      border-radius: 50%;\n",
              "      cursor: pointer;\n",
              "      display: none;\n",
              "      fill: #1967D2;\n",
              "      height: 32px;\n",
              "      padding: 0 0 0 0;\n",
              "      width: 32px;\n",
              "    }\n",
              "\n",
              "    .colab-df-convert:hover {\n",
              "      background-color: #E2EBFA;\n",
              "      box-shadow: 0px 1px 2px rgba(60, 64, 67, 0.3), 0px 1px 3px 1px rgba(60, 64, 67, 0.15);\n",
              "      fill: #174EA6;\n",
              "    }\n",
              "\n",
              "    .colab-df-buttons div {\n",
              "      margin-bottom: 4px;\n",
              "    }\n",
              "\n",
              "    [theme=dark] .colab-df-convert {\n",
              "      background-color: #3B4455;\n",
              "      fill: #D2E3FC;\n",
              "    }\n",
              "\n",
              "    [theme=dark] .colab-df-convert:hover {\n",
              "      background-color: #434B5C;\n",
              "      box-shadow: 0px 1px 3px 1px rgba(0, 0, 0, 0.15);\n",
              "      filter: drop-shadow(0px 1px 2px rgba(0, 0, 0, 0.3));\n",
              "      fill: #FFFFFF;\n",
              "    }\n",
              "  </style>\n",
              "\n",
              "    <script>\n",
              "      const buttonEl =\n",
              "        document.querySelector('#df-a67f4d2b-9a17-4a7d-9760-9ab7d3301737 button.colab-df-convert');\n",
              "      buttonEl.style.display =\n",
              "        google.colab.kernel.accessAllowed ? 'block' : 'none';\n",
              "\n",
              "      async function convertToInteractive(key) {\n",
              "        const element = document.querySelector('#df-a67f4d2b-9a17-4a7d-9760-9ab7d3301737');\n",
              "        const dataTable =\n",
              "          await google.colab.kernel.invokeFunction('convertToInteractive',\n",
              "                                                    [key], {});\n",
              "        if (!dataTable) return;\n",
              "\n",
              "        const docLinkHtml = 'Like what you see? Visit the ' +\n",
              "          '<a target=\"_blank\" href=https://colab.research.google.com/notebooks/data_table.ipynb>data table notebook</a>'\n",
              "          + ' to learn more about interactive tables.';\n",
              "        element.innerHTML = '';\n",
              "        dataTable['output_type'] = 'display_data';\n",
              "        await google.colab.output.renderOutput(dataTable, element);\n",
              "        const docLink = document.createElement('div');\n",
              "        docLink.innerHTML = docLinkHtml;\n",
              "        element.appendChild(docLink);\n",
              "      }\n",
              "    </script>\n",
              "  </div>\n",
              "\n",
              "\n",
              "<div id=\"df-f3e005d2-5728-4b75-9202-bea4aba61d29\">\n",
              "  <button class=\"colab-df-quickchart\" onclick=\"quickchart('df-f3e005d2-5728-4b75-9202-bea4aba61d29')\"\n",
              "            title=\"Suggest charts\"\n",
              "            style=\"display:none;\">\n",
              "\n",
              "<svg xmlns=\"http://www.w3.org/2000/svg\" height=\"24px\"viewBox=\"0 0 24 24\"\n",
              "     width=\"24px\">\n",
              "    <g>\n",
              "        <path d=\"M19 3H5c-1.1 0-2 .9-2 2v14c0 1.1.9 2 2 2h14c1.1 0 2-.9 2-2V5c0-1.1-.9-2-2-2zM9 17H7v-7h2v7zm4 0h-2V7h2v10zm4 0h-2v-4h2v4z\"/>\n",
              "    </g>\n",
              "</svg>\n",
              "  </button>\n",
              "\n",
              "<style>\n",
              "  .colab-df-quickchart {\n",
              "      --bg-color: #E8F0FE;\n",
              "      --fill-color: #1967D2;\n",
              "      --hover-bg-color: #E2EBFA;\n",
              "      --hover-fill-color: #174EA6;\n",
              "      --disabled-fill-color: #AAA;\n",
              "      --disabled-bg-color: #DDD;\n",
              "  }\n",
              "\n",
              "  [theme=dark] .colab-df-quickchart {\n",
              "      --bg-color: #3B4455;\n",
              "      --fill-color: #D2E3FC;\n",
              "      --hover-bg-color: #434B5C;\n",
              "      --hover-fill-color: #FFFFFF;\n",
              "      --disabled-bg-color: #3B4455;\n",
              "      --disabled-fill-color: #666;\n",
              "  }\n",
              "\n",
              "  .colab-df-quickchart {\n",
              "    background-color: var(--bg-color);\n",
              "    border: none;\n",
              "    border-radius: 50%;\n",
              "    cursor: pointer;\n",
              "    display: none;\n",
              "    fill: var(--fill-color);\n",
              "    height: 32px;\n",
              "    padding: 0;\n",
              "    width: 32px;\n",
              "  }\n",
              "\n",
              "  .colab-df-quickchart:hover {\n",
              "    background-color: var(--hover-bg-color);\n",
              "    box-shadow: 0 1px 2px rgba(60, 64, 67, 0.3), 0 1px 3px 1px rgba(60, 64, 67, 0.15);\n",
              "    fill: var(--button-hover-fill-color);\n",
              "  }\n",
              "\n",
              "  .colab-df-quickchart-complete:disabled,\n",
              "  .colab-df-quickchart-complete:disabled:hover {\n",
              "    background-color: var(--disabled-bg-color);\n",
              "    fill: var(--disabled-fill-color);\n",
              "    box-shadow: none;\n",
              "  }\n",
              "\n",
              "  .colab-df-spinner {\n",
              "    border: 2px solid var(--fill-color);\n",
              "    border-color: transparent;\n",
              "    border-bottom-color: var(--fill-color);\n",
              "    animation:\n",
              "      spin 1s steps(1) infinite;\n",
              "  }\n",
              "\n",
              "  @keyframes spin {\n",
              "    0% {\n",
              "      border-color: transparent;\n",
              "      border-bottom-color: var(--fill-color);\n",
              "      border-left-color: var(--fill-color);\n",
              "    }\n",
              "    20% {\n",
              "      border-color: transparent;\n",
              "      border-left-color: var(--fill-color);\n",
              "      border-top-color: var(--fill-color);\n",
              "    }\n",
              "    30% {\n",
              "      border-color: transparent;\n",
              "      border-left-color: var(--fill-color);\n",
              "      border-top-color: var(--fill-color);\n",
              "      border-right-color: var(--fill-color);\n",
              "    }\n",
              "    40% {\n",
              "      border-color: transparent;\n",
              "      border-right-color: var(--fill-color);\n",
              "      border-top-color: var(--fill-color);\n",
              "    }\n",
              "    60% {\n",
              "      border-color: transparent;\n",
              "      border-right-color: var(--fill-color);\n",
              "    }\n",
              "    80% {\n",
              "      border-color: transparent;\n",
              "      border-right-color: var(--fill-color);\n",
              "      border-bottom-color: var(--fill-color);\n",
              "    }\n",
              "    90% {\n",
              "      border-color: transparent;\n",
              "      border-bottom-color: var(--fill-color);\n",
              "    }\n",
              "  }\n",
              "</style>\n",
              "\n",
              "  <script>\n",
              "    async function quickchart(key) {\n",
              "      const quickchartButtonEl =\n",
              "        document.querySelector('#' + key + ' button');\n",
              "      quickchartButtonEl.disabled = true;  // To prevent multiple clicks.\n",
              "      quickchartButtonEl.classList.add('colab-df-spinner');\n",
              "      try {\n",
              "        const charts = await google.colab.kernel.invokeFunction(\n",
              "            'suggestCharts', [key], {});\n",
              "      } catch (error) {\n",
              "        console.error('Error during call to suggestCharts:', error);\n",
              "      }\n",
              "      quickchartButtonEl.classList.remove('colab-df-spinner');\n",
              "      quickchartButtonEl.classList.add('colab-df-quickchart-complete');\n",
              "    }\n",
              "    (() => {\n",
              "      let quickchartButtonEl =\n",
              "        document.querySelector('#df-f3e005d2-5728-4b75-9202-bea4aba61d29 button');\n",
              "      quickchartButtonEl.style.display =\n",
              "        google.colab.kernel.accessAllowed ? 'block' : 'none';\n",
              "    })();\n",
              "  </script>\n",
              "</div>\n",
              "    </div>\n",
              "  </div>\n"
            ],
            "application/vnd.google.colaboratory.intrinsic+json": {
              "type": "dataframe",
              "variable_name": "stock_prices",
              "summary": "{\n  \"name\": \"stock_prices\",\n  \"rows\": 2,\n  \"fields\": [\n    {\n      \"column\": \"perpetuity\",\n      \"properties\": {\n        \"dtype\": \"number\",\n        \"std\": 109.45686206612564,\n        \"min\": 397.42784741999867,\n        \"max\": 552.2232262487147,\n        \"num_unique_values\": 2,\n        \"samples\": [\n          552.2232262487147,\n          397.42784741999867\n        ],\n        \"semantic_type\": \"\",\n        \"description\": \"\"\n      }\n    },\n    {\n      \"column\": \"multi-staged\",\n      \"properties\": {\n        \"dtype\": \"number\",\n        \"std\": 130.9714417737231,\n        \"min\": 516.1911529099148,\n        \"max\": 701.4127421498721,\n        \"num_unique_values\": 2,\n        \"samples\": [\n          701.4127421498721,\n          516.1911529099148\n        ],\n        \"semantic_type\": \"\",\n        \"description\": \"\"\n      }\n    }\n  ]\n}"
            }
          },
          "metadata": {},
          "execution_count": 11
        }
      ]
    },
    {
      "cell_type": "markdown",
      "source": [
        "The table summarizes the variuos methods used to evaluate lvmh's stock price.\n",
        "We clearly see that this model underestimate the stock value,which is around €800.\n",
        "Comparing the 1 stage and 2-staged models, the former perform worse as it takes strong assumptions on the growth of dividends.\n",
        "We can also notice that a growth of 5% is more suitable.\n",
        "\n",
        "Although the Dividend Discount Model was applied, we anticipated poor performance in accurately valuing LVMH's stock due to the company's minimal dividend payouts. Consequently, the model's reliance on dividends to determine stock value does not effectively represent the true value of LVMH shares, given the company's broader financial performance and growth prospects.\n",
        "Thus,an evaluation based on comparables, which considers market values, may offer a more suitable approach for our stock assessment. This method incorporates broader market indicators and comparable company analyses, potentially providing a more accurate reflection of the stock's value."
      ],
      "metadata": {
        "id": "oxUNUXeEZu9I"
      }
    },
    {
      "cell_type": "markdown",
      "source": [
        "\n",
        "\n",
        "---\n",
        "\n",
        "## FCFE LVMH\n",
        "\n",
        "The FCFE metric is often used by analysts in an attempt to determine the value of a company. This method of valuation gained popularity as an alternative to the dividend discount model (DDM), especially if a company does not pay a dividend.\n"
      ],
      "metadata": {
        "id": "-ubk2SaHLrZR"
      }
    },
    {
      "cell_type": "code",
      "source": [
        "cf_lvmh=lvmh.cash_flow\n",
        "FCF_lvmh = cf_lvmh.loc['Free Cash Flow']\n",
        "FCF_lvmh = pd.DataFrame (FCF_lvmh)\n",
        "#FCF_lvmh.index = [2022,2021,2020]\n",
        "FCF_lvmh = FCF_lvmh.sort_index()\n",
        "FCF_lvmh"
      ],
      "metadata": {
        "colab": {
          "base_uri": "https://localhost:8080/",
          "height": 175
        },
        "id": "f3i8StkyLxyq",
        "outputId": "2063c2c8-67e1-43a6-b056-2aa1ee9daa35"
      },
      "execution_count": null,
      "outputs": [
        {
          "output_type": "execute_result",
          "data": {
            "text/plain": [
              "           Free Cash Flow\n",
              "2020-12-31   8433000000.0\n",
              "2021-12-31  15392000000.0\n",
              "2022-12-31  12753000000.0\n",
              "2023-12-31  10596000000.0"
            ],
            "text/html": [
              "\n",
              "  <div id=\"df-b4d35d08-fa56-4345-b5ae-9cc43bf12f56\" class=\"colab-df-container\">\n",
              "    <div>\n",
              "<style scoped>\n",
              "    .dataframe tbody tr th:only-of-type {\n",
              "        vertical-align: middle;\n",
              "    }\n",
              "\n",
              "    .dataframe tbody tr th {\n",
              "        vertical-align: top;\n",
              "    }\n",
              "\n",
              "    .dataframe thead th {\n",
              "        text-align: right;\n",
              "    }\n",
              "</style>\n",
              "<table border=\"1\" class=\"dataframe\">\n",
              "  <thead>\n",
              "    <tr style=\"text-align: right;\">\n",
              "      <th></th>\n",
              "      <th>Free Cash Flow</th>\n",
              "    </tr>\n",
              "  </thead>\n",
              "  <tbody>\n",
              "    <tr>\n",
              "      <th>2020-12-31</th>\n",
              "      <td>8433000000.0</td>\n",
              "    </tr>\n",
              "    <tr>\n",
              "      <th>2021-12-31</th>\n",
              "      <td>15392000000.0</td>\n",
              "    </tr>\n",
              "    <tr>\n",
              "      <th>2022-12-31</th>\n",
              "      <td>12753000000.0</td>\n",
              "    </tr>\n",
              "    <tr>\n",
              "      <th>2023-12-31</th>\n",
              "      <td>10596000000.0</td>\n",
              "    </tr>\n",
              "  </tbody>\n",
              "</table>\n",
              "</div>\n",
              "    <div class=\"colab-df-buttons\">\n",
              "\n",
              "  <div class=\"colab-df-container\">\n",
              "    <button class=\"colab-df-convert\" onclick=\"convertToInteractive('df-b4d35d08-fa56-4345-b5ae-9cc43bf12f56')\"\n",
              "            title=\"Convert this dataframe to an interactive table.\"\n",
              "            style=\"display:none;\">\n",
              "\n",
              "  <svg xmlns=\"http://www.w3.org/2000/svg\" height=\"24px\" viewBox=\"0 -960 960 960\">\n",
              "    <path d=\"M120-120v-720h720v720H120Zm60-500h600v-160H180v160Zm220 220h160v-160H400v160Zm0 220h160v-160H400v160ZM180-400h160v-160H180v160Zm440 0h160v-160H620v160ZM180-180h160v-160H180v160Zm440 0h160v-160H620v160Z\"/>\n",
              "  </svg>\n",
              "    </button>\n",
              "\n",
              "  <style>\n",
              "    .colab-df-container {\n",
              "      display:flex;\n",
              "      gap: 12px;\n",
              "    }\n",
              "\n",
              "    .colab-df-convert {\n",
              "      background-color: #E8F0FE;\n",
              "      border: none;\n",
              "      border-radius: 50%;\n",
              "      cursor: pointer;\n",
              "      display: none;\n",
              "      fill: #1967D2;\n",
              "      height: 32px;\n",
              "      padding: 0 0 0 0;\n",
              "      width: 32px;\n",
              "    }\n",
              "\n",
              "    .colab-df-convert:hover {\n",
              "      background-color: #E2EBFA;\n",
              "      box-shadow: 0px 1px 2px rgba(60, 64, 67, 0.3), 0px 1px 3px 1px rgba(60, 64, 67, 0.15);\n",
              "      fill: #174EA6;\n",
              "    }\n",
              "\n",
              "    .colab-df-buttons div {\n",
              "      margin-bottom: 4px;\n",
              "    }\n",
              "\n",
              "    [theme=dark] .colab-df-convert {\n",
              "      background-color: #3B4455;\n",
              "      fill: #D2E3FC;\n",
              "    }\n",
              "\n",
              "    [theme=dark] .colab-df-convert:hover {\n",
              "      background-color: #434B5C;\n",
              "      box-shadow: 0px 1px 3px 1px rgba(0, 0, 0, 0.15);\n",
              "      filter: drop-shadow(0px 1px 2px rgba(0, 0, 0, 0.3));\n",
              "      fill: #FFFFFF;\n",
              "    }\n",
              "  </style>\n",
              "\n",
              "    <script>\n",
              "      const buttonEl =\n",
              "        document.querySelector('#df-b4d35d08-fa56-4345-b5ae-9cc43bf12f56 button.colab-df-convert');\n",
              "      buttonEl.style.display =\n",
              "        google.colab.kernel.accessAllowed ? 'block' : 'none';\n",
              "\n",
              "      async function convertToInteractive(key) {\n",
              "        const element = document.querySelector('#df-b4d35d08-fa56-4345-b5ae-9cc43bf12f56');\n",
              "        const dataTable =\n",
              "          await google.colab.kernel.invokeFunction('convertToInteractive',\n",
              "                                                    [key], {});\n",
              "        if (!dataTable) return;\n",
              "\n",
              "        const docLinkHtml = 'Like what you see? Visit the ' +\n",
              "          '<a target=\"_blank\" href=https://colab.research.google.com/notebooks/data_table.ipynb>data table notebook</a>'\n",
              "          + ' to learn more about interactive tables.';\n",
              "        element.innerHTML = '';\n",
              "        dataTable['output_type'] = 'display_data';\n",
              "        await google.colab.output.renderOutput(dataTable, element);\n",
              "        const docLink = document.createElement('div');\n",
              "        docLink.innerHTML = docLinkHtml;\n",
              "        element.appendChild(docLink);\n",
              "      }\n",
              "    </script>\n",
              "  </div>\n",
              "\n",
              "\n",
              "<div id=\"df-81e95b2d-d53b-49c1-82a0-002f78cf524f\">\n",
              "  <button class=\"colab-df-quickchart\" onclick=\"quickchart('df-81e95b2d-d53b-49c1-82a0-002f78cf524f')\"\n",
              "            title=\"Suggest charts\"\n",
              "            style=\"display:none;\">\n",
              "\n",
              "<svg xmlns=\"http://www.w3.org/2000/svg\" height=\"24px\"viewBox=\"0 0 24 24\"\n",
              "     width=\"24px\">\n",
              "    <g>\n",
              "        <path d=\"M19 3H5c-1.1 0-2 .9-2 2v14c0 1.1.9 2 2 2h14c1.1 0 2-.9 2-2V5c0-1.1-.9-2-2-2zM9 17H7v-7h2v7zm4 0h-2V7h2v10zm4 0h-2v-4h2v4z\"/>\n",
              "    </g>\n",
              "</svg>\n",
              "  </button>\n",
              "\n",
              "<style>\n",
              "  .colab-df-quickchart {\n",
              "      --bg-color: #E8F0FE;\n",
              "      --fill-color: #1967D2;\n",
              "      --hover-bg-color: #E2EBFA;\n",
              "      --hover-fill-color: #174EA6;\n",
              "      --disabled-fill-color: #AAA;\n",
              "      --disabled-bg-color: #DDD;\n",
              "  }\n",
              "\n",
              "  [theme=dark] .colab-df-quickchart {\n",
              "      --bg-color: #3B4455;\n",
              "      --fill-color: #D2E3FC;\n",
              "      --hover-bg-color: #434B5C;\n",
              "      --hover-fill-color: #FFFFFF;\n",
              "      --disabled-bg-color: #3B4455;\n",
              "      --disabled-fill-color: #666;\n",
              "  }\n",
              "\n",
              "  .colab-df-quickchart {\n",
              "    background-color: var(--bg-color);\n",
              "    border: none;\n",
              "    border-radius: 50%;\n",
              "    cursor: pointer;\n",
              "    display: none;\n",
              "    fill: var(--fill-color);\n",
              "    height: 32px;\n",
              "    padding: 0;\n",
              "    width: 32px;\n",
              "  }\n",
              "\n",
              "  .colab-df-quickchart:hover {\n",
              "    background-color: var(--hover-bg-color);\n",
              "    box-shadow: 0 1px 2px rgba(60, 64, 67, 0.3), 0 1px 3px 1px rgba(60, 64, 67, 0.15);\n",
              "    fill: var(--button-hover-fill-color);\n",
              "  }\n",
              "\n",
              "  .colab-df-quickchart-complete:disabled,\n",
              "  .colab-df-quickchart-complete:disabled:hover {\n",
              "    background-color: var(--disabled-bg-color);\n",
              "    fill: var(--disabled-fill-color);\n",
              "    box-shadow: none;\n",
              "  }\n",
              "\n",
              "  .colab-df-spinner {\n",
              "    border: 2px solid var(--fill-color);\n",
              "    border-color: transparent;\n",
              "    border-bottom-color: var(--fill-color);\n",
              "    animation:\n",
              "      spin 1s steps(1) infinite;\n",
              "  }\n",
              "\n",
              "  @keyframes spin {\n",
              "    0% {\n",
              "      border-color: transparent;\n",
              "      border-bottom-color: var(--fill-color);\n",
              "      border-left-color: var(--fill-color);\n",
              "    }\n",
              "    20% {\n",
              "      border-color: transparent;\n",
              "      border-left-color: var(--fill-color);\n",
              "      border-top-color: var(--fill-color);\n",
              "    }\n",
              "    30% {\n",
              "      border-color: transparent;\n",
              "      border-left-color: var(--fill-color);\n",
              "      border-top-color: var(--fill-color);\n",
              "      border-right-color: var(--fill-color);\n",
              "    }\n",
              "    40% {\n",
              "      border-color: transparent;\n",
              "      border-right-color: var(--fill-color);\n",
              "      border-top-color: var(--fill-color);\n",
              "    }\n",
              "    60% {\n",
              "      border-color: transparent;\n",
              "      border-right-color: var(--fill-color);\n",
              "    }\n",
              "    80% {\n",
              "      border-color: transparent;\n",
              "      border-right-color: var(--fill-color);\n",
              "      border-bottom-color: var(--fill-color);\n",
              "    }\n",
              "    90% {\n",
              "      border-color: transparent;\n",
              "      border-bottom-color: var(--fill-color);\n",
              "    }\n",
              "  }\n",
              "</style>\n",
              "\n",
              "  <script>\n",
              "    async function quickchart(key) {\n",
              "      const quickchartButtonEl =\n",
              "        document.querySelector('#' + key + ' button');\n",
              "      quickchartButtonEl.disabled = true;  // To prevent multiple clicks.\n",
              "      quickchartButtonEl.classList.add('colab-df-spinner');\n",
              "      try {\n",
              "        const charts = await google.colab.kernel.invokeFunction(\n",
              "            'suggestCharts', [key], {});\n",
              "      } catch (error) {\n",
              "        console.error('Error during call to suggestCharts:', error);\n",
              "      }\n",
              "      quickchartButtonEl.classList.remove('colab-df-spinner');\n",
              "      quickchartButtonEl.classList.add('colab-df-quickchart-complete');\n",
              "    }\n",
              "    (() => {\n",
              "      let quickchartButtonEl =\n",
              "        document.querySelector('#df-81e95b2d-d53b-49c1-82a0-002f78cf524f button');\n",
              "      quickchartButtonEl.style.display =\n",
              "        google.colab.kernel.accessAllowed ? 'block' : 'none';\n",
              "    })();\n",
              "  </script>\n",
              "</div>\n",
              "    </div>\n",
              "  </div>\n"
            ],
            "application/vnd.google.colaboratory.intrinsic+json": {
              "type": "dataframe",
              "variable_name": "FCF_lvmh",
              "summary": "{\n  \"name\": \"FCF_lvmh\",\n  \"rows\": 4,\n  \"fields\": [\n    {\n      \"column\": \"Free Cash Flow\",\n      \"properties\": {\n        \"dtype\": \"date\",\n        \"min\": 8433000000.0,\n        \"max\": 15392000000.0,\n        \"num_unique_values\": 4,\n        \"samples\": [\n          15392000000.0,\n          10596000000.0,\n          8433000000.0\n        ],\n        \"semantic_type\": \"\",\n        \"description\": \"\"\n      }\n    }\n  ]\n}"
            }
          },
          "metadata": {},
          "execution_count": 12
        }
      ]
    },
    {
      "cell_type": "code",
      "source": [
        "g= 0.05\n",
        "pv_fcf = (17681000000 / (1 + r)) + (20101000000 / (1 + r)**2) + (23080000000 / (1 + r)**3) + (( (23080000000* (1+g)) / (r - g)) * (1 / (1 + r)**3))\n",
        "pv_fcf\n",
        "net_debt = 27181000000\n",
        "equity = pv_fcf - net_debt\n",
        "pps = equity / lvmh.info.get('sharesOutstanding')\n",
        "pps"
      ],
      "metadata": {
        "colab": {
          "base_uri": "https://localhost:8080/"
        },
        "id": "6hF2R3XGNBrz",
        "outputId": "a6476c55-a64e-48a3-a2be-881f8020f5b0"
      },
      "execution_count": null,
      "outputs": [
        {
          "output_type": "execute_result",
          "data": {
            "text/plain": [
              "1568.5215347326807"
            ]
          },
          "metadata": {},
          "execution_count": 13
        }
      ]
    },
    {
      "cell_type": "markdown",
      "source": [
        "\n",
        "\n",
        "---\n",
        "\n"
      ],
      "metadata": {
        "id": "9c7RVs2xba3Q"
      }
    },
    {
      "cell_type": "markdown",
      "source": [
        "##**EVALUATION BY COMPARABLES LVMH**"
      ],
      "metadata": {
        "id": "3msSB_Bybdqf"
      }
    },
    {
      "cell_type": "code",
      "source": [
        "# @title\n",
        "comparables = ['MC.PA' ,'KER.PA', 'RMS.PA', 'CFR.SW', 'CDI.PA', 'BRBY.L']\n",
        "\n",
        "\n",
        "tickers = comparables\n",
        "\n",
        "financials = {}\n",
        "# Loop through each ticker symbol\n",
        "for ticker in tickers:\n",
        "\n",
        "  # Fetch the ticker object\n",
        "  obj = yf.Ticker(ticker)\n",
        "\n",
        "  # Get the company's financial information\n",
        "  info = obj.info\n",
        "\n",
        "  # Get the historical prices for this ticker, '1d' for the latest available day\n",
        "  tickerDf = obj.history(period='1d')\n",
        "\n",
        "  # Get the last closing price\n",
        "  if ticker != 'MC.PA':\n",
        "    closingPrice = tickerDf['Close'].iloc[-1]\n",
        "  else:\n",
        "    closingPrice = None\n",
        "\n",
        "  # Populate our financials dictionary with the data\n",
        "  financials[ticker] = {\n",
        "      'P/B': info.get('priceToBook'),\n",
        "      'DivYield': info.get('dividendYield'),\n",
        "      'EPS': info.get('trailingEps'),\n",
        "      'P/E': info.get('trailingPE'),\n",
        "      'StockPrice': closingPrice  # Adding the last closing price\n",
        "  }\n",
        "\n",
        "# Convert to DataFrame\n",
        "df_financials = pd.DataFrame (financials).T\n",
        "\n",
        "df_financials\n"
      ],
      "metadata": {
        "colab": {
          "base_uri": "https://localhost:8080/",
          "height": 238
        },
        "id": "jks-mqy2c2Zs",
        "outputId": "cdcdff52-5b06-4c6d-9c46-ead032eed993",
        "cellView": "form"
      },
      "execution_count": null,
      "outputs": [
        {
          "output_type": "execute_result",
          "data": {
            "text/plain": [
              "               P/B  DivYield    EPS        P/E   StockPrice\n",
              "MC.PA     6.485310    0.0164  30.34  26.110744          NaN\n",
              "KER.PA    2.723251    0.0414  24.37  13.867460   337.950012\n",
              "RMS.PA   16.190817    0.0064  41.13  57.135910  2350.000000\n",
              "CFR.SW    3.914682    0.0193   6.71  19.351715   129.850006\n",
              "CDI.PA    6.210087    0.0175  34.90  21.232090   741.000000\n",
              "BRBY.L  381.583300    0.0545   1.19   9.680673  1152.000000"
            ],
            "text/html": [
              "\n",
              "  <div id=\"df-8c7d4dca-c05e-4578-9175-506b95d427bf\" class=\"colab-df-container\">\n",
              "    <div>\n",
              "<style scoped>\n",
              "    .dataframe tbody tr th:only-of-type {\n",
              "        vertical-align: middle;\n",
              "    }\n",
              "\n",
              "    .dataframe tbody tr th {\n",
              "        vertical-align: top;\n",
              "    }\n",
              "\n",
              "    .dataframe thead th {\n",
              "        text-align: right;\n",
              "    }\n",
              "</style>\n",
              "<table border=\"1\" class=\"dataframe\">\n",
              "  <thead>\n",
              "    <tr style=\"text-align: right;\">\n",
              "      <th></th>\n",
              "      <th>P/B</th>\n",
              "      <th>DivYield</th>\n",
              "      <th>EPS</th>\n",
              "      <th>P/E</th>\n",
              "      <th>StockPrice</th>\n",
              "    </tr>\n",
              "  </thead>\n",
              "  <tbody>\n",
              "    <tr>\n",
              "      <th>MC.PA</th>\n",
              "      <td>6.485310</td>\n",
              "      <td>0.0164</td>\n",
              "      <td>30.34</td>\n",
              "      <td>26.110744</td>\n",
              "      <td>NaN</td>\n",
              "    </tr>\n",
              "    <tr>\n",
              "      <th>KER.PA</th>\n",
              "      <td>2.723251</td>\n",
              "      <td>0.0414</td>\n",
              "      <td>24.37</td>\n",
              "      <td>13.867460</td>\n",
              "      <td>337.950012</td>\n",
              "    </tr>\n",
              "    <tr>\n",
              "      <th>RMS.PA</th>\n",
              "      <td>16.190817</td>\n",
              "      <td>0.0064</td>\n",
              "      <td>41.13</td>\n",
              "      <td>57.135910</td>\n",
              "      <td>2350.000000</td>\n",
              "    </tr>\n",
              "    <tr>\n",
              "      <th>CFR.SW</th>\n",
              "      <td>3.914682</td>\n",
              "      <td>0.0193</td>\n",
              "      <td>6.71</td>\n",
              "      <td>19.351715</td>\n",
              "      <td>129.850006</td>\n",
              "    </tr>\n",
              "    <tr>\n",
              "      <th>CDI.PA</th>\n",
              "      <td>6.210087</td>\n",
              "      <td>0.0175</td>\n",
              "      <td>34.90</td>\n",
              "      <td>21.232090</td>\n",
              "      <td>741.000000</td>\n",
              "    </tr>\n",
              "    <tr>\n",
              "      <th>BRBY.L</th>\n",
              "      <td>381.583300</td>\n",
              "      <td>0.0545</td>\n",
              "      <td>1.19</td>\n",
              "      <td>9.680673</td>\n",
              "      <td>1152.000000</td>\n",
              "    </tr>\n",
              "  </tbody>\n",
              "</table>\n",
              "</div>\n",
              "    <div class=\"colab-df-buttons\">\n",
              "\n",
              "  <div class=\"colab-df-container\">\n",
              "    <button class=\"colab-df-convert\" onclick=\"convertToInteractive('df-8c7d4dca-c05e-4578-9175-506b95d427bf')\"\n",
              "            title=\"Convert this dataframe to an interactive table.\"\n",
              "            style=\"display:none;\">\n",
              "\n",
              "  <svg xmlns=\"http://www.w3.org/2000/svg\" height=\"24px\" viewBox=\"0 -960 960 960\">\n",
              "    <path d=\"M120-120v-720h720v720H120Zm60-500h600v-160H180v160Zm220 220h160v-160H400v160Zm0 220h160v-160H400v160ZM180-400h160v-160H180v160Zm440 0h160v-160H620v160ZM180-180h160v-160H180v160Zm440 0h160v-160H620v160Z\"/>\n",
              "  </svg>\n",
              "    </button>\n",
              "\n",
              "  <style>\n",
              "    .colab-df-container {\n",
              "      display:flex;\n",
              "      gap: 12px;\n",
              "    }\n",
              "\n",
              "    .colab-df-convert {\n",
              "      background-color: #E8F0FE;\n",
              "      border: none;\n",
              "      border-radius: 50%;\n",
              "      cursor: pointer;\n",
              "      display: none;\n",
              "      fill: #1967D2;\n",
              "      height: 32px;\n",
              "      padding: 0 0 0 0;\n",
              "      width: 32px;\n",
              "    }\n",
              "\n",
              "    .colab-df-convert:hover {\n",
              "      background-color: #E2EBFA;\n",
              "      box-shadow: 0px 1px 2px rgba(60, 64, 67, 0.3), 0px 1px 3px 1px rgba(60, 64, 67, 0.15);\n",
              "      fill: #174EA6;\n",
              "    }\n",
              "\n",
              "    .colab-df-buttons div {\n",
              "      margin-bottom: 4px;\n",
              "    }\n",
              "\n",
              "    [theme=dark] .colab-df-convert {\n",
              "      background-color: #3B4455;\n",
              "      fill: #D2E3FC;\n",
              "    }\n",
              "\n",
              "    [theme=dark] .colab-df-convert:hover {\n",
              "      background-color: #434B5C;\n",
              "      box-shadow: 0px 1px 3px 1px rgba(0, 0, 0, 0.15);\n",
              "      filter: drop-shadow(0px 1px 2px rgba(0, 0, 0, 0.3));\n",
              "      fill: #FFFFFF;\n",
              "    }\n",
              "  </style>\n",
              "\n",
              "    <script>\n",
              "      const buttonEl =\n",
              "        document.querySelector('#df-8c7d4dca-c05e-4578-9175-506b95d427bf button.colab-df-convert');\n",
              "      buttonEl.style.display =\n",
              "        google.colab.kernel.accessAllowed ? 'block' : 'none';\n",
              "\n",
              "      async function convertToInteractive(key) {\n",
              "        const element = document.querySelector('#df-8c7d4dca-c05e-4578-9175-506b95d427bf');\n",
              "        const dataTable =\n",
              "          await google.colab.kernel.invokeFunction('convertToInteractive',\n",
              "                                                    [key], {});\n",
              "        if (!dataTable) return;\n",
              "\n",
              "        const docLinkHtml = 'Like what you see? Visit the ' +\n",
              "          '<a target=\"_blank\" href=https://colab.research.google.com/notebooks/data_table.ipynb>data table notebook</a>'\n",
              "          + ' to learn more about interactive tables.';\n",
              "        element.innerHTML = '';\n",
              "        dataTable['output_type'] = 'display_data';\n",
              "        await google.colab.output.renderOutput(dataTable, element);\n",
              "        const docLink = document.createElement('div');\n",
              "        docLink.innerHTML = docLinkHtml;\n",
              "        element.appendChild(docLink);\n",
              "      }\n",
              "    </script>\n",
              "  </div>\n",
              "\n",
              "\n",
              "<div id=\"df-84530cf7-74ca-4c35-8920-355bf77324db\">\n",
              "  <button class=\"colab-df-quickchart\" onclick=\"quickchart('df-84530cf7-74ca-4c35-8920-355bf77324db')\"\n",
              "            title=\"Suggest charts\"\n",
              "            style=\"display:none;\">\n",
              "\n",
              "<svg xmlns=\"http://www.w3.org/2000/svg\" height=\"24px\"viewBox=\"0 0 24 24\"\n",
              "     width=\"24px\">\n",
              "    <g>\n",
              "        <path d=\"M19 3H5c-1.1 0-2 .9-2 2v14c0 1.1.9 2 2 2h14c1.1 0 2-.9 2-2V5c0-1.1-.9-2-2-2zM9 17H7v-7h2v7zm4 0h-2V7h2v10zm4 0h-2v-4h2v4z\"/>\n",
              "    </g>\n",
              "</svg>\n",
              "  </button>\n",
              "\n",
              "<style>\n",
              "  .colab-df-quickchart {\n",
              "      --bg-color: #E8F0FE;\n",
              "      --fill-color: #1967D2;\n",
              "      --hover-bg-color: #E2EBFA;\n",
              "      --hover-fill-color: #174EA6;\n",
              "      --disabled-fill-color: #AAA;\n",
              "      --disabled-bg-color: #DDD;\n",
              "  }\n",
              "\n",
              "  [theme=dark] .colab-df-quickchart {\n",
              "      --bg-color: #3B4455;\n",
              "      --fill-color: #D2E3FC;\n",
              "      --hover-bg-color: #434B5C;\n",
              "      --hover-fill-color: #FFFFFF;\n",
              "      --disabled-bg-color: #3B4455;\n",
              "      --disabled-fill-color: #666;\n",
              "  }\n",
              "\n",
              "  .colab-df-quickchart {\n",
              "    background-color: var(--bg-color);\n",
              "    border: none;\n",
              "    border-radius: 50%;\n",
              "    cursor: pointer;\n",
              "    display: none;\n",
              "    fill: var(--fill-color);\n",
              "    height: 32px;\n",
              "    padding: 0;\n",
              "    width: 32px;\n",
              "  }\n",
              "\n",
              "  .colab-df-quickchart:hover {\n",
              "    background-color: var(--hover-bg-color);\n",
              "    box-shadow: 0 1px 2px rgba(60, 64, 67, 0.3), 0 1px 3px 1px rgba(60, 64, 67, 0.15);\n",
              "    fill: var(--button-hover-fill-color);\n",
              "  }\n",
              "\n",
              "  .colab-df-quickchart-complete:disabled,\n",
              "  .colab-df-quickchart-complete:disabled:hover {\n",
              "    background-color: var(--disabled-bg-color);\n",
              "    fill: var(--disabled-fill-color);\n",
              "    box-shadow: none;\n",
              "  }\n",
              "\n",
              "  .colab-df-spinner {\n",
              "    border: 2px solid var(--fill-color);\n",
              "    border-color: transparent;\n",
              "    border-bottom-color: var(--fill-color);\n",
              "    animation:\n",
              "      spin 1s steps(1) infinite;\n",
              "  }\n",
              "\n",
              "  @keyframes spin {\n",
              "    0% {\n",
              "      border-color: transparent;\n",
              "      border-bottom-color: var(--fill-color);\n",
              "      border-left-color: var(--fill-color);\n",
              "    }\n",
              "    20% {\n",
              "      border-color: transparent;\n",
              "      border-left-color: var(--fill-color);\n",
              "      border-top-color: var(--fill-color);\n",
              "    }\n",
              "    30% {\n",
              "      border-color: transparent;\n",
              "      border-left-color: var(--fill-color);\n",
              "      border-top-color: var(--fill-color);\n",
              "      border-right-color: var(--fill-color);\n",
              "    }\n",
              "    40% {\n",
              "      border-color: transparent;\n",
              "      border-right-color: var(--fill-color);\n",
              "      border-top-color: var(--fill-color);\n",
              "    }\n",
              "    60% {\n",
              "      border-color: transparent;\n",
              "      border-right-color: var(--fill-color);\n",
              "    }\n",
              "    80% {\n",
              "      border-color: transparent;\n",
              "      border-right-color: var(--fill-color);\n",
              "      border-bottom-color: var(--fill-color);\n",
              "    }\n",
              "    90% {\n",
              "      border-color: transparent;\n",
              "      border-bottom-color: var(--fill-color);\n",
              "    }\n",
              "  }\n",
              "</style>\n",
              "\n",
              "  <script>\n",
              "    async function quickchart(key) {\n",
              "      const quickchartButtonEl =\n",
              "        document.querySelector('#' + key + ' button');\n",
              "      quickchartButtonEl.disabled = true;  // To prevent multiple clicks.\n",
              "      quickchartButtonEl.classList.add('colab-df-spinner');\n",
              "      try {\n",
              "        const charts = await google.colab.kernel.invokeFunction(\n",
              "            'suggestCharts', [key], {});\n",
              "      } catch (error) {\n",
              "        console.error('Error during call to suggestCharts:', error);\n",
              "      }\n",
              "      quickchartButtonEl.classList.remove('colab-df-spinner');\n",
              "      quickchartButtonEl.classList.add('colab-df-quickchart-complete');\n",
              "    }\n",
              "    (() => {\n",
              "      let quickchartButtonEl =\n",
              "        document.querySelector('#df-84530cf7-74ca-4c35-8920-355bf77324db button');\n",
              "      quickchartButtonEl.style.display =\n",
              "        google.colab.kernel.accessAllowed ? 'block' : 'none';\n",
              "    })();\n",
              "  </script>\n",
              "</div>\n",
              "    </div>\n",
              "  </div>\n"
            ],
            "application/vnd.google.colaboratory.intrinsic+json": {
              "type": "dataframe",
              "variable_name": "df_financials",
              "summary": "{\n  \"name\": \"df_financials\",\n  \"rows\": 6,\n  \"fields\": [\n    {\n      \"column\": \"P/B\",\n      \"properties\": {\n        \"dtype\": \"number\",\n        \"std\": 152.95416669992818,\n        \"min\": 2.723251,\n        \"max\": 381.5833,\n        \"num_unique_values\": 6,\n        \"samples\": [\n          6.4853096,\n          2.723251,\n          381.5833\n        ],\n        \"semantic_type\": \"\",\n        \"description\": \"\"\n      }\n    },\n    {\n      \"column\": \"DivYield\",\n      \"properties\": {\n        \"dtype\": \"number\",\n        \"std\": 0.018126380480209873,\n        \"min\": 0.0064,\n        \"max\": 0.0545,\n        \"num_unique_values\": 6,\n        \"samples\": [\n          0.0164,\n          0.0414,\n          0.0545\n        ],\n        \"semantic_type\": \"\",\n        \"description\": \"\"\n      }\n    },\n    {\n      \"column\": \"EPS\",\n      \"properties\": {\n        \"dtype\": \"number\",\n        \"std\": 15.918739481085387,\n        \"min\": 1.19,\n        \"max\": 41.13,\n        \"num_unique_values\": 6,\n        \"samples\": [\n          30.34,\n          24.37,\n          1.19\n        ],\n        \"semantic_type\": \"\",\n        \"description\": \"\"\n      }\n    },\n    {\n      \"column\": \"P/E\",\n      \"properties\": {\n        \"dtype\": \"number\",\n        \"std\": 16.955946820541044,\n        \"min\": 9.680673,\n        \"max\": 57.13591,\n        \"num_unique_values\": 6,\n        \"samples\": [\n          26.110744,\n          13.86746,\n          9.680673\n        ],\n        \"semantic_type\": \"\",\n        \"description\": \"\"\n      }\n    },\n    {\n      \"column\": \"StockPrice\",\n      \"properties\": {\n        \"dtype\": \"number\",\n        \"std\": 879.1229823427559,\n        \"min\": 129.85000610351562,\n        \"max\": 2350.0,\n        \"num_unique_values\": 5,\n        \"samples\": [\n          2350.0,\n          1152.0,\n          129.85000610351562\n        ],\n        \"semantic_type\": \"\",\n        \"description\": \"\"\n      }\n    }\n  ]\n}"
            }
          },
          "metadata": {},
          "execution_count": 14
        }
      ]
    },
    {
      "cell_type": "code",
      "source": [
        "comparables = df_financials.drop('MC.PA')\n",
        "#P/E method\n",
        "avg_pe = comparables['P/E'].mean()\n",
        "price_pe= df_financials['EPS'][0]*avg_pe\n",
        "price_pe"
      ],
      "metadata": {
        "colab": {
          "base_uri": "https://localhost:8080/"
        },
        "id": "H_KL1PABsbET",
        "outputId": "74f2317e-fdc5-451d-e6f3-3c6a06d317aa"
      },
      "execution_count": null,
      "outputs": [
        {
          "output_type": "execute_result",
          "data": {
            "text/plain": [
              "735.853301664"
            ]
          },
          "metadata": {},
          "execution_count": 15
        }
      ]
    },
    {
      "cell_type": "code",
      "source": [
        "\n",
        "#P/B method\n",
        "avg_pb = comparables['P/B'].mean()\n",
        "bv=lvmh.balance_sheet.loc['Total Assets'] - lvmh.balance_sheet.loc['Total Liabilities Net Minority Interest']\n",
        "bvps=bv[0]/lvmh.info.get('sharesOutstanding')\n",
        "price_pb=bvps*avg_pb\n",
        "price_pb"
      ],
      "metadata": {
        "colab": {
          "base_uri": "https://localhost:8080/"
        },
        "id": "uzve0_0siox2",
        "outputId": "bf46ee28-cb2a-4d77-8113-2c7c17b8b27e"
      },
      "execution_count": null,
      "outputs": [
        {
          "output_type": "execute_result",
          "data": {
            "text/plain": [
              "10307.988799205734"
            ]
          },
          "metadata": {},
          "execution_count": 16
        }
      ]
    },
    {
      "cell_type": "markdown",
      "source": [
        "From the result above, the price is clearly overestimated and looking at the P/B ratios of the comparables, it makes sense since Burberry's P/B ratio is significantly higher than the others. This might compromise the P/B ratio mean and therefore the final price stock estimation. Thus, we replicate the estimation excluding Burberry."
      ],
      "metadata": {
        "id": "Pt7vwhrPoc93"
      }
    },
    {
      "cell_type": "code",
      "source": [
        "comparables1 = df_financials.drop('BRBY.L')\n",
        "\n",
        "#P/B method\n",
        "avg_pb = comparables1['P/B'].mean()\n",
        "bv=lvmh.balance_sheet.loc['Total Assets'] - lvmh.balance_sheet.loc['Total Liabilities Net Minority Interest']\n",
        "bvps=bv/lvmh.info.get('sharesOutstanding')\n",
        "\n",
        "price_pb1=lvmh.info.get('bookValue')*avg_pb\n",
        "\n",
        "price_pb1\n"
      ],
      "metadata": {
        "colab": {
          "base_uri": "https://localhost:8080/"
        },
        "id": "_kxA79RKresE",
        "outputId": "ae81fe67-b01f-451d-9f35-8b986aa05ebd"
      },
      "execution_count": null,
      "outputs": [
        {
          "output_type": "execute_result",
          "data": {
            "text/plain": [
              "867.8762330273801"
            ]
          },
          "metadata": {},
          "execution_count": 17
        }
      ]
    },
    {
      "cell_type": "code",
      "source": [
        "#DDM comparables\n",
        "\n",
        "avg_dy = comparables['DivYield'].mean()\n",
        "\n",
        "#note that r-g = dividend yield\n",
        "\n",
        "price_dy=annual_dividends_sum_lvmh.iloc[5]/avg_dy\n",
        "\n",
        "price_dy"
      ],
      "metadata": {
        "colab": {
          "base_uri": "https://localhost:8080/"
        },
        "id": "P3EE0p31snwH",
        "outputId": "d8ef6e01-1645-4cf4-8857-baa4d1f2c613"
      },
      "execution_count": null,
      "outputs": [
        {
          "output_type": "execute_result",
          "data": {
            "text/plain": [
              "269.5902247993546"
            ]
          },
          "metadata": {},
          "execution_count": 18
        }
      ]
    },
    {
      "cell_type": "markdown",
      "source": [
        "\n",
        "\n",
        "---\n",
        "\n"
      ],
      "metadata": {
        "id": "NXKMyWU2c0mn"
      }
    },
    {
      "cell_type": "markdown",
      "source": [
        "#**BONDS EVALUATION LVMH**"
      ],
      "metadata": {
        "id": "xYSR7gMLlEnR"
      }
    },
    {
      "cell_type": "markdown",
      "source": [
        "LVMH has issude few bonds over the past years.\n",
        "\n",
        "For instance we can try evaluate the price of the bond issued in September 2023,with maturity in 2033.\n",
        "The residual maturity (from now to 2033) is then 9 years.\n",
        "this bond has coupon of 3.5, and AA- rating, indicating a very high credit quality and a very low risk of default.\n",
        "\n",
        "The yield to maturity (YTM) of the bond can be estimated by adding the risk-free rate to a credit spread that reflects the bond's credit rating and maturity. For this particular bond, we can reference the 10-year German Bund as the benchmark for the risk-free rate, which currently stands at 2.29%. Given the bond's AA- rating and 10-year maturity, the applicable credit spread is 0.82%.\n",
        "\n",
        "Therefore, the YTM for LVMH's bond, which is an essential indicator of the return investors can expect if they hold the bond until it matures, is calculated by summing the risk-free rate (2.29%) and the credit spread (0.82%). This method provides a comprehensive measure of the bond's yield, taking into account both the general market interest rate environment and the specific credit risk associated with LVMH's bond."
      ],
      "metadata": {
        "id": "qWlC4uaXlqA_"
      }
    },
    {
      "cell_type": "code",
      "source": [
        "YTM_lvmh=(0.0229+0.0081)\n",
        "YTM_lvmh"
      ],
      "metadata": {
        "id": "Ni3Ynni_rlNS",
        "colab": {
          "base_uri": "https://localhost:8080/"
        },
        "outputId": "87953a65-c40a-4ecf-822f-ff6b76aa1c4b"
      },
      "execution_count": null,
      "outputs": [
        {
          "output_type": "execute_result",
          "data": {
            "text/plain": [
              "0.031"
            ]
          },
          "metadata": {},
          "execution_count": 19
        }
      ]
    },
    {
      "cell_type": "markdown",
      "source": [
        "Now we have all ingriedients to calculate the bond's price"
      ],
      "metadata": {
        "id": "PVKvuXiNu0NZ"
      }
    },
    {
      "cell_type": "code",
      "source": [
        "discount_factor=1+YTM_lvmh\n",
        "Bond_price=3.5/discount_factor + 3.5/(discount_factor)**2 + 3.5/(discount_factor)**3 + 3.5/(discount_factor)**4 + 3.5/(discount_factor)**5 + 3.5/(discount_factor)**6 + 3.5/(discount_factor)**7 + 3.5/(discount_factor)**8 + 103.5/(discount_factor)**9\n",
        "Bond_price"
      ],
      "metadata": {
        "id": "SAC2FqZ4sLNq",
        "colab": {
          "base_uri": "https://localhost:8080/"
        },
        "outputId": "0108632a-e438-4e09-f4c6-0a4f55272b8b"
      },
      "execution_count": null,
      "outputs": [
        {
          "output_type": "execute_result",
          "data": {
            "text/plain": [
              "103.09997057192854"
            ]
          },
          "metadata": {},
          "execution_count": 20
        }
      ]
    },
    {
      "cell_type": "markdown",
      "source": [
        "The price estimated is perfectly fair, since the value on bloomberg is €102.7"
      ],
      "metadata": {
        "id": "xWLua-tUtV4h"
      }
    },
    {
      "cell_type": "markdown",
      "source": [
        "#**BOND EVALUATION FERRAGAMO**\n",
        "Salvatore Ferragamo firm has issued very few bonds throught out its life, and right now there are no bonds active.\n",
        "However, for the sake of our project we will evaluate the price of a imaginable bond with maturity 10 years and coupon 3.5, issued in 2023.\n",
        "The residual maturity will be then 8 years.\n",
        "The yield to maturity in this case can be estimated by the cost of debt, calculated as the ratio between the interests of the company and its total dept.\n",
        "The cost of debt and YTM are conceptually linked because they both represent the return required by lenders or investors to compensate for the risk of lending to or investing in a company. While the cost of debt directly applies to loans and other forms of borrowing, estimating the YTM of a hypothetical bond with this cost is a logical extension, assuming the bond would be issued under similar terms and conditions as the existing debt."
      ],
      "metadata": {
        "id": "OJwMpDutwcBv"
      }
    },
    {
      "cell_type": "code",
      "source": [
        "balance_sheet=ferragamo.balance_sheet\n",
        "imcome_statement=ferragamo.incomestmt\n",
        "Total_Debt_ = ferragamo.balance_sheet.loc['Total Debt'][0]\n",
        "Interest_Expense_ = ferragamo.incomestmt.loc['Interest Expense'][0]\n",
        "Rd_ferr = Interest_Expense_  / Total_Debt_\n",
        "Rd_ferr"
      ],
      "metadata": {
        "id": "SV4CVwp4ov4H",
        "colab": {
          "base_uri": "https://localhost:8080/"
        },
        "outputId": "f86b2edf-e634-46f5-eccf-6d747b58ec66"
      },
      "execution_count": null,
      "outputs": [
        {
          "output_type": "execute_result",
          "data": {
            "text/plain": [
              "0.026636364989654094"
            ]
          },
          "metadata": {},
          "execution_count": 21
        }
      ]
    },
    {
      "cell_type": "code",
      "source": [
        "discount_factor=1+Rd_ferr\n",
        "Bond_price_f=3.5/discount_factor + 3.5/(discount_factor)**2 + 3.5/(discount_factor)**3 + 3.5/(discount_factor)**4 + 3.5/(discount_factor)**5 + 3.5/(discount_factor)**6 + 3.5/(discount_factor)**7 + 3.5/(discount_factor)**8+ 103.5/(discount_factor)**9\n",
        "Bond_price_f"
      ],
      "metadata": {
        "id": "y6qmmAfI0Ghw",
        "colab": {
          "base_uri": "https://localhost:8080/"
        },
        "outputId": "a818da77-0359-4f83-f841-1aefb091e1c4"
      },
      "execution_count": null,
      "outputs": [
        {
          "output_type": "execute_result",
          "data": {
            "text/plain": [
              "106.61537223462548"
            ]
          },
          "metadata": {},
          "execution_count": 22
        }
      ]
    },
    {
      "cell_type": "markdown",
      "source": [
        "€106.61 would be the fair price of a bond issued by ferragamo in 2023, with maturity 10 years."
      ],
      "metadata": {
        "id": "QC8L57s70fuB"
      }
    },
    {
      "cell_type": "markdown",
      "source": [
        "#**STOCK EVALUATION FERRAGAMO**\n",
        "\n",
        "---\n"
      ],
      "metadata": {
        "id": "UhVqzKVX9ySq"
      }
    },
    {
      "cell_type": "markdown",
      "source": [
        "## FCFE for Ferragamo\n",
        "\n",
        "The FCFE metric is often used by analysts in an attempt to determine the value of a company. This method of valuation gained popularity as an alternative to the dividend discount model (DDM), especially if a company does not pay a dividend.\n",
        "\n",
        "---\n",
        "We will use Ferragamo's Free Cash Flow to Equity to estimate the stock price since the firm didn't pay dividends in all the past 5 years, but only in 3 out of 5 (clearly the 2 years of Covid were those not paid). We will need the future FCF that we will try to estimate using future value formula and then we will take also the forcasted data from Bloomberg. Then we will make a comparison of the results. In order to get to the FCFE we will need also data about the Net Debt.\n"
      ],
      "metadata": {
        "id": "GgxZ5MZ5ETRz"
      }
    },
    {
      "cell_type": "code",
      "source": [
        "cash_flow=ferragamo.cash_flow\n",
        "FCF = cash_flow.loc['Free Cash Flow']\n",
        "FCF = pd.DataFrame (FCF)\n",
        "FCF.index = [2022,2021,2020]\n",
        "FCF = FCF.sort_index()\n",
        "newdata = pd.DataFrame({'Free Cash Flow': 45762000.0}, index=[2023])\n",
        "FCF = pd.concat([FCF, newdata])\n",
        "FCF"
      ],
      "metadata": {
        "id": "MZSJw7GNAVKj",
        "colab": {
          "base_uri": "https://localhost:8080/",
          "height": 175
        },
        "outputId": "83d25707-4817-4ec8-bd57-f8954c9f0989"
      },
      "execution_count": null,
      "outputs": [
        {
          "output_type": "execute_result",
          "data": {
            "text/plain": [
              "     Free Cash Flow\n",
              "2020     58521000.0\n",
              "2021    331642000.0\n",
              "2022    211209000.0\n",
              "2023     45762000.0"
            ],
            "text/html": [
              "\n",
              "  <div id=\"df-fedd0868-601c-4825-a919-7ad449bcca84\" class=\"colab-df-container\">\n",
              "    <div>\n",
              "<style scoped>\n",
              "    .dataframe tbody tr th:only-of-type {\n",
              "        vertical-align: middle;\n",
              "    }\n",
              "\n",
              "    .dataframe tbody tr th {\n",
              "        vertical-align: top;\n",
              "    }\n",
              "\n",
              "    .dataframe thead th {\n",
              "        text-align: right;\n",
              "    }\n",
              "</style>\n",
              "<table border=\"1\" class=\"dataframe\">\n",
              "  <thead>\n",
              "    <tr style=\"text-align: right;\">\n",
              "      <th></th>\n",
              "      <th>Free Cash Flow</th>\n",
              "    </tr>\n",
              "  </thead>\n",
              "  <tbody>\n",
              "    <tr>\n",
              "      <th>2020</th>\n",
              "      <td>58521000.0</td>\n",
              "    </tr>\n",
              "    <tr>\n",
              "      <th>2021</th>\n",
              "      <td>331642000.0</td>\n",
              "    </tr>\n",
              "    <tr>\n",
              "      <th>2022</th>\n",
              "      <td>211209000.0</td>\n",
              "    </tr>\n",
              "    <tr>\n",
              "      <th>2023</th>\n",
              "      <td>45762000.0</td>\n",
              "    </tr>\n",
              "  </tbody>\n",
              "</table>\n",
              "</div>\n",
              "    <div class=\"colab-df-buttons\">\n",
              "\n",
              "  <div class=\"colab-df-container\">\n",
              "    <button class=\"colab-df-convert\" onclick=\"convertToInteractive('df-fedd0868-601c-4825-a919-7ad449bcca84')\"\n",
              "            title=\"Convert this dataframe to an interactive table.\"\n",
              "            style=\"display:none;\">\n",
              "\n",
              "  <svg xmlns=\"http://www.w3.org/2000/svg\" height=\"24px\" viewBox=\"0 -960 960 960\">\n",
              "    <path d=\"M120-120v-720h720v720H120Zm60-500h600v-160H180v160Zm220 220h160v-160H400v160Zm0 220h160v-160H400v160ZM180-400h160v-160H180v160Zm440 0h160v-160H620v160ZM180-180h160v-160H180v160Zm440 0h160v-160H620v160Z\"/>\n",
              "  </svg>\n",
              "    </button>\n",
              "\n",
              "  <style>\n",
              "    .colab-df-container {\n",
              "      display:flex;\n",
              "      gap: 12px;\n",
              "    }\n",
              "\n",
              "    .colab-df-convert {\n",
              "      background-color: #E8F0FE;\n",
              "      border: none;\n",
              "      border-radius: 50%;\n",
              "      cursor: pointer;\n",
              "      display: none;\n",
              "      fill: #1967D2;\n",
              "      height: 32px;\n",
              "      padding: 0 0 0 0;\n",
              "      width: 32px;\n",
              "    }\n",
              "\n",
              "    .colab-df-convert:hover {\n",
              "      background-color: #E2EBFA;\n",
              "      box-shadow: 0px 1px 2px rgba(60, 64, 67, 0.3), 0px 1px 3px 1px rgba(60, 64, 67, 0.15);\n",
              "      fill: #174EA6;\n",
              "    }\n",
              "\n",
              "    .colab-df-buttons div {\n",
              "      margin-bottom: 4px;\n",
              "    }\n",
              "\n",
              "    [theme=dark] .colab-df-convert {\n",
              "      background-color: #3B4455;\n",
              "      fill: #D2E3FC;\n",
              "    }\n",
              "\n",
              "    [theme=dark] .colab-df-convert:hover {\n",
              "      background-color: #434B5C;\n",
              "      box-shadow: 0px 1px 3px 1px rgba(0, 0, 0, 0.15);\n",
              "      filter: drop-shadow(0px 1px 2px rgba(0, 0, 0, 0.3));\n",
              "      fill: #FFFFFF;\n",
              "    }\n",
              "  </style>\n",
              "\n",
              "    <script>\n",
              "      const buttonEl =\n",
              "        document.querySelector('#df-fedd0868-601c-4825-a919-7ad449bcca84 button.colab-df-convert');\n",
              "      buttonEl.style.display =\n",
              "        google.colab.kernel.accessAllowed ? 'block' : 'none';\n",
              "\n",
              "      async function convertToInteractive(key) {\n",
              "        const element = document.querySelector('#df-fedd0868-601c-4825-a919-7ad449bcca84');\n",
              "        const dataTable =\n",
              "          await google.colab.kernel.invokeFunction('convertToInteractive',\n",
              "                                                    [key], {});\n",
              "        if (!dataTable) return;\n",
              "\n",
              "        const docLinkHtml = 'Like what you see? Visit the ' +\n",
              "          '<a target=\"_blank\" href=https://colab.research.google.com/notebooks/data_table.ipynb>data table notebook</a>'\n",
              "          + ' to learn more about interactive tables.';\n",
              "        element.innerHTML = '';\n",
              "        dataTable['output_type'] = 'display_data';\n",
              "        await google.colab.output.renderOutput(dataTable, element);\n",
              "        const docLink = document.createElement('div');\n",
              "        docLink.innerHTML = docLinkHtml;\n",
              "        element.appendChild(docLink);\n",
              "      }\n",
              "    </script>\n",
              "  </div>\n",
              "\n",
              "\n",
              "<div id=\"df-f7f1bd75-71da-490d-802b-d343a0ba26aa\">\n",
              "  <button class=\"colab-df-quickchart\" onclick=\"quickchart('df-f7f1bd75-71da-490d-802b-d343a0ba26aa')\"\n",
              "            title=\"Suggest charts\"\n",
              "            style=\"display:none;\">\n",
              "\n",
              "<svg xmlns=\"http://www.w3.org/2000/svg\" height=\"24px\"viewBox=\"0 0 24 24\"\n",
              "     width=\"24px\">\n",
              "    <g>\n",
              "        <path d=\"M19 3H5c-1.1 0-2 .9-2 2v14c0 1.1.9 2 2 2h14c1.1 0 2-.9 2-2V5c0-1.1-.9-2-2-2zM9 17H7v-7h2v7zm4 0h-2V7h2v10zm4 0h-2v-4h2v4z\"/>\n",
              "    </g>\n",
              "</svg>\n",
              "  </button>\n",
              "\n",
              "<style>\n",
              "  .colab-df-quickchart {\n",
              "      --bg-color: #E8F0FE;\n",
              "      --fill-color: #1967D2;\n",
              "      --hover-bg-color: #E2EBFA;\n",
              "      --hover-fill-color: #174EA6;\n",
              "      --disabled-fill-color: #AAA;\n",
              "      --disabled-bg-color: #DDD;\n",
              "  }\n",
              "\n",
              "  [theme=dark] .colab-df-quickchart {\n",
              "      --bg-color: #3B4455;\n",
              "      --fill-color: #D2E3FC;\n",
              "      --hover-bg-color: #434B5C;\n",
              "      --hover-fill-color: #FFFFFF;\n",
              "      --disabled-bg-color: #3B4455;\n",
              "      --disabled-fill-color: #666;\n",
              "  }\n",
              "\n",
              "  .colab-df-quickchart {\n",
              "    background-color: var(--bg-color);\n",
              "    border: none;\n",
              "    border-radius: 50%;\n",
              "    cursor: pointer;\n",
              "    display: none;\n",
              "    fill: var(--fill-color);\n",
              "    height: 32px;\n",
              "    padding: 0;\n",
              "    width: 32px;\n",
              "  }\n",
              "\n",
              "  .colab-df-quickchart:hover {\n",
              "    background-color: var(--hover-bg-color);\n",
              "    box-shadow: 0 1px 2px rgba(60, 64, 67, 0.3), 0 1px 3px 1px rgba(60, 64, 67, 0.15);\n",
              "    fill: var(--button-hover-fill-color);\n",
              "  }\n",
              "\n",
              "  .colab-df-quickchart-complete:disabled,\n",
              "  .colab-df-quickchart-complete:disabled:hover {\n",
              "    background-color: var(--disabled-bg-color);\n",
              "    fill: var(--disabled-fill-color);\n",
              "    box-shadow: none;\n",
              "  }\n",
              "\n",
              "  .colab-df-spinner {\n",
              "    border: 2px solid var(--fill-color);\n",
              "    border-color: transparent;\n",
              "    border-bottom-color: var(--fill-color);\n",
              "    animation:\n",
              "      spin 1s steps(1) infinite;\n",
              "  }\n",
              "\n",
              "  @keyframes spin {\n",
              "    0% {\n",
              "      border-color: transparent;\n",
              "      border-bottom-color: var(--fill-color);\n",
              "      border-left-color: var(--fill-color);\n",
              "    }\n",
              "    20% {\n",
              "      border-color: transparent;\n",
              "      border-left-color: var(--fill-color);\n",
              "      border-top-color: var(--fill-color);\n",
              "    }\n",
              "    30% {\n",
              "      border-color: transparent;\n",
              "      border-left-color: var(--fill-color);\n",
              "      border-top-color: var(--fill-color);\n",
              "      border-right-color: var(--fill-color);\n",
              "    }\n",
              "    40% {\n",
              "      border-color: transparent;\n",
              "      border-right-color: var(--fill-color);\n",
              "      border-top-color: var(--fill-color);\n",
              "    }\n",
              "    60% {\n",
              "      border-color: transparent;\n",
              "      border-right-color: var(--fill-color);\n",
              "    }\n",
              "    80% {\n",
              "      border-color: transparent;\n",
              "      border-right-color: var(--fill-color);\n",
              "      border-bottom-color: var(--fill-color);\n",
              "    }\n",
              "    90% {\n",
              "      border-color: transparent;\n",
              "      border-bottom-color: var(--fill-color);\n",
              "    }\n",
              "  }\n",
              "</style>\n",
              "\n",
              "  <script>\n",
              "    async function quickchart(key) {\n",
              "      const quickchartButtonEl =\n",
              "        document.querySelector('#' + key + ' button');\n",
              "      quickchartButtonEl.disabled = true;  // To prevent multiple clicks.\n",
              "      quickchartButtonEl.classList.add('colab-df-spinner');\n",
              "      try {\n",
              "        const charts = await google.colab.kernel.invokeFunction(\n",
              "            'suggestCharts', [key], {});\n",
              "      } catch (error) {\n",
              "        console.error('Error during call to suggestCharts:', error);\n",
              "      }\n",
              "      quickchartButtonEl.classList.remove('colab-df-spinner');\n",
              "      quickchartButtonEl.classList.add('colab-df-quickchart-complete');\n",
              "    }\n",
              "    (() => {\n",
              "      let quickchartButtonEl =\n",
              "        document.querySelector('#df-f7f1bd75-71da-490d-802b-d343a0ba26aa button');\n",
              "      quickchartButtonEl.style.display =\n",
              "        google.colab.kernel.accessAllowed ? 'block' : 'none';\n",
              "    })();\n",
              "  </script>\n",
              "</div>\n",
              "    </div>\n",
              "  </div>\n"
            ],
            "application/vnd.google.colaboratory.intrinsic+json": {
              "type": "dataframe",
              "variable_name": "FCF",
              "repr_error": "0"
            }
          },
          "metadata": {},
          "execution_count": 23
        }
      ]
    },
    {
      "cell_type": "markdown",
      "source": [
        "We will apply the future value formula to forecast the Ferragamo's FCF of the next three years. We take the average of the past 4 FCF and we apply the formula calculating the cost of equity. we use the same risk-free rake\n"
      ],
      "metadata": {
        "id": "cLaU60eq_MMe"
      }
    },
    {
      "cell_type": "markdown",
      "source": [
        "as growth rate again we sum the inflation rate (2%) with a real growth rate suitable for ferragamo.\n",
        "Knowing that Ferragamo has struggled a little in the past years and it's now entering a phase of reshaping we opt for a more cautios value: 0.01"
      ],
      "metadata": {
        "id": "ztrJ_1OYCuLJ"
      }
    },
    {
      "cell_type": "markdown",
      "source": [],
      "metadata": {
        "id": "UFdheo_5M8TK"
      }
    },
    {
      "cell_type": "markdown",
      "source": [
        "## cost of equity and growth evaluation"
      ],
      "metadata": {
        "id": "8u1JAyPtFv25"
      }
    },
    {
      "cell_type": "code",
      "source": [
        "#EVALUATION COST OF EQUITY FERRAGAMO (CAPM)\n",
        "r_ferr=0.0229+ferragamo.info['beta']*0.0781\n",
        "g_ferr=0.02+0.01\n",
        "r_ferr"
      ],
      "metadata": {
        "id": "im5oaahDb5ZH",
        "colab": {
          "base_uri": "https://localhost:8080/"
        },
        "outputId": "6368975f-526f-449f-c033-d20bcea5ac13"
      },
      "execution_count": null,
      "outputs": [
        {
          "output_type": "execute_result",
          "data": {
            "text/plain": [
              "0.12036880000000001"
            ]
          },
          "metadata": {},
          "execution_count": 24
        }
      ]
    },
    {
      "cell_type": "markdown",
      "source": [
        "Now let's try doing this with the hystorical returns of the market index (FTSEMIB)"
      ],
      "metadata": {
        "id": "6pFVGSG2F6CK"
      }
    },
    {
      "cell_type": "code",
      "source": [
        "r_f= ((29975/10000) ** (1 / 26)) - 1\n",
        "r_f"
      ],
      "metadata": {
        "colab": {
          "base_uri": "https://localhost:8080/"
        },
        "id": "FLcMhm6rE6Lm",
        "outputId": "ecdd81ec-a988-46b3-878d-2db5081d93c9"
      },
      "execution_count": null,
      "outputs": [
        {
          "output_type": "execute_result",
          "data": {
            "text/plain": [
              "0.04312629213725061"
            ]
          },
          "metadata": {},
          "execution_count": 25
        }
      ]
    },
    {
      "cell_type": "markdown",
      "source": [
        "DFCF Method\n"
      ],
      "metadata": {
        "id": "5qlb6DX3NMiJ"
      }
    },
    {
      "cell_type": "code",
      "source": [
        "pv_fcf = P2_f = (86501000 / (1 + r_ferr)) + (95102000 / (1 + r_ferr)**2) + (109892000 / (1 + r_ferr)**3) + (( (109892000* (1+g_ferr)) / (r_ferr - g_ferr)) * (1 / (1 + r_ferr)**3))\n",
        "pv_fcf\n",
        "net_debt = 367125000\n",
        "equity_f = pv_fcf - net_debt\n",
        "pps = equity_f / ferragamo.info.get('sharesOutstanding')\n",
        "pps"
      ],
      "metadata": {
        "id": "rMEqAmYCbHK4",
        "colab": {
          "base_uri": "https://localhost:8080/"
        },
        "outputId": "5acfb1c8-1ff8-440f-d872-95a841472bfa"
      },
      "execution_count": null,
      "outputs": [
        {
          "output_type": "execute_result",
          "data": {
            "text/plain": [
              "4.558888993049038"
            ]
          },
          "metadata": {},
          "execution_count": 26
        }
      ]
    },
    {
      "cell_type": "markdown",
      "source": [
        "\n",
        "\n",
        "---\n",
        "\n",
        "\n",
        "##DDM model"
      ],
      "metadata": {
        "id": "3t6IXh0f8i6s"
      }
    },
    {
      "cell_type": "code",
      "source": [
        "\n",
        "P1_f = 0.096/(r_ferr - g_ferr)\n",
        "P1_f"
      ],
      "metadata": {
        "colab": {
          "base_uri": "https://localhost:8080/"
        },
        "id": "XG-c5TWfXK_V",
        "outputId": "92af36ad-2169-452f-b419-d5c96999fee5"
      },
      "execution_count": null,
      "outputs": [
        {
          "output_type": "execute_result",
          "data": {
            "text/plain": [
              "1.0623135418418745"
            ]
          },
          "metadata": {},
          "execution_count": 27
        }
      ]
    },
    {
      "cell_type": "code",
      "source": [
        "#Multi-staged DDM\n",
        "P2_f =( 0.096/ (1 + r_ferr)) + (0.177/ (1 + r_ferr)**2) + (0.25/ (1 + r_ferr)**3) + (0.26/ (1 + r_ferr)**4) + ((0.26* (1 + g_ferr)/ (r_ferr - g_ferr))* 1/(1+r_ferr)**4)\n",
        "P2_f"
      ],
      "metadata": {
        "colab": {
          "base_uri": "https://localhost:8080/"
        },
        "id": "Epk75GCHXL3-",
        "outputId": "d682abd9-be2c-4eb3-8461-a5bde12c358b"
      },
      "execution_count": null,
      "outputs": [
        {
          "output_type": "execute_result",
          "data": {
            "text/plain": [
              "2.4503065999062716"
            ]
          },
          "metadata": {},
          "execution_count": 28
        }
      ]
    },
    {
      "cell_type": "markdown",
      "source": [
        "\n",
        "\n",
        "---\n",
        "## Comparables FERRAGAMO\n"
      ],
      "metadata": {
        "id": "YFCScRoX-jI8"
      }
    },
    {
      "cell_type": "markdown",
      "source": [
        "\n",
        "\n",
        "---\n",
        "\n",
        "Comparables Ferragamo"
      ],
      "metadata": {
        "id": "qUuRjfISuymB"
      }
    },
    {
      "cell_type": "code",
      "source": [
        "tickers_f = ['SFER.MI','BC.MI' ,'PRP.F', 'TOD.MI','CPRI']\n",
        "\n",
        "financials_f = {}\n",
        "# Loop through each ticker symbol\n",
        "for ticker in tickers_f:\n",
        "\n",
        "  # Fetch the ticker object\n",
        "  obj = yf.Ticker(ticker)\n",
        "\n",
        "  # Get the company's financial information\n",
        "  info = obj.info\n",
        "\n",
        "  # Get the historical prices for this ticker, '1d' for the latest available day\n",
        "  tickerDf = obj.history(period='1d')\n",
        "\n",
        "  # Get the last closing price\n",
        "  if ticker != 'SFER.MI':\n",
        "    closingPrice = tickerDf['Close'].iloc[-1]\n",
        "  else:\n",
        "    closingPrice = None\n",
        "\n",
        "  # Populate our financials dictionary with the data\n",
        "  financials_f[ticker] = {\n",
        "      'P/B': info.get('priceToBook'),\n",
        "      'DivYield': info.get('dividendYield'),\n",
        "      'EPS': info.get('forwardEps'),\n",
        "      'P/E': info.get('forwardPE'),\n",
        "      'StockPrice': closingPrice  # Adding the last closing price\n",
        "  }\n",
        "\n",
        "# Convert to DataFrame\n",
        "df_financials_F = pd.DataFrame (financials_f).T\n",
        "\n",
        "df_financials_F\n",
        "\n"
      ],
      "metadata": {
        "id": "nqtBazHlu9Vf",
        "colab": {
          "base_uri": "https://localhost:8080/",
          "height": 207
        },
        "outputId": "b92aa24c-0ddb-4ad7-9c1c-0a137dc9cced"
      },
      "execution_count": null,
      "outputs": [
        {
          "output_type": "execute_result",
          "data": {
            "text/plain": [
              "               P/B  DivYield   EPS        P/E  StockPrice\n",
              "SFER.MI   2.184990    0.0105  0.22  43.272728         NaN\n",
              "BC.MI    14.945358    0.0094  2.12  45.801888   97.099998\n",
              "PRP.F     5.045153    0.0179   NaN        NaN    7.598000\n",
              "TOD.MI    1.304770       NaN   NaN        NaN   43.000000\n",
              "CPRI      2.136459       NaN  4.32   8.226851   35.540001"
            ],
            "text/html": [
              "\n",
              "  <div id=\"df-da2adcb9-a038-406b-b9a3-1754cfa9547f\" class=\"colab-df-container\">\n",
              "    <div>\n",
              "<style scoped>\n",
              "    .dataframe tbody tr th:only-of-type {\n",
              "        vertical-align: middle;\n",
              "    }\n",
              "\n",
              "    .dataframe tbody tr th {\n",
              "        vertical-align: top;\n",
              "    }\n",
              "\n",
              "    .dataframe thead th {\n",
              "        text-align: right;\n",
              "    }\n",
              "</style>\n",
              "<table border=\"1\" class=\"dataframe\">\n",
              "  <thead>\n",
              "    <tr style=\"text-align: right;\">\n",
              "      <th></th>\n",
              "      <th>P/B</th>\n",
              "      <th>DivYield</th>\n",
              "      <th>EPS</th>\n",
              "      <th>P/E</th>\n",
              "      <th>StockPrice</th>\n",
              "    </tr>\n",
              "  </thead>\n",
              "  <tbody>\n",
              "    <tr>\n",
              "      <th>SFER.MI</th>\n",
              "      <td>2.184990</td>\n",
              "      <td>0.0105</td>\n",
              "      <td>0.22</td>\n",
              "      <td>43.272728</td>\n",
              "      <td>NaN</td>\n",
              "    </tr>\n",
              "    <tr>\n",
              "      <th>BC.MI</th>\n",
              "      <td>14.945358</td>\n",
              "      <td>0.0094</td>\n",
              "      <td>2.12</td>\n",
              "      <td>45.801888</td>\n",
              "      <td>97.099998</td>\n",
              "    </tr>\n",
              "    <tr>\n",
              "      <th>PRP.F</th>\n",
              "      <td>5.045153</td>\n",
              "      <td>0.0179</td>\n",
              "      <td>NaN</td>\n",
              "      <td>NaN</td>\n",
              "      <td>7.598000</td>\n",
              "    </tr>\n",
              "    <tr>\n",
              "      <th>TOD.MI</th>\n",
              "      <td>1.304770</td>\n",
              "      <td>NaN</td>\n",
              "      <td>NaN</td>\n",
              "      <td>NaN</td>\n",
              "      <td>43.000000</td>\n",
              "    </tr>\n",
              "    <tr>\n",
              "      <th>CPRI</th>\n",
              "      <td>2.136459</td>\n",
              "      <td>NaN</td>\n",
              "      <td>4.32</td>\n",
              "      <td>8.226851</td>\n",
              "      <td>35.540001</td>\n",
              "    </tr>\n",
              "  </tbody>\n",
              "</table>\n",
              "</div>\n",
              "    <div class=\"colab-df-buttons\">\n",
              "\n",
              "  <div class=\"colab-df-container\">\n",
              "    <button class=\"colab-df-convert\" onclick=\"convertToInteractive('df-da2adcb9-a038-406b-b9a3-1754cfa9547f')\"\n",
              "            title=\"Convert this dataframe to an interactive table.\"\n",
              "            style=\"display:none;\">\n",
              "\n",
              "  <svg xmlns=\"http://www.w3.org/2000/svg\" height=\"24px\" viewBox=\"0 -960 960 960\">\n",
              "    <path d=\"M120-120v-720h720v720H120Zm60-500h600v-160H180v160Zm220 220h160v-160H400v160Zm0 220h160v-160H400v160ZM180-400h160v-160H180v160Zm440 0h160v-160H620v160ZM180-180h160v-160H180v160Zm440 0h160v-160H620v160Z\"/>\n",
              "  </svg>\n",
              "    </button>\n",
              "\n",
              "  <style>\n",
              "    .colab-df-container {\n",
              "      display:flex;\n",
              "      gap: 12px;\n",
              "    }\n",
              "\n",
              "    .colab-df-convert {\n",
              "      background-color: #E8F0FE;\n",
              "      border: none;\n",
              "      border-radius: 50%;\n",
              "      cursor: pointer;\n",
              "      display: none;\n",
              "      fill: #1967D2;\n",
              "      height: 32px;\n",
              "      padding: 0 0 0 0;\n",
              "      width: 32px;\n",
              "    }\n",
              "\n",
              "    .colab-df-convert:hover {\n",
              "      background-color: #E2EBFA;\n",
              "      box-shadow: 0px 1px 2px rgba(60, 64, 67, 0.3), 0px 1px 3px 1px rgba(60, 64, 67, 0.15);\n",
              "      fill: #174EA6;\n",
              "    }\n",
              "\n",
              "    .colab-df-buttons div {\n",
              "      margin-bottom: 4px;\n",
              "    }\n",
              "\n",
              "    [theme=dark] .colab-df-convert {\n",
              "      background-color: #3B4455;\n",
              "      fill: #D2E3FC;\n",
              "    }\n",
              "\n",
              "    [theme=dark] .colab-df-convert:hover {\n",
              "      background-color: #434B5C;\n",
              "      box-shadow: 0px 1px 3px 1px rgba(0, 0, 0, 0.15);\n",
              "      filter: drop-shadow(0px 1px 2px rgba(0, 0, 0, 0.3));\n",
              "      fill: #FFFFFF;\n",
              "    }\n",
              "  </style>\n",
              "\n",
              "    <script>\n",
              "      const buttonEl =\n",
              "        document.querySelector('#df-da2adcb9-a038-406b-b9a3-1754cfa9547f button.colab-df-convert');\n",
              "      buttonEl.style.display =\n",
              "        google.colab.kernel.accessAllowed ? 'block' : 'none';\n",
              "\n",
              "      async function convertToInteractive(key) {\n",
              "        const element = document.querySelector('#df-da2adcb9-a038-406b-b9a3-1754cfa9547f');\n",
              "        const dataTable =\n",
              "          await google.colab.kernel.invokeFunction('convertToInteractive',\n",
              "                                                    [key], {});\n",
              "        if (!dataTable) return;\n",
              "\n",
              "        const docLinkHtml = 'Like what you see? Visit the ' +\n",
              "          '<a target=\"_blank\" href=https://colab.research.google.com/notebooks/data_table.ipynb>data table notebook</a>'\n",
              "          + ' to learn more about interactive tables.';\n",
              "        element.innerHTML = '';\n",
              "        dataTable['output_type'] = 'display_data';\n",
              "        await google.colab.output.renderOutput(dataTable, element);\n",
              "        const docLink = document.createElement('div');\n",
              "        docLink.innerHTML = docLinkHtml;\n",
              "        element.appendChild(docLink);\n",
              "      }\n",
              "    </script>\n",
              "  </div>\n",
              "\n",
              "\n",
              "<div id=\"df-c350b690-592b-4111-99f7-604927377e7e\">\n",
              "  <button class=\"colab-df-quickchart\" onclick=\"quickchart('df-c350b690-592b-4111-99f7-604927377e7e')\"\n",
              "            title=\"Suggest charts\"\n",
              "            style=\"display:none;\">\n",
              "\n",
              "<svg xmlns=\"http://www.w3.org/2000/svg\" height=\"24px\"viewBox=\"0 0 24 24\"\n",
              "     width=\"24px\">\n",
              "    <g>\n",
              "        <path d=\"M19 3H5c-1.1 0-2 .9-2 2v14c0 1.1.9 2 2 2h14c1.1 0 2-.9 2-2V5c0-1.1-.9-2-2-2zM9 17H7v-7h2v7zm4 0h-2V7h2v10zm4 0h-2v-4h2v4z\"/>\n",
              "    </g>\n",
              "</svg>\n",
              "  </button>\n",
              "\n",
              "<style>\n",
              "  .colab-df-quickchart {\n",
              "      --bg-color: #E8F0FE;\n",
              "      --fill-color: #1967D2;\n",
              "      --hover-bg-color: #E2EBFA;\n",
              "      --hover-fill-color: #174EA6;\n",
              "      --disabled-fill-color: #AAA;\n",
              "      --disabled-bg-color: #DDD;\n",
              "  }\n",
              "\n",
              "  [theme=dark] .colab-df-quickchart {\n",
              "      --bg-color: #3B4455;\n",
              "      --fill-color: #D2E3FC;\n",
              "      --hover-bg-color: #434B5C;\n",
              "      --hover-fill-color: #FFFFFF;\n",
              "      --disabled-bg-color: #3B4455;\n",
              "      --disabled-fill-color: #666;\n",
              "  }\n",
              "\n",
              "  .colab-df-quickchart {\n",
              "    background-color: var(--bg-color);\n",
              "    border: none;\n",
              "    border-radius: 50%;\n",
              "    cursor: pointer;\n",
              "    display: none;\n",
              "    fill: var(--fill-color);\n",
              "    height: 32px;\n",
              "    padding: 0;\n",
              "    width: 32px;\n",
              "  }\n",
              "\n",
              "  .colab-df-quickchart:hover {\n",
              "    background-color: var(--hover-bg-color);\n",
              "    box-shadow: 0 1px 2px rgba(60, 64, 67, 0.3), 0 1px 3px 1px rgba(60, 64, 67, 0.15);\n",
              "    fill: var(--button-hover-fill-color);\n",
              "  }\n",
              "\n",
              "  .colab-df-quickchart-complete:disabled,\n",
              "  .colab-df-quickchart-complete:disabled:hover {\n",
              "    background-color: var(--disabled-bg-color);\n",
              "    fill: var(--disabled-fill-color);\n",
              "    box-shadow: none;\n",
              "  }\n",
              "\n",
              "  .colab-df-spinner {\n",
              "    border: 2px solid var(--fill-color);\n",
              "    border-color: transparent;\n",
              "    border-bottom-color: var(--fill-color);\n",
              "    animation:\n",
              "      spin 1s steps(1) infinite;\n",
              "  }\n",
              "\n",
              "  @keyframes spin {\n",
              "    0% {\n",
              "      border-color: transparent;\n",
              "      border-bottom-color: var(--fill-color);\n",
              "      border-left-color: var(--fill-color);\n",
              "    }\n",
              "    20% {\n",
              "      border-color: transparent;\n",
              "      border-left-color: var(--fill-color);\n",
              "      border-top-color: var(--fill-color);\n",
              "    }\n",
              "    30% {\n",
              "      border-color: transparent;\n",
              "      border-left-color: var(--fill-color);\n",
              "      border-top-color: var(--fill-color);\n",
              "      border-right-color: var(--fill-color);\n",
              "    }\n",
              "    40% {\n",
              "      border-color: transparent;\n",
              "      border-right-color: var(--fill-color);\n",
              "      border-top-color: var(--fill-color);\n",
              "    }\n",
              "    60% {\n",
              "      border-color: transparent;\n",
              "      border-right-color: var(--fill-color);\n",
              "    }\n",
              "    80% {\n",
              "      border-color: transparent;\n",
              "      border-right-color: var(--fill-color);\n",
              "      border-bottom-color: var(--fill-color);\n",
              "    }\n",
              "    90% {\n",
              "      border-color: transparent;\n",
              "      border-bottom-color: var(--fill-color);\n",
              "    }\n",
              "  }\n",
              "</style>\n",
              "\n",
              "  <script>\n",
              "    async function quickchart(key) {\n",
              "      const quickchartButtonEl =\n",
              "        document.querySelector('#' + key + ' button');\n",
              "      quickchartButtonEl.disabled = true;  // To prevent multiple clicks.\n",
              "      quickchartButtonEl.classList.add('colab-df-spinner');\n",
              "      try {\n",
              "        const charts = await google.colab.kernel.invokeFunction(\n",
              "            'suggestCharts', [key], {});\n",
              "      } catch (error) {\n",
              "        console.error('Error during call to suggestCharts:', error);\n",
              "      }\n",
              "      quickchartButtonEl.classList.remove('colab-df-spinner');\n",
              "      quickchartButtonEl.classList.add('colab-df-quickchart-complete');\n",
              "    }\n",
              "    (() => {\n",
              "      let quickchartButtonEl =\n",
              "        document.querySelector('#df-c350b690-592b-4111-99f7-604927377e7e button');\n",
              "      quickchartButtonEl.style.display =\n",
              "        google.colab.kernel.accessAllowed ? 'block' : 'none';\n",
              "    })();\n",
              "  </script>\n",
              "</div>\n",
              "    </div>\n",
              "  </div>\n"
            ],
            "application/vnd.google.colaboratory.intrinsic+json": {
              "type": "dataframe",
              "variable_name": "df_financials_F",
              "summary": "{\n  \"name\": \"df_financials_F\",\n  \"rows\": 5,\n  \"fields\": [\n    {\n      \"column\": \"P/B\",\n      \"properties\": {\n        \"dtype\": \"number\",\n        \"std\": 5.670427323669717,\n        \"min\": 1.30477,\n        \"max\": 14.945358,\n        \"num_unique_values\": 5,\n        \"samples\": [\n          14.945358,\n          2.1364594,\n          5.0451527\n        ],\n        \"semantic_type\": \"\",\n        \"description\": \"\"\n      }\n    },\n    {\n      \"column\": \"DivYield\",\n      \"properties\": {\n        \"dtype\": \"number\",\n        \"std\": 0.004622769732530487,\n        \"min\": 0.0094,\n        \"max\": 0.0179,\n        \"num_unique_values\": 3,\n        \"samples\": [\n          0.0105,\n          0.0094,\n          0.0179\n        ],\n        \"semantic_type\": \"\",\n        \"description\": \"\"\n      }\n    },\n    {\n      \"column\": \"EPS\",\n      \"properties\": {\n        \"dtype\": \"number\",\n        \"std\": 2.0518284528683193,\n        \"min\": 0.22,\n        \"max\": 4.32,\n        \"num_unique_values\": 3,\n        \"samples\": [\n          0.22,\n          2.12,\n          4.32\n        ],\n        \"semantic_type\": \"\",\n        \"description\": \"\"\n      }\n    },\n    {\n      \"column\": \"P/E\",\n      \"properties\": {\n        \"dtype\": \"number\",\n        \"std\": 21.0019584426314,\n        \"min\": 8.226851,\n        \"max\": 45.801888,\n        \"num_unique_values\": 3,\n        \"samples\": [\n          43.272728,\n          45.801888,\n          8.226851\n        ],\n        \"semantic_type\": \"\",\n        \"description\": \"\"\n      }\n    },\n    {\n      \"column\": \"StockPrice\",\n      \"properties\": {\n        \"dtype\": \"number\",\n        \"std\": 37.435232352602036,\n        \"min\": 7.5980000495910645,\n        \"max\": 97.0999984741211,\n        \"num_unique_values\": 4,\n        \"samples\": [\n          7.5980000495910645,\n          35.540000915527344,\n          97.0999984741211\n        ],\n        \"semantic_type\": \"\",\n        \"description\": \"\"\n      }\n    }\n  ]\n}"
            }
          },
          "metadata": {},
          "execution_count": 29
        }
      ]
    },
    {
      "cell_type": "code",
      "source": [
        "comparables_f = df_financials_F.drop('SFER.MI')\n",
        "#P/E method\n",
        "avg_pe_f = comparables_f['P/E'].mean()\n",
        "price_pe_f= df_financials_F['EPS'][0]*avg_pe_f\n",
        "\n",
        "price_pe_f"
      ],
      "metadata": {
        "id": "pfLTmK2AyUD1",
        "colab": {
          "base_uri": "https://localhost:8080/"
        },
        "outputId": "7f4d7cba-8fa1-465c-a2e9-ab81f6d61ee5"
      },
      "execution_count": null,
      "outputs": [
        {
          "output_type": "execute_result",
          "data": {
            "text/plain": [
              "5.94316129"
            ]
          },
          "metadata": {},
          "execution_count": 30
        }
      ]
    },
    {
      "cell_type": "code",
      "source": [
        "#P/B method\n",
        "avg_pb_f = comparables_f['P/B'].mean()\n",
        "\n",
        "price_pb_f=ferragamo.info.get('bookValue')*avg_pb_f\n",
        "\n",
        "price_pb_f"
      ],
      "metadata": {
        "id": "XS3ADuK3yo2d",
        "colab": {
          "base_uri": "https://localhost:8080/"
        },
        "outputId": "9832db42-a459-4c8b-9cce-a3e500deab33"
      },
      "execution_count": null,
      "outputs": [
        {
          "output_type": "execute_result",
          "data": {
            "text/plain": [
              "25.523022903925003"
            ]
          },
          "metadata": {},
          "execution_count": 31
        }
      ]
    },
    {
      "cell_type": "markdown",
      "source": [
        "let's remove brunello cucinelli"
      ],
      "metadata": {
        "id": "D6le55XPyqBT"
      }
    },
    {
      "cell_type": "code",
      "source": [
        "comp_f = comparables_f.drop('BC.MI')\n",
        "avg_pb_f1 = comp_f['P/B'].mean()\n",
        "\n",
        "price_pb_f1=ferragamo.info.get('bookValue')*avg_pb_f1\n",
        "price_pb_f1"
      ],
      "metadata": {
        "id": "7DBxHnAKyuE-",
        "colab": {
          "base_uri": "https://localhost:8080/"
        },
        "outputId": "da95f6d5-7498-4a7b-9dea-f8d80250a594"
      },
      "execution_count": null,
      "outputs": [
        {
          "output_type": "execute_result",
          "data": {
            "text/plain": [
              "12.325055603233334"
            ]
          },
          "metadata": {},
          "execution_count": 32
        }
      ]
    },
    {
      "cell_type": "code",
      "source": [
        "#Dividend yield - rifare per ferragamo forse\n",
        "\n",
        "avg_dy = comparables['DivYield'].mean()\n",
        "\n",
        "#note that r-g = dividend yield\n",
        "\n",
        "price_dy=annual_dividends_sum_f.iloc[3]/avg_dy\n",
        "\n",
        "price_dy"
      ],
      "metadata": {
        "id": "i4Z3B5kq1Tt1",
        "colab": {
          "base_uri": "https://localhost:8080/"
        },
        "outputId": "9debe964-cc52-4301-82be-ae13c99df4e0"
      },
      "execution_count": null,
      "outputs": [
        {
          "output_type": "execute_result",
          "data": {
            "text/plain": [
              "3.4507548774317387"
            ]
          },
          "metadata": {},
          "execution_count": 33
        }
      ]
    },
    {
      "cell_type": "markdown",
      "source": [
        "\n",
        "\n",
        "---\n",
        "\n"
      ],
      "metadata": {
        "id": "4bhyW-TwH6Dy"
      }
    },
    {
      "cell_type": "markdown",
      "source": [
        "# **Beta calculation**\n",
        "### **LVMH**\n",
        "\n",
        "*b=covariance between the stock returns and market returns/variance of the market returns*\n",
        "\n",
        "LVMH's relevant market is the French stock market. Therefore, the market returns should be represented by a major French stock market index that reflects the overall performance of the French stock market.\n",
        "The **CAC 40** (Cotation Assistée en Continu) is the most commonly used benchmark for the French stock market."
      ],
      "metadata": {
        "id": "WojgyYFqH8bR"
      }
    },
    {
      "cell_type": "code",
      "source": [
        "#LVMH's beta 5 year, monthly\n",
        "from datetime import datetime\n",
        "start_date = '2019-04-05'\n",
        "end_date = '2024-04-05'\n",
        "df = yf.download(['MC.PA' ,'^FCHI'],start=start_date, end=end_date,interval='1mo')['Adj Close']\n",
        "df.columns = ['LVMH_price', 'market price']\n",
        "# Calculate returns\n",
        "df['stock_returns'] = df['LVMH_price'].pct_change()\n",
        "df['benchmark_returns'] =df['market price'].pct_change()\n",
        "df"
      ],
      "metadata": {
        "id": "0vS3srlUIC_4",
        "colab": {
          "base_uri": "https://localhost:8080/",
          "height": 1000
        },
        "outputId": "20d136b4-abf2-4e2f-e9b6-8220f1e1f5e6"
      },
      "execution_count": null,
      "outputs": [
        {
          "output_type": "stream",
          "name": "stderr",
          "text": [
            "[*********************100%%**********************]  2 of 2 completed\n"
          ]
        },
        {
          "output_type": "execute_result",
          "data": {
            "text/plain": [
              "            LVMH_price  market price  stock_returns  benchmark_returns\n",
              "Date                                                                  \n",
              "2019-05-01  315.615540   5207.629883            NaN                NaN\n",
              "2019-06-01  348.892151   5538.970215       0.105434           0.063626\n",
              "2019-07-01  349.824280   5518.899902       0.002672          -0.003623\n",
              "2019-08-01  337.799927   5480.479980      -0.034373          -0.006962\n",
              "2019-09-01  339.897217   5677.790039       0.006209           0.036002\n",
              "2019-10-01  356.535553   5729.859863       0.048951           0.009171\n",
              "2019-11-01  379.652069   5905.169922       0.064836           0.030596\n",
              "2019-12-01  386.083710   5978.060059       0.016941           0.012343\n",
              "2020-01-01  370.524078   5806.339844      -0.040301          -0.028725\n",
              "2020-02-01  347.606567   5309.899902      -0.061852          -0.085500\n",
              "2020-03-01  317.237244   4396.120117      -0.087367          -0.172090\n",
              "2020-04-01  330.359772   4572.180176       0.041365           0.040049\n",
              "2020-05-01  351.496429   4695.439941       0.063981           0.026959\n",
              "2020-06-01  366.024963   4935.990234       0.041333           0.051231\n",
              "2020-07-01  343.763458   4783.689941      -0.060820          -0.030855\n",
              "2020-08-01  370.565643   4947.220215       0.077967           0.034185\n",
              "2020-09-01  376.792023   4803.439941       0.016802          -0.029063\n",
              "2020-10-01  379.527832   4594.240234       0.007261          -0.043552\n",
              "2020-11-01  455.565521   5518.549805       0.200348           0.201189\n",
              "2020-12-01  481.980621   5551.410156       0.057983           0.005955\n",
              "2021-01-01  472.048828   5399.209961      -0.020606          -0.027416\n",
              "2021-02-01  497.342316   5703.220215       0.053582           0.056306\n",
              "2021-03-01  538.171631   6067.229980       0.082095           0.063825\n",
              "2021-04-01  593.210876   6269.479980       0.102271           0.033335\n",
              "2021-05-01  621.630737   6447.169922       0.047909           0.028342\n",
              "2021-06-01  630.497620   6507.830078       0.014264           0.009409\n",
              "2021-07-01  642.510803   6612.759766       0.019053           0.016124\n",
              "2021-08-01  597.604553   6680.180176      -0.069892           0.010196\n",
              "2021-09-01  591.216553   6520.009766      -0.010689          -0.023977\n",
              "2021-10-01  645.656921   6830.339844       0.092082           0.047597\n",
              "2021-11-01  654.619202   6721.160156       0.013881          -0.015985\n",
              "2021-12-01  696.132812   7153.029785       0.063416           0.064255\n",
              "2022-01-01  691.919556   6999.200195      -0.006052          -0.021506\n",
              "2022-02-01  631.881775   6658.830078      -0.086770          -0.048630\n",
              "2022-03-01  621.827576   6659.870117      -0.015912           0.000156\n",
              "2022-04-01  593.197083   6533.770020      -0.046042          -0.018934\n",
              "2022-05-01  578.421143   6468.799805      -0.024909          -0.009944\n",
              "2022-06-01  563.408508   5922.859863      -0.025955          -0.084396\n",
              "2022-07-01  653.774719   6448.500000       0.160392           0.088748\n",
              "2022-08-01  627.139465   6125.100098      -0.040741          -0.050151\n",
              "2022-09-01  591.206055   5762.339844      -0.057297          -0.059225\n",
              "2022-10-01  618.906677   6266.770020       0.046854           0.087539\n",
              "2022-11-01  714.115723   6738.549805       0.153834           0.075283\n",
              "2022-12-01  658.520630   6473.759766      -0.077852          -0.039295\n",
              "2023-01-01  780.134583   7082.419922       0.184678           0.094020\n",
              "2023-02-01  769.407776   7267.930176      -0.013750           0.026193\n",
              "2023-03-01  823.432068   7322.390137       0.070215           0.007493\n",
              "2023-04-01  849.371521   7491.500000       0.031502           0.023095\n",
              "2023-05-01  799.897034   7098.700195      -0.058248          -0.052433\n",
              "2023-06-01  848.152344   7400.060059       0.060327           0.042453\n",
              "2023-07-01  833.508667   7497.779785      -0.017265           0.013205\n",
              "2023-08-01  768.742432   7316.700195      -0.077703          -0.024151\n",
              "2023-09-01  704.074524   7135.060059      -0.084122          -0.024825\n",
              "2023-10-01  662.895386   6885.649902      -0.058487          -0.034956\n",
              "2023-11-01  690.610229   7310.770020       0.041809           0.061740\n",
              "2023-12-01  720.978516   7543.180176       0.043973           0.031790\n",
              "2024-01-01  766.318359   7656.750000       0.062887           0.015056\n",
              "2024-02-01  834.867004   7927.430176       0.089452           0.035352\n",
              "2024-03-01  825.852661   8205.809570      -0.010797           0.035116\n",
              "2024-04-01  784.743286   8088.240234      -0.049778          -0.014328"
            ],
            "text/html": [
              "\n",
              "  <div id=\"df-d16ecd8c-c45e-4270-a7bc-77cee968ff0c\" class=\"colab-df-container\">\n",
              "    <div>\n",
              "<style scoped>\n",
              "    .dataframe tbody tr th:only-of-type {\n",
              "        vertical-align: middle;\n",
              "    }\n",
              "\n",
              "    .dataframe tbody tr th {\n",
              "        vertical-align: top;\n",
              "    }\n",
              "\n",
              "    .dataframe thead th {\n",
              "        text-align: right;\n",
              "    }\n",
              "</style>\n",
              "<table border=\"1\" class=\"dataframe\">\n",
              "  <thead>\n",
              "    <tr style=\"text-align: right;\">\n",
              "      <th></th>\n",
              "      <th>LVMH_price</th>\n",
              "      <th>market price</th>\n",
              "      <th>stock_returns</th>\n",
              "      <th>benchmark_returns</th>\n",
              "    </tr>\n",
              "    <tr>\n",
              "      <th>Date</th>\n",
              "      <th></th>\n",
              "      <th></th>\n",
              "      <th></th>\n",
              "      <th></th>\n",
              "    </tr>\n",
              "  </thead>\n",
              "  <tbody>\n",
              "    <tr>\n",
              "      <th>2019-05-01</th>\n",
              "      <td>315.615540</td>\n",
              "      <td>5207.629883</td>\n",
              "      <td>NaN</td>\n",
              "      <td>NaN</td>\n",
              "    </tr>\n",
              "    <tr>\n",
              "      <th>2019-06-01</th>\n",
              "      <td>348.892151</td>\n",
              "      <td>5538.970215</td>\n",
              "      <td>0.105434</td>\n",
              "      <td>0.063626</td>\n",
              "    </tr>\n",
              "    <tr>\n",
              "      <th>2019-07-01</th>\n",
              "      <td>349.824280</td>\n",
              "      <td>5518.899902</td>\n",
              "      <td>0.002672</td>\n",
              "      <td>-0.003623</td>\n",
              "    </tr>\n",
              "    <tr>\n",
              "      <th>2019-08-01</th>\n",
              "      <td>337.799927</td>\n",
              "      <td>5480.479980</td>\n",
              "      <td>-0.034373</td>\n",
              "      <td>-0.006962</td>\n",
              "    </tr>\n",
              "    <tr>\n",
              "      <th>2019-09-01</th>\n",
              "      <td>339.897217</td>\n",
              "      <td>5677.790039</td>\n",
              "      <td>0.006209</td>\n",
              "      <td>0.036002</td>\n",
              "    </tr>\n",
              "    <tr>\n",
              "      <th>2019-10-01</th>\n",
              "      <td>356.535553</td>\n",
              "      <td>5729.859863</td>\n",
              "      <td>0.048951</td>\n",
              "      <td>0.009171</td>\n",
              "    </tr>\n",
              "    <tr>\n",
              "      <th>2019-11-01</th>\n",
              "      <td>379.652069</td>\n",
              "      <td>5905.169922</td>\n",
              "      <td>0.064836</td>\n",
              "      <td>0.030596</td>\n",
              "    </tr>\n",
              "    <tr>\n",
              "      <th>2019-12-01</th>\n",
              "      <td>386.083710</td>\n",
              "      <td>5978.060059</td>\n",
              "      <td>0.016941</td>\n",
              "      <td>0.012343</td>\n",
              "    </tr>\n",
              "    <tr>\n",
              "      <th>2020-01-01</th>\n",
              "      <td>370.524078</td>\n",
              "      <td>5806.339844</td>\n",
              "      <td>-0.040301</td>\n",
              "      <td>-0.028725</td>\n",
              "    </tr>\n",
              "    <tr>\n",
              "      <th>2020-02-01</th>\n",
              "      <td>347.606567</td>\n",
              "      <td>5309.899902</td>\n",
              "      <td>-0.061852</td>\n",
              "      <td>-0.085500</td>\n",
              "    </tr>\n",
              "    <tr>\n",
              "      <th>2020-03-01</th>\n",
              "      <td>317.237244</td>\n",
              "      <td>4396.120117</td>\n",
              "      <td>-0.087367</td>\n",
              "      <td>-0.172090</td>\n",
              "    </tr>\n",
              "    <tr>\n",
              "      <th>2020-04-01</th>\n",
              "      <td>330.359772</td>\n",
              "      <td>4572.180176</td>\n",
              "      <td>0.041365</td>\n",
              "      <td>0.040049</td>\n",
              "    </tr>\n",
              "    <tr>\n",
              "      <th>2020-05-01</th>\n",
              "      <td>351.496429</td>\n",
              "      <td>4695.439941</td>\n",
              "      <td>0.063981</td>\n",
              "      <td>0.026959</td>\n",
              "    </tr>\n",
              "    <tr>\n",
              "      <th>2020-06-01</th>\n",
              "      <td>366.024963</td>\n",
              "      <td>4935.990234</td>\n",
              "      <td>0.041333</td>\n",
              "      <td>0.051231</td>\n",
              "    </tr>\n",
              "    <tr>\n",
              "      <th>2020-07-01</th>\n",
              "      <td>343.763458</td>\n",
              "      <td>4783.689941</td>\n",
              "      <td>-0.060820</td>\n",
              "      <td>-0.030855</td>\n",
              "    </tr>\n",
              "    <tr>\n",
              "      <th>2020-08-01</th>\n",
              "      <td>370.565643</td>\n",
              "      <td>4947.220215</td>\n",
              "      <td>0.077967</td>\n",
              "      <td>0.034185</td>\n",
              "    </tr>\n",
              "    <tr>\n",
              "      <th>2020-09-01</th>\n",
              "      <td>376.792023</td>\n",
              "      <td>4803.439941</td>\n",
              "      <td>0.016802</td>\n",
              "      <td>-0.029063</td>\n",
              "    </tr>\n",
              "    <tr>\n",
              "      <th>2020-10-01</th>\n",
              "      <td>379.527832</td>\n",
              "      <td>4594.240234</td>\n",
              "      <td>0.007261</td>\n",
              "      <td>-0.043552</td>\n",
              "    </tr>\n",
              "    <tr>\n",
              "      <th>2020-11-01</th>\n",
              "      <td>455.565521</td>\n",
              "      <td>5518.549805</td>\n",
              "      <td>0.200348</td>\n",
              "      <td>0.201189</td>\n",
              "    </tr>\n",
              "    <tr>\n",
              "      <th>2020-12-01</th>\n",
              "      <td>481.980621</td>\n",
              "      <td>5551.410156</td>\n",
              "      <td>0.057983</td>\n",
              "      <td>0.005955</td>\n",
              "    </tr>\n",
              "    <tr>\n",
              "      <th>2021-01-01</th>\n",
              "      <td>472.048828</td>\n",
              "      <td>5399.209961</td>\n",
              "      <td>-0.020606</td>\n",
              "      <td>-0.027416</td>\n",
              "    </tr>\n",
              "    <tr>\n",
              "      <th>2021-02-01</th>\n",
              "      <td>497.342316</td>\n",
              "      <td>5703.220215</td>\n",
              "      <td>0.053582</td>\n",
              "      <td>0.056306</td>\n",
              "    </tr>\n",
              "    <tr>\n",
              "      <th>2021-03-01</th>\n",
              "      <td>538.171631</td>\n",
              "      <td>6067.229980</td>\n",
              "      <td>0.082095</td>\n",
              "      <td>0.063825</td>\n",
              "    </tr>\n",
              "    <tr>\n",
              "      <th>2021-04-01</th>\n",
              "      <td>593.210876</td>\n",
              "      <td>6269.479980</td>\n",
              "      <td>0.102271</td>\n",
              "      <td>0.033335</td>\n",
              "    </tr>\n",
              "    <tr>\n",
              "      <th>2021-05-01</th>\n",
              "      <td>621.630737</td>\n",
              "      <td>6447.169922</td>\n",
              "      <td>0.047909</td>\n",
              "      <td>0.028342</td>\n",
              "    </tr>\n",
              "    <tr>\n",
              "      <th>2021-06-01</th>\n",
              "      <td>630.497620</td>\n",
              "      <td>6507.830078</td>\n",
              "      <td>0.014264</td>\n",
              "      <td>0.009409</td>\n",
              "    </tr>\n",
              "    <tr>\n",
              "      <th>2021-07-01</th>\n",
              "      <td>642.510803</td>\n",
              "      <td>6612.759766</td>\n",
              "      <td>0.019053</td>\n",
              "      <td>0.016124</td>\n",
              "    </tr>\n",
              "    <tr>\n",
              "      <th>2021-08-01</th>\n",
              "      <td>597.604553</td>\n",
              "      <td>6680.180176</td>\n",
              "      <td>-0.069892</td>\n",
              "      <td>0.010196</td>\n",
              "    </tr>\n",
              "    <tr>\n",
              "      <th>2021-09-01</th>\n",
              "      <td>591.216553</td>\n",
              "      <td>6520.009766</td>\n",
              "      <td>-0.010689</td>\n",
              "      <td>-0.023977</td>\n",
              "    </tr>\n",
              "    <tr>\n",
              "      <th>2021-10-01</th>\n",
              "      <td>645.656921</td>\n",
              "      <td>6830.339844</td>\n",
              "      <td>0.092082</td>\n",
              "      <td>0.047597</td>\n",
              "    </tr>\n",
              "    <tr>\n",
              "      <th>2021-11-01</th>\n",
              "      <td>654.619202</td>\n",
              "      <td>6721.160156</td>\n",
              "      <td>0.013881</td>\n",
              "      <td>-0.015985</td>\n",
              "    </tr>\n",
              "    <tr>\n",
              "      <th>2021-12-01</th>\n",
              "      <td>696.132812</td>\n",
              "      <td>7153.029785</td>\n",
              "      <td>0.063416</td>\n",
              "      <td>0.064255</td>\n",
              "    </tr>\n",
              "    <tr>\n",
              "      <th>2022-01-01</th>\n",
              "      <td>691.919556</td>\n",
              "      <td>6999.200195</td>\n",
              "      <td>-0.006052</td>\n",
              "      <td>-0.021506</td>\n",
              "    </tr>\n",
              "    <tr>\n",
              "      <th>2022-02-01</th>\n",
              "      <td>631.881775</td>\n",
              "      <td>6658.830078</td>\n",
              "      <td>-0.086770</td>\n",
              "      <td>-0.048630</td>\n",
              "    </tr>\n",
              "    <tr>\n",
              "      <th>2022-03-01</th>\n",
              "      <td>621.827576</td>\n",
              "      <td>6659.870117</td>\n",
              "      <td>-0.015912</td>\n",
              "      <td>0.000156</td>\n",
              "    </tr>\n",
              "    <tr>\n",
              "      <th>2022-04-01</th>\n",
              "      <td>593.197083</td>\n",
              "      <td>6533.770020</td>\n",
              "      <td>-0.046042</td>\n",
              "      <td>-0.018934</td>\n",
              "    </tr>\n",
              "    <tr>\n",
              "      <th>2022-05-01</th>\n",
              "      <td>578.421143</td>\n",
              "      <td>6468.799805</td>\n",
              "      <td>-0.024909</td>\n",
              "      <td>-0.009944</td>\n",
              "    </tr>\n",
              "    <tr>\n",
              "      <th>2022-06-01</th>\n",
              "      <td>563.408508</td>\n",
              "      <td>5922.859863</td>\n",
              "      <td>-0.025955</td>\n",
              "      <td>-0.084396</td>\n",
              "    </tr>\n",
              "    <tr>\n",
              "      <th>2022-07-01</th>\n",
              "      <td>653.774719</td>\n",
              "      <td>6448.500000</td>\n",
              "      <td>0.160392</td>\n",
              "      <td>0.088748</td>\n",
              "    </tr>\n",
              "    <tr>\n",
              "      <th>2022-08-01</th>\n",
              "      <td>627.139465</td>\n",
              "      <td>6125.100098</td>\n",
              "      <td>-0.040741</td>\n",
              "      <td>-0.050151</td>\n",
              "    </tr>\n",
              "    <tr>\n",
              "      <th>2022-09-01</th>\n",
              "      <td>591.206055</td>\n",
              "      <td>5762.339844</td>\n",
              "      <td>-0.057297</td>\n",
              "      <td>-0.059225</td>\n",
              "    </tr>\n",
              "    <tr>\n",
              "      <th>2022-10-01</th>\n",
              "      <td>618.906677</td>\n",
              "      <td>6266.770020</td>\n",
              "      <td>0.046854</td>\n",
              "      <td>0.087539</td>\n",
              "    </tr>\n",
              "    <tr>\n",
              "      <th>2022-11-01</th>\n",
              "      <td>714.115723</td>\n",
              "      <td>6738.549805</td>\n",
              "      <td>0.153834</td>\n",
              "      <td>0.075283</td>\n",
              "    </tr>\n",
              "    <tr>\n",
              "      <th>2022-12-01</th>\n",
              "      <td>658.520630</td>\n",
              "      <td>6473.759766</td>\n",
              "      <td>-0.077852</td>\n",
              "      <td>-0.039295</td>\n",
              "    </tr>\n",
              "    <tr>\n",
              "      <th>2023-01-01</th>\n",
              "      <td>780.134583</td>\n",
              "      <td>7082.419922</td>\n",
              "      <td>0.184678</td>\n",
              "      <td>0.094020</td>\n",
              "    </tr>\n",
              "    <tr>\n",
              "      <th>2023-02-01</th>\n",
              "      <td>769.407776</td>\n",
              "      <td>7267.930176</td>\n",
              "      <td>-0.013750</td>\n",
              "      <td>0.026193</td>\n",
              "    </tr>\n",
              "    <tr>\n",
              "      <th>2023-03-01</th>\n",
              "      <td>823.432068</td>\n",
              "      <td>7322.390137</td>\n",
              "      <td>0.070215</td>\n",
              "      <td>0.007493</td>\n",
              "    </tr>\n",
              "    <tr>\n",
              "      <th>2023-04-01</th>\n",
              "      <td>849.371521</td>\n",
              "      <td>7491.500000</td>\n",
              "      <td>0.031502</td>\n",
              "      <td>0.023095</td>\n",
              "    </tr>\n",
              "    <tr>\n",
              "      <th>2023-05-01</th>\n",
              "      <td>799.897034</td>\n",
              "      <td>7098.700195</td>\n",
              "      <td>-0.058248</td>\n",
              "      <td>-0.052433</td>\n",
              "    </tr>\n",
              "    <tr>\n",
              "      <th>2023-06-01</th>\n",
              "      <td>848.152344</td>\n",
              "      <td>7400.060059</td>\n",
              "      <td>0.060327</td>\n",
              "      <td>0.042453</td>\n",
              "    </tr>\n",
              "    <tr>\n",
              "      <th>2023-07-01</th>\n",
              "      <td>833.508667</td>\n",
              "      <td>7497.779785</td>\n",
              "      <td>-0.017265</td>\n",
              "      <td>0.013205</td>\n",
              "    </tr>\n",
              "    <tr>\n",
              "      <th>2023-08-01</th>\n",
              "      <td>768.742432</td>\n",
              "      <td>7316.700195</td>\n",
              "      <td>-0.077703</td>\n",
              "      <td>-0.024151</td>\n",
              "    </tr>\n",
              "    <tr>\n",
              "      <th>2023-09-01</th>\n",
              "      <td>704.074524</td>\n",
              "      <td>7135.060059</td>\n",
              "      <td>-0.084122</td>\n",
              "      <td>-0.024825</td>\n",
              "    </tr>\n",
              "    <tr>\n",
              "      <th>2023-10-01</th>\n",
              "      <td>662.895386</td>\n",
              "      <td>6885.649902</td>\n",
              "      <td>-0.058487</td>\n",
              "      <td>-0.034956</td>\n",
              "    </tr>\n",
              "    <tr>\n",
              "      <th>2023-11-01</th>\n",
              "      <td>690.610229</td>\n",
              "      <td>7310.770020</td>\n",
              "      <td>0.041809</td>\n",
              "      <td>0.061740</td>\n",
              "    </tr>\n",
              "    <tr>\n",
              "      <th>2023-12-01</th>\n",
              "      <td>720.978516</td>\n",
              "      <td>7543.180176</td>\n",
              "      <td>0.043973</td>\n",
              "      <td>0.031790</td>\n",
              "    </tr>\n",
              "    <tr>\n",
              "      <th>2024-01-01</th>\n",
              "      <td>766.318359</td>\n",
              "      <td>7656.750000</td>\n",
              "      <td>0.062887</td>\n",
              "      <td>0.015056</td>\n",
              "    </tr>\n",
              "    <tr>\n",
              "      <th>2024-02-01</th>\n",
              "      <td>834.867004</td>\n",
              "      <td>7927.430176</td>\n",
              "      <td>0.089452</td>\n",
              "      <td>0.035352</td>\n",
              "    </tr>\n",
              "    <tr>\n",
              "      <th>2024-03-01</th>\n",
              "      <td>825.852661</td>\n",
              "      <td>8205.809570</td>\n",
              "      <td>-0.010797</td>\n",
              "      <td>0.035116</td>\n",
              "    </tr>\n",
              "    <tr>\n",
              "      <th>2024-04-01</th>\n",
              "      <td>784.743286</td>\n",
              "      <td>8088.240234</td>\n",
              "      <td>-0.049778</td>\n",
              "      <td>-0.014328</td>\n",
              "    </tr>\n",
              "  </tbody>\n",
              "</table>\n",
              "</div>\n",
              "    <div class=\"colab-df-buttons\">\n",
              "\n",
              "  <div class=\"colab-df-container\">\n",
              "    <button class=\"colab-df-convert\" onclick=\"convertToInteractive('df-d16ecd8c-c45e-4270-a7bc-77cee968ff0c')\"\n",
              "            title=\"Convert this dataframe to an interactive table.\"\n",
              "            style=\"display:none;\">\n",
              "\n",
              "  <svg xmlns=\"http://www.w3.org/2000/svg\" height=\"24px\" viewBox=\"0 -960 960 960\">\n",
              "    <path d=\"M120-120v-720h720v720H120Zm60-500h600v-160H180v160Zm220 220h160v-160H400v160Zm0 220h160v-160H400v160ZM180-400h160v-160H180v160Zm440 0h160v-160H620v160ZM180-180h160v-160H180v160Zm440 0h160v-160H620v160Z\"/>\n",
              "  </svg>\n",
              "    </button>\n",
              "\n",
              "  <style>\n",
              "    .colab-df-container {\n",
              "      display:flex;\n",
              "      gap: 12px;\n",
              "    }\n",
              "\n",
              "    .colab-df-convert {\n",
              "      background-color: #E8F0FE;\n",
              "      border: none;\n",
              "      border-radius: 50%;\n",
              "      cursor: pointer;\n",
              "      display: none;\n",
              "      fill: #1967D2;\n",
              "      height: 32px;\n",
              "      padding: 0 0 0 0;\n",
              "      width: 32px;\n",
              "    }\n",
              "\n",
              "    .colab-df-convert:hover {\n",
              "      background-color: #E2EBFA;\n",
              "      box-shadow: 0px 1px 2px rgba(60, 64, 67, 0.3), 0px 1px 3px 1px rgba(60, 64, 67, 0.15);\n",
              "      fill: #174EA6;\n",
              "    }\n",
              "\n",
              "    .colab-df-buttons div {\n",
              "      margin-bottom: 4px;\n",
              "    }\n",
              "\n",
              "    [theme=dark] .colab-df-convert {\n",
              "      background-color: #3B4455;\n",
              "      fill: #D2E3FC;\n",
              "    }\n",
              "\n",
              "    [theme=dark] .colab-df-convert:hover {\n",
              "      background-color: #434B5C;\n",
              "      box-shadow: 0px 1px 3px 1px rgba(0, 0, 0, 0.15);\n",
              "      filter: drop-shadow(0px 1px 2px rgba(0, 0, 0, 0.3));\n",
              "      fill: #FFFFFF;\n",
              "    }\n",
              "  </style>\n",
              "\n",
              "    <script>\n",
              "      const buttonEl =\n",
              "        document.querySelector('#df-d16ecd8c-c45e-4270-a7bc-77cee968ff0c button.colab-df-convert');\n",
              "      buttonEl.style.display =\n",
              "        google.colab.kernel.accessAllowed ? 'block' : 'none';\n",
              "\n",
              "      async function convertToInteractive(key) {\n",
              "        const element = document.querySelector('#df-d16ecd8c-c45e-4270-a7bc-77cee968ff0c');\n",
              "        const dataTable =\n",
              "          await google.colab.kernel.invokeFunction('convertToInteractive',\n",
              "                                                    [key], {});\n",
              "        if (!dataTable) return;\n",
              "\n",
              "        const docLinkHtml = 'Like what you see? Visit the ' +\n",
              "          '<a target=\"_blank\" href=https://colab.research.google.com/notebooks/data_table.ipynb>data table notebook</a>'\n",
              "          + ' to learn more about interactive tables.';\n",
              "        element.innerHTML = '';\n",
              "        dataTable['output_type'] = 'display_data';\n",
              "        await google.colab.output.renderOutput(dataTable, element);\n",
              "        const docLink = document.createElement('div');\n",
              "        docLink.innerHTML = docLinkHtml;\n",
              "        element.appendChild(docLink);\n",
              "      }\n",
              "    </script>\n",
              "  </div>\n",
              "\n",
              "\n",
              "<div id=\"df-87ff72e5-c7dd-4d69-83e7-8f10dfcf3c7a\">\n",
              "  <button class=\"colab-df-quickchart\" onclick=\"quickchart('df-87ff72e5-c7dd-4d69-83e7-8f10dfcf3c7a')\"\n",
              "            title=\"Suggest charts\"\n",
              "            style=\"display:none;\">\n",
              "\n",
              "<svg xmlns=\"http://www.w3.org/2000/svg\" height=\"24px\"viewBox=\"0 0 24 24\"\n",
              "     width=\"24px\">\n",
              "    <g>\n",
              "        <path d=\"M19 3H5c-1.1 0-2 .9-2 2v14c0 1.1.9 2 2 2h14c1.1 0 2-.9 2-2V5c0-1.1-.9-2-2-2zM9 17H7v-7h2v7zm4 0h-2V7h2v10zm4 0h-2v-4h2v4z\"/>\n",
              "    </g>\n",
              "</svg>\n",
              "  </button>\n",
              "\n",
              "<style>\n",
              "  .colab-df-quickchart {\n",
              "      --bg-color: #E8F0FE;\n",
              "      --fill-color: #1967D2;\n",
              "      --hover-bg-color: #E2EBFA;\n",
              "      --hover-fill-color: #174EA6;\n",
              "      --disabled-fill-color: #AAA;\n",
              "      --disabled-bg-color: #DDD;\n",
              "  }\n",
              "\n",
              "  [theme=dark] .colab-df-quickchart {\n",
              "      --bg-color: #3B4455;\n",
              "      --fill-color: #D2E3FC;\n",
              "      --hover-bg-color: #434B5C;\n",
              "      --hover-fill-color: #FFFFFF;\n",
              "      --disabled-bg-color: #3B4455;\n",
              "      --disabled-fill-color: #666;\n",
              "  }\n",
              "\n",
              "  .colab-df-quickchart {\n",
              "    background-color: var(--bg-color);\n",
              "    border: none;\n",
              "    border-radius: 50%;\n",
              "    cursor: pointer;\n",
              "    display: none;\n",
              "    fill: var(--fill-color);\n",
              "    height: 32px;\n",
              "    padding: 0;\n",
              "    width: 32px;\n",
              "  }\n",
              "\n",
              "  .colab-df-quickchart:hover {\n",
              "    background-color: var(--hover-bg-color);\n",
              "    box-shadow: 0 1px 2px rgba(60, 64, 67, 0.3), 0 1px 3px 1px rgba(60, 64, 67, 0.15);\n",
              "    fill: var(--button-hover-fill-color);\n",
              "  }\n",
              "\n",
              "  .colab-df-quickchart-complete:disabled,\n",
              "  .colab-df-quickchart-complete:disabled:hover {\n",
              "    background-color: var(--disabled-bg-color);\n",
              "    fill: var(--disabled-fill-color);\n",
              "    box-shadow: none;\n",
              "  }\n",
              "\n",
              "  .colab-df-spinner {\n",
              "    border: 2px solid var(--fill-color);\n",
              "    border-color: transparent;\n",
              "    border-bottom-color: var(--fill-color);\n",
              "    animation:\n",
              "      spin 1s steps(1) infinite;\n",
              "  }\n",
              "\n",
              "  @keyframes spin {\n",
              "    0% {\n",
              "      border-color: transparent;\n",
              "      border-bottom-color: var(--fill-color);\n",
              "      border-left-color: var(--fill-color);\n",
              "    }\n",
              "    20% {\n",
              "      border-color: transparent;\n",
              "      border-left-color: var(--fill-color);\n",
              "      border-top-color: var(--fill-color);\n",
              "    }\n",
              "    30% {\n",
              "      border-color: transparent;\n",
              "      border-left-color: var(--fill-color);\n",
              "      border-top-color: var(--fill-color);\n",
              "      border-right-color: var(--fill-color);\n",
              "    }\n",
              "    40% {\n",
              "      border-color: transparent;\n",
              "      border-right-color: var(--fill-color);\n",
              "      border-top-color: var(--fill-color);\n",
              "    }\n",
              "    60% {\n",
              "      border-color: transparent;\n",
              "      border-right-color: var(--fill-color);\n",
              "    }\n",
              "    80% {\n",
              "      border-color: transparent;\n",
              "      border-right-color: var(--fill-color);\n",
              "      border-bottom-color: var(--fill-color);\n",
              "    }\n",
              "    90% {\n",
              "      border-color: transparent;\n",
              "      border-bottom-color: var(--fill-color);\n",
              "    }\n",
              "  }\n",
              "</style>\n",
              "\n",
              "  <script>\n",
              "    async function quickchart(key) {\n",
              "      const quickchartButtonEl =\n",
              "        document.querySelector('#' + key + ' button');\n",
              "      quickchartButtonEl.disabled = true;  // To prevent multiple clicks.\n",
              "      quickchartButtonEl.classList.add('colab-df-spinner');\n",
              "      try {\n",
              "        const charts = await google.colab.kernel.invokeFunction(\n",
              "            'suggestCharts', [key], {});\n",
              "      } catch (error) {\n",
              "        console.error('Error during call to suggestCharts:', error);\n",
              "      }\n",
              "      quickchartButtonEl.classList.remove('colab-df-spinner');\n",
              "      quickchartButtonEl.classList.add('colab-df-quickchart-complete');\n",
              "    }\n",
              "    (() => {\n",
              "      let quickchartButtonEl =\n",
              "        document.querySelector('#df-87ff72e5-c7dd-4d69-83e7-8f10dfcf3c7a button');\n",
              "      quickchartButtonEl.style.display =\n",
              "        google.colab.kernel.accessAllowed ? 'block' : 'none';\n",
              "    })();\n",
              "  </script>\n",
              "</div>\n",
              "    </div>\n",
              "  </div>\n"
            ],
            "application/vnd.google.colaboratory.intrinsic+json": {
              "type": "dataframe",
              "variable_name": "df",
              "summary": "{\n  \"name\": \"df\",\n  \"rows\": 60,\n  \"fields\": [\n    {\n      \"column\": \"Date\",\n      \"properties\": {\n        \"dtype\": \"date\",\n        \"min\": \"2019-05-01 00:00:00\",\n        \"max\": \"2024-04-01 00:00:00\",\n        \"num_unique_values\": 60,\n        \"samples\": [\n          \"2019-05-01 00:00:00\",\n          \"2019-10-01 00:00:00\",\n          \"2022-05-01 00:00:00\"\n        ],\n        \"semantic_type\": \"\",\n        \"description\": \"\"\n      }\n    },\n    {\n      \"column\": \"LVMH_price\",\n      \"properties\": {\n        \"dtype\": \"number\",\n        \"std\": 171.72112647541945,\n        \"min\": 315.61553955078125,\n        \"max\": 849.3715209960938,\n        \"num_unique_values\": 60,\n        \"samples\": [\n          315.61553955078125,\n          356.5355529785156,\n          578.421142578125\n        ],\n        \"semantic_type\": \"\",\n        \"description\": \"\"\n      }\n    },\n    {\n      \"column\": \"market price\",\n      \"properties\": {\n        \"dtype\": \"number\",\n        \"std\": 959.3775941232184,\n        \"min\": 4396.1201171875,\n        \"max\": 8205.8095703125,\n        \"num_unique_values\": 60,\n        \"samples\": [\n          5207.6298828125,\n          5729.85986328125,\n          6468.7998046875\n        ],\n        \"semantic_type\": \"\",\n        \"description\": \"\"\n      }\n    },\n    {\n      \"column\": \"stock_returns\",\n      \"properties\": {\n        \"dtype\": \"number\",\n        \"std\": 0.06847813625661163,\n        \"min\": -0.08736694464412575,\n        \"max\": 0.200348124146857,\n        \"num_unique_values\": 59,\n        \"samples\": [\n          0.10543400801965563,\n          0.06483649644520639,\n          -0.04604249519263948\n        ],\n        \"semantic_type\": \"\",\n        \"description\": \"\"\n      }\n    },\n    {\n      \"column\": \"benchmark_returns\",\n      \"properties\": {\n        \"dtype\": \"number\",\n        \"std\": 0.0544109558098025,\n        \"min\": -0.172089832569709,\n        \"max\": 0.2011887761977782,\n        \"num_unique_values\": 59,\n        \"samples\": [\n          0.06362593722814691,\n          0.030595871936972108,\n          -0.018934317852658533\n        ],\n        \"semantic_type\": \"\",\n        \"description\": \"\"\n      }\n    }\n  ]\n}"
            }
          },
          "metadata": {},
          "execution_count": 34
        }
      ]
    },
    {
      "cell_type": "code",
      "source": [
        "# Calculate the covariance between stock returns and market returns\n",
        "covariance = df['stock_returns'].cov(df['benchmark_returns'])\n",
        "#Calculate variance of the returns on the market\n",
        "variance = df['benchmark_returns'].var()\n",
        "# Calculate beta\n",
        "beta = covariance / variance\n",
        "beta"
      ],
      "metadata": {
        "id": "mmxoLXrdVJyx",
        "colab": {
          "base_uri": "https://localhost:8080/"
        },
        "outputId": "93c95250-268d-48da-b1d0-28d075828993"
      },
      "execution_count": null,
      "outputs": [
        {
          "output_type": "execute_result",
          "data": {
            "text/plain": [
              "1.0351747228859716"
            ]
          },
          "metadata": {},
          "execution_count": 35
        }
      ]
    },
    {
      "cell_type": "markdown",
      "source": [
        "LVMH has a beta value of 1 in the context of a 5-year period with monthly returns, indicating that the stock has historically moved in tandem with its benchmark index (CAC40).\n",
        "This means that LVMH's stock price has a volatility level similar to that of the overall market. When the market experiences an upturn or downturn, LVMH's stock price is expected to move approximately in the same magnitude.\n",
        "In terms of risk, a beta of 1 implies an average level of risk and return compared to the broader market. It indicates that investing in LVMH carries a similar level of risk to investing in the overall market (in this case CAC40).\n",
        "So we can say that for investors looking to diversify their portfolio without significantly increasing or decreasing the portfolio's overall risk relative to the market, adding a stock like LVMH (with a beta of 1) would neither increase nor decrease the portfolio's overall volatility significantly, assuming the rest of the portfolio also averages a beta of around 1."
      ],
      "metadata": {
        "id": "XaOm85HPqJRG"
      }
    },
    {
      "cell_type": "markdown",
      "source": [
        "### **Ferragamo's beta 5 year, monthly**\n",
        "\n",
        "To calculate the beta of Salvatore Ferragamo S.p.A. listed on the Milan Stock Exchange (Borsa Italiana), we consider the market returns of a broad market index that best represents the overall performance of the Italian stock market. The most commonly used market index for Italy is the FTSE MIB Index. The FTSE MIB (Milano Indice di Borsa) is the benchmark stock market index for the Borsa Italiana, the Italian national stock exchange, which includes the 40 most traded stock classes on the exchange and represents various sectors of the Italian economy."
      ],
      "metadata": {
        "id": "LxjD8d9ttk52"
      }
    },
    {
      "cell_type": "code",
      "source": [
        "from datetime import datetime\n",
        "start_date = '2019-04-05'\n",
        "end_date = '2024-04-05'\n",
        "DF = yf.download(['SFER.MI', 'FTSEMIB.MI'],start=start_date, end=end_date,interval='1mo')['Adj Close']\n",
        "DF.columns = ['ferragamo_price', 'market price']\n",
        "# Calculate returns\n",
        "DF['stock_returns'] = DF['ferragamo_price'].pct_change()\n",
        "DF['benchmark_returns'] =DF['market price'].pct_change()\n"
      ],
      "metadata": {
        "id": "DXVzl8fquTEC",
        "colab": {
          "base_uri": "https://localhost:8080/"
        },
        "outputId": "ab24eb9d-e7fd-451f-cb01-e8a0ec164a18"
      },
      "execution_count": null,
      "outputs": [
        {
          "output_type": "stream",
          "name": "stderr",
          "text": [
            "[*********************100%%**********************]  2 of 2 completed\n"
          ]
        }
      ]
    },
    {
      "cell_type": "code",
      "source": [
        "# Calculate the covariance between stock returns and market returns\n",
        "covariance_ferragamo = DF['stock_returns'].cov(DF['benchmark_returns'])\n",
        "#calculate variance of the returns on the market\n",
        "variance_ferragamo = DF['benchmark_returns'].var()\n",
        "# Calculate beta\n",
        "beta_ferragamo = covariance_ferragamo / variance_ferragamo\n",
        "beta_ferragamo"
      ],
      "metadata": {
        "id": "zjOCgVvXvBoz",
        "colab": {
          "base_uri": "https://localhost:8080/"
        },
        "outputId": "89d73c41-7495-4284-f449-d468a5b01194"
      },
      "execution_count": null,
      "outputs": [
        {
          "output_type": "execute_result",
          "data": {
            "text/plain": [
              "0.429546391932645"
            ]
          },
          "metadata": {},
          "execution_count": 37
        }
      ]
    },
    {
      "cell_type": "code",
      "source": [],
      "metadata": {
        "id": "BJdM9D4kpNM4"
      },
      "execution_count": null,
      "outputs": []
    },
    {
      "cell_type": "markdown",
      "source": [
        "\n",
        "\n",
        "---\n",
        "\n"
      ],
      "metadata": {
        "id": "XGiqu4te8TLV"
      }
    },
    {
      "cell_type": "markdown",
      "source": [
        "#**CAPITAL STRUCTURE AND WACC CALCULATION**\n",
        "\n",
        "\n",
        "The capital structure of a firm refers to the way a corporation finances its assets through a combination of equity, debt, and hybrid securities. Understanding the capital structure is crucial for any firm because it has significant implications for the risk and return of the company's operations and can influence everything from stock prices to the ability to secure new funding.\n",
        "\n",
        "Components of Capital Structure\n",
        "Equity: This includes funds raised by issuing shares of stock. Equity holders own a portion of the company and have a residual claim on its assets after all debts are paid. Equity is considered a riskier investment compared to debt, as shareholders are last in line during liquidation, but it offers higher returns potential and comes without a requirement to repay funds.\n",
        "\n",
        "Debt: This consists of borrowed funds that must be repaid at a predetermined date and usually provides periodic interest payments to lenders. Debt is considered less risky for its holders because it has a prior claim on assets and income compared to equity. However, excessive debt increases a firm's risk of bankruptcy.\n",
        "\n",
        "Hybrid Securities: These can include instruments like convertible bonds or preferred shares, which combine features of both debt and equity.\n",
        "\n",
        "Importance of WACC (Weighted Average Cost of Capital)\n",
        "The Weighted Average Cost of Capital (WACC) is a crucial metric in financial management, representing the average rate of return a company is expected to pay to all its security holders to finance its assets. WACC is calculated by weighing the cost of each capital component (equity, debt, and any hybrids) by its proportional weight in the total capital structure:\n",
        "\n",
        "WACC= (D/V)xRe+(E/V)XRd\n",
        "\n",
        "Where:\n",
        "- E is the market value of the equity,\n",
        "- D is the market value of the debt,\n",
        "- V is the total market value of the firm’s financing (Equity + Debt) also called firm value\n",
        "- Re is the cost of equity,that we calculated before\n",
        "- Rd is the cost of debt\n",
        "Below we calculate the WACC, by using the firm's market values found on Bloomberg.\n",
        "The market value of equity is called market capitalization and we obtained it by multiplying the current market price per share and the number of shares outstanding.\n",
        "The market value of debt instead Calculate Market Value:\n",
        "\n",
        "Current Bond Prices: For each bond, take the current trading price, typically expressed as a percentage of the par value (e.g., 105% of par).\n",
        "Outstanding Amount: Multiply the current prices by the total outstanding amount (or the face value) of each bond to get the market value of each bond issue.\n",
        "Aggregate the Values: If the company has multiple bonds, add up the market values calculated for each bond to get the total market value of the company’s debt."
      ],
      "metadata": {
        "id": "eyOht3o-wSmM"
      }
    },
    {
      "cell_type": "markdown",
      "source": [
        "##**LVMH WACC**"
      ],
      "metadata": {
        "id": "3D2dnBoBOuGZ"
      }
    },
    {
      "cell_type": "code",
      "source": [
        " #dati del 2023\n",
        "Total_Debt = lvmh.balance_sheet.loc['Total Debt'][0]\n",
        "Interest_Expense = lvmh.incomestmt.loc['Interest Expense'][0]\n",
        "Rd_lvmh = Interest_Expense  / Total_Debt\n",
        "Rd_lvmh"
      ],
      "metadata": {
        "colab": {
          "base_uri": "https://localhost:8080/"
        },
        "id": "ddICKNBVyL9F",
        "outputId": "81bd85a5-28d0-4711-9bc8-e2eee3563776"
      },
      "execution_count": null,
      "outputs": [
        {
          "output_type": "execute_result",
          "data": {
            "text/plain": [
              "0.025028295092087663"
            ]
          },
          "metadata": {},
          "execution_count": 38
        }
      ]
    },
    {
      "cell_type": "markdown",
      "source": [
        "Maybe is better using the YTM of the 10 year bond issued by lvmh, so we can use the 2024 data. which is YTM_lvmh=0.031"
      ],
      "metadata": {
        "id": "dwGhGJPaYHhx"
      }
    },
    {
      "cell_type": "markdown",
      "source": [
        "Now we canculate the market capitalisation (market value of equity, is exacltly like bloomberg and yahoo fianance) using this formula: current stock price*number of shares outstanding"
      ],
      "metadata": {
        "id": "KrhvllxwvnaG"
      }
    },
    {
      "cell_type": "code",
      "source": [
        "current_price = lvmh.history(period=\"1d\")['Close'].iloc[-1]\n",
        "market_capitalisation_2024=(current_price*lvmh.info['sharesOutstanding'])\n",
        "market_capitalisation_2024"
      ],
      "metadata": {
        "colab": {
          "base_uri": "https://localhost:8080/"
        },
        "id": "szRIRMyZ5Oqd",
        "outputId": "d6068958-3d02-472d-8797-cb112b03e76b"
      },
      "execution_count": null,
      "outputs": [
        {
          "output_type": "execute_result",
          "data": {
            "text/plain": [
              "395737977035.5371"
            ]
          },
          "metadata": {},
          "execution_count": 39
        }
      ]
    },
    {
      "cell_type": "markdown",
      "source": [],
      "metadata": {
        "id": "ajbmJSZc6sKv"
      }
    },
    {
      "cell_type": "markdown",
      "source": [
        "We have now all the ingridients to calculate the WACC of 2023"
      ],
      "metadata": {
        "id": "XzO4kg9Um1IA"
      }
    },
    {
      "cell_type": "code",
      "source": [
        "net_debt=27181000000\n",
        "V=market_capitalisation_2024+net_debt\n",
        "WACC_lvmh=(market_capitalisation_2024/V)* r + (net_debt/V)*YTM_lvmh\n",
        "WACC_lvmh"
      ],
      "metadata": {
        "colab": {
          "base_uri": "https://localhost:8080/"
        },
        "id": "NKZ0RmPd_i69",
        "outputId": "866272a0-9a6f-4ab9-a1e5-db99f4d0bdb1"
      },
      "execution_count": null,
      "outputs": [
        {
          "output_type": "execute_result",
          "data": {
            "text/plain": [
              "0.07280317659235905"
            ]
          },
          "metadata": {},
          "execution_count": 40
        }
      ]
    },
    {
      "cell_type": "markdown",
      "source": [
        "Now let's consider taxes, so we calculate after-tax WACC."
      ],
      "metadata": {
        "id": "Y3sa1DIP9oYr"
      }
    },
    {
      "cell_type": "code",
      "source": [
        "af_WACC_lvmh=(market_capitalisation_2024/V)* r+ (38445/V)*YTM_lvmh*(1-0.25)\n",
        "af_WACC_lvmh"
      ],
      "metadata": {
        "colab": {
          "base_uri": "https://localhost:8080/"
        },
        "id": "H0JUamC692fV",
        "outputId": "5c1330d4-3773-4623-d013-c07939bf43ba"
      },
      "execution_count": null,
      "outputs": [
        {
          "output_type": "execute_result",
          "data": {
            "text/plain": [
              "0.07081080890041945"
            ]
          },
          "metadata": {},
          "execution_count": 41
        }
      ]
    },
    {
      "cell_type": "code",
      "source": [
        "import matplotlib.pyplot as plt\n",
        "total_value = market_capitalisation_2024 + net_debt\n",
        "labels = ['Market Capitalisation', 'Net Debt']\n",
        "a = market_capitalisation_2024/total_value\n",
        "b = net_debt/total_value\n",
        "sizes = [a, b]\n",
        "colors = ['#e8615b','#476b9e' ]\n",
        "fig1, ax1 = plt.subplots()\n",
        "ax1.pie(sizes, colors = colors, autopct='%1.1f%%', startangle=90)\n",
        "ax1.axis('equal')  # Equal aspect ratio ensures that pie is drawn as a circle.\n",
        "plt.legend(labels, loc=\"best\")\n",
        "plt.show()"
      ],
      "metadata": {
        "colab": {
          "base_uri": "https://localhost:8080/",
          "height": 406
        },
        "id": "4aiwcx59qdPr",
        "outputId": "c76bc517-d528-41cc-f8e8-bd2201506634"
      },
      "execution_count": null,
      "outputs": [
        {
          "output_type": "display_data",
          "data": {
            "text/plain": [
              "<Figure size 640x480 with 1 Axes>"
            ],
            "image/png": "[encoded data removed]"
          },
          "metadata": {}
        }
      ]
    },
    {
      "cell_type": "markdown",
      "source": [
        "##**FERRAGAMO WACC**"
      ],
      "metadata": {
        "id": "KBPABs59OwGd"
      }
    },
    {
      "cell_type": "code",
      "source": [
        "current_price = ferragamo.history(period=\"1d\")['Close'].iloc[-1]\n",
        "market_capitalisation_f=(current_price*ferragamo.info['sharesOutstanding'])\n",
        "market_capitalisation_f"
      ],
      "metadata": {
        "colab": {
          "base_uri": "https://localhost:8080/"
        },
        "id": "7_q5oHc4AdE1",
        "outputId": "76e81d75-8d4c-4f7a-b92d-1b3d5e5b403c"
      },
      "execution_count": null,
      "outputs": [
        {
          "output_type": "execute_result",
          "data": {
            "text/plain": [
              "1575836079.6131592"
            ]
          },
          "metadata": {},
          "execution_count": 43
        }
      ]
    },
    {
      "cell_type": "code",
      "source": [
        "net_debt_f=486700000\n",
        "V=market_capitalisation_f+net_debt_f\n",
        "WACC_ferr=(market_capitalisation_f/V)* r_ferr+ (net_debt_f/V)*Rd_ferr\n",
        "WACC_ferr"
      ],
      "metadata": {
        "id": "P_R4WPysQC8o",
        "colab": {
          "base_uri": "https://localhost:8080/"
        },
        "outputId": "29345b5c-1d15-428a-87bc-73c6e68862f3"
      },
      "execution_count": null,
      "outputs": [
        {
          "output_type": "execute_result",
          "data": {
            "text/plain": [
              "0.09825060455583035"
            ]
          },
          "metadata": {},
          "execution_count": 44
        }
      ]
    },
    {
      "cell_type": "code",
      "source": [
        "af_WACC_ferragamo=(market_capitalisation_f/V)* r_ferr+ (net_debt_f/V)*Rd_ferr*(1-0.26)\n",
        "af_WACC_ferragamo"
      ],
      "metadata": {
        "id": "_k70m6T3QfYQ",
        "colab": {
          "base_uri": "https://localhost:8080/"
        },
        "outputId": "4c12edd8-552d-486a-d2ed-2816036b1829"
      },
      "execution_count": null,
      "outputs": [
        {
          "output_type": "execute_result",
          "data": {
            "text/plain": [
              "0.09661639367736997"
            ]
          },
          "metadata": {},
          "execution_count": 45
        }
      ]
    },
    {
      "cell_type": "code",
      "source": [
        "import matplotlib.pyplot as plt\n",
        "total_value = market_capitalisation_f+ net_debt_f\n",
        "labels = ['Market Capitalisation', 'Net Debt']\n",
        "sizes = [market_capitalisation_f, net_debt_f]\n",
        "colors = ['#e8615b','#476b9e']\n",
        "fig1, ax1 = plt.subplots()\n",
        "ax1.pie(sizes, colors = colors, autopct='%1.1f%%', startangle=90)\n",
        "ax1.axis('equal')\n",
        "plt.legend(labels, loc=\"best\")\n",
        "plt.show()"
      ],
      "metadata": {
        "colab": {
          "base_uri": "https://localhost:8080/",
          "height": 406
        },
        "id": "-ZlRGDbUr89C",
        "outputId": "883375c8-048c-4cd0-e987-1cbe8f7600cf"
      },
      "execution_count": null,
      "outputs": [
        {
          "output_type": "display_data",
          "data": {
            "text/plain": [
              "<Figure size 640x480 with 1 Axes>"
            ],
            "image/png": "[encoded data removed]"
          },
          "metadata": {}
        }
      ]
    },
    {
      "cell_type": "markdown",
      "source": [
        "# **PORTFOLIO WITH FERRAGAMO AND LVMH**"
      ],
      "metadata": {
        "id": "vKSqdE4-gLF8"
      }
    },
    {
      "cell_type": "markdown",
      "source": [
        " Even with two firms, portfolio optimization is important as it helps manage risk and improve the investment's risk-return profile.\n",
        "\n",
        "In our case For LVMH and Ferragamo, analyzing the correlation between their returns will be key in understanding how much diversification benefit can be achieved. In this part we would look for historical data to calculate their correlation coefficient to guide investment decisions effectively.\n",
        "\n",
        "Expectetions:\n",
        "Given that both LVMH and Ferragamo are luxury brands,we expect a higher degree of correlation compared to pairing a luxury brand with a company from a completely different sector. However, diversification can still be worthwhile if the correlation isn't perfect. Even a moderately high correlation doesn't negate the benefits of diversification entirely; it merely reduces them. The specific attributes and performance dynamics of each company can still lead to different risk-return profiles that could benefit from strategic capital allocation.\n"
      ],
      "metadata": {
        "id": "PxdIOGOYFzib"
      }
    },
    {
      "cell_type": "code",
      "source": [
        "data = yf.download(['SFER.MI', 'MC.PA'], start='2019-01-01', end='2024-04-17')['Adj Close']\n",
        "import numpy as np\n",
        "import seaborn as sns\n",
        "import matplotlib.pyplot as plt"
      ],
      "metadata": {
        "id": "oc8Irb0LAqXl",
        "colab": {
          "base_uri": "https://localhost:8080/"
        },
        "outputId": "46a56751-0de3-4c1e-fa4a-dd3506bb2585"
      },
      "execution_count": null,
      "outputs": [
        {
          "output_type": "stream",
          "name": "stderr",
          "text": [
            "[*********************100%%**********************]  2 of 2 completed\n"
          ]
        }
      ]
    },
    {
      "cell_type": "code",
      "source": [
        "# Calculate daily returns\n",
        "\n",
        "returns = data.pct_change()\n",
        "mean_returns = returns.mean() *252\n",
        "print(mean_returns)\n",
        "covariance_matrix = returns.cov()*(252) #To annualize the daily standard deviation we multiply it with √252(= number for business days in a year)\n",
        "print(covariance_matrix)\n",
        "\n",
        "correlation_matrix = returns.corr()\n",
        "correlation_matrix\n",
        "\n",
        "# Assuming 'correlation_matrix' is already computed from the previous steps\n",
        "sns.heatmap(correlation_matrix, annot=True, cmap='coolwarm', fmt=\".2f\", cbar=True)\n",
        "plt.title('Correlation Matrix')\n",
        "plt.show()\n"
      ],
      "metadata": {
        "id": "DdtlBU87Arlr",
        "colab": {
          "base_uri": "https://localhost:8080/",
          "height": 611
        },
        "outputId": "0a30e8d4-983a-4d3c-da32-fc82382b1222"
      },
      "execution_count": null,
      "outputs": [
        {
          "output_type": "stream",
          "name": "stdout",
          "text": [
            "Ticker\n",
            "MC.PA      0.265303\n",
            "SFER.MI   -0.047801\n",
            "dtype: float64\n",
            "Ticker      MC.PA   SFER.MI\n",
            "Ticker                     \n",
            "MC.PA    0.085008  0.062010\n",
            "SFER.MI  0.062010  0.128044\n"
          ]
        },
        {
          "output_type": "display_data",
          "data": {
            "text/plain": [
              "<Figure size 640x480 with 2 Axes>"
            ],
            "image/png": "[encoded data removed]"
          },
          "metadata": {}
        }
      ]
    },
    {
      "cell_type": "markdown",
      "source": [
        " let us annualize the daily returns over the period we considered. We assume the number of trading days in a year is computed as follows:![image.png](data:image/png;base64,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)\n",
        "\n"
      ],
      "metadata": {
        "id": "kB0FAuR-jz7j"
      }
    },
    {
      "cell_type": "markdown",
      "source": [
        "\n",
        "From the output we can see that:\n",
        "*On avarege ferragamo has negative returns (-0.047801).\n",
        "\n",
        "*Both LVMH and Ferragamo show positive covariance, suggesting they often move in\n",
        "tandem, which might reduce the effectiveness of diversification between just these two stocks in reducing portfolio risk.\n",
        "\n",
        "*The variance (and therefore volatility) of Ferragamo is higher than that of LVMH , indicating it is the riskier stock of the two.\n",
        "\n",
        "*We obtained a correlation of 0.59 wich is considered strong but as much as we expected considering the similarities of the firms. This can be due to the fact that the correlation is calculated based on returns .\n",
        "\n",
        "Therefore we will define functions to calculate portfolio performance and simulate random portfolio weights to find the optimal portfolio."
      ],
      "metadata": {
        "id": "rcIAl5aPdJ72"
      }
    },
    {
      "cell_type": "markdown",
      "source": [
        "\n",
        "\n",
        "Expectations: taking in consideration this insight we expect an optimal portfolio to be manly composed by LVMH. But lets simulate it..."
      ],
      "metadata": {
        "id": "zOPD2XXvIETy"
      }
    },
    {
      "cell_type": "code",
      "source": [
        "# Number of portfolios to simulate\n",
        "num_portfolios = 10000\n",
        "risk_free_rate = 0.0229\n",
        "\n",
        "def portfolio_annual_performance(weights, mean_returns, covariance_matrix):\n",
        "    returns = np.sum(mean_returns*weights )\n",
        "    std = np.sqrt(np.dot(weights.T, np.dot(covariance_matrix, weights)))\n",
        "    return std, returns\n",
        "\n",
        "   # the function above is calculating the expected annual performance of a portfolio.\n",
        "\n",
        "def random_portfolios(num_portfolios, mean_returns, covariance_matrix, risk_free_rate):\n",
        "\n",
        "#Generates several random portfolios to simulate different weight distributions and calculates their performance.\n",
        "\n",
        "    results = np.zeros((3, num_portfolios))\n",
        "    weights_record = []\n",
        "    for i in range(num_portfolios):\n",
        "        weights = np.random.random(len(['SFER.MI', 'MC.PA']))\n",
        "        weights /= np.sum(weights)\n",
        "        weights_record.append(weights)\n",
        "        portfolio_std_dev, portfolio_return = portfolio_annual_performance(weights, mean_returns, covariance_matrix)\n",
        "        results[0,i] = portfolio_std_dev\n",
        "        results[1,i] = portfolio_return\n",
        "        results[2,i] = (portfolio_return - risk_free_rate) / portfolio_std_dev\n",
        "    return results, weights_record\n",
        "\n",
        "results, weights = random_portfolios(num_portfolios, mean_returns, covariance_matrix, risk_free_rate)"
      ],
      "metadata": {
        "id": "5i0PTYssIF-4"
      },
      "execution_count": null,
      "outputs": []
    },
    {
      "cell_type": "markdown",
      "source": [
        "We can visualize the distribution of these portfolios to find the Efficient Frontier."
      ],
      "metadata": {
        "id": "Zyd97r-UL9mr"
      }
    },
    {
      "cell_type": "code",
      "source": [
        "max_sharpe_idx = np.argmax(results[2])\n",
        "maxsharpe_r= results[2,max_sharpe_idx]\n",
        "sdp, rp = results[0,max_sharpe_idx], results[1,max_sharpe_idx]\n",
        "max_sharpe_allocation = pd.DataFrame(weights[max_sharpe_idx], index=data.columns, columns=['allocation'])\n",
        "max_sharpe_allocation.allocation = [round(i*100,2)for i in max_sharpe_allocation.allocation]\n",
        "\n",
        "min_vol_idx = np.argmin(results[0])\n",
        "minsharpe_r= results[2,min_vol_idx]\n",
        "sdp_min, rp_min = results[0,min_vol_idx], results[1,min_vol_idx]\n",
        "min_vol_allocation = pd.DataFrame(weights[min_vol_idx], index=data.columns, columns=['allocation'])\n",
        "min_vol_allocation.allocation = [round(i*100,2) for i in min_vol_allocation.allocation]\n",
        "\n",
        "print(\"-\"*80)\n",
        "print(\"Maximum Sharpe Ratio Portfolio Allocation\\n\")\n",
        "print(\"Sharpe Ratio:\", maxsharpe_r)\n",
        "print(\"Annualized Return:\", round(rp,2))\n",
        "print(\"Annualized Volatility:\", round(sdp,2))\n",
        "print(\"\\n\")\n",
        "print(max_sharpe_allocation)\n",
        "print(\"-\"*80)\n",
        "print(\"Minimum Volatility Portfolio Allocation\\n\")\n",
        "print(\"Sharpe Ratio:\", minsharpe_r)\n",
        "print(\"Annualized Return:\", round(rp_min,2))\n",
        "print(\"Annualized Volatility:\", round(sdp_min,2))\n",
        "print(\"\\n\")\n",
        "print(min_vol_allocation)\n",
        "\n",
        "plt.figure(figsize=(10, 7))\n",
        "plt.scatter(results[0,:], results[1,:], c=results[2,:], cmap='PuRd', marker='o', s=10, alpha=0.3)\n",
        "plt.colorbar(label='Sharpe Ratio')\n",
        "plt.title('Efficient Frontier')\n",
        "plt.xlabel('Volatility')\n",
        "plt.ylabel('Return')\n",
        "plt.plot(sdp,rp,'bo', markersize=10.0)\n",
        "plt.plot(sdp_min,rp_min,'bo', markersize=10.0)\n",
        "plt.show()\n",
        "\n",
        "#https://www.gurufocus.com/term/volatility/LVMHF su questo sito la volatility è 25 di lvmh quindi forse va bene#min return mettiamo re di tutte edue std storica"
      ],
      "metadata": {
        "id": "RVcG4_qnL-0P",
        "colab": {
          "base_uri": "https://localhost:8080/",
          "height": 1000
        },
        "outputId": "2953a416-d50d-4f08-d429-1c83594ce5e9"
      },
      "execution_count": null,
      "outputs": [
        {
          "output_type": "stream",
          "name": "stdout",
          "text": [
            "--------------------------------------------------------------------------------\n",
            "Maximum Sharpe Ratio Portfolio Allocation\n",
            "\n",
            "Sharpe Ratio: 0.8312666762473446\n",
            "Annualized Return: 0.27\n",
            "Annualized Volatility: 0.29\n",
            "\n",
            "\n",
            "         allocation\n",
            "Ticker             \n",
            "MC.PA         99.98\n",
            "SFER.MI        0.02\n",
            "--------------------------------------------------------------------------------\n",
            "Minimum Volatility Portfolio Allocation\n",
            "\n",
            "Sharpe Ratio: 0.5744226582126182\n",
            "Annualized Return: 0.18\n",
            "Annualized Volatility: 0.28\n",
            "\n",
            "\n",
            "         allocation\n",
            "Ticker             \n",
            "MC.PA         74.17\n",
            "SFER.MI       25.83\n"
          ]
        },
        {
          "output_type": "display_data",
          "data": {
            "text/plain": [
              "<Figure size 1000x700 with 2 Axes>"
            ],
            "image/png": "[encoded data removed]"
          },
          "metadata": {}
        }
      ]
    },
    {
      "cell_type": "markdown",
      "source": [
        "We got some interasting results, the optimal Maximum Sharpe portfolio is only composed by LVMH , and if we add ferragamo like in the Minimum Volatility Portfolio Allocation we can notice that the volatility decrease only by 1 figure while the return significatnly drop .\n",
        "To further investigate this outcome we also tried to build an equally balanced portfolio."
      ],
      "metadata": {
        "id": "HwAbAn-zJwIM"
      }
    },
    {
      "cell_type": "markdown",
      "source": [
        "##50% & 50% Portfolio\n"
      ],
      "metadata": {
        "id": "_IRHsubXanuu"
      }
    },
    {
      "cell_type": "code",
      "source": [
        "\n",
        "# Set portfolio weights: 50% Ferragamo, 50% LVMH\n",
        "weights = np.array([0.5, 0.5])\n",
        "\n",
        "# Calculate expected portfolio performance\n",
        "portfolio_return = np.sum(mean_returns * weights)  # Annual return\n",
        "portfolio_std_dev = np.sqrt(np.dot(weights.T, np.dot(covariance_matrix, weights)))\n",
        "\n",
        "# Print the expected annual return and volatility of the 50/50 portfolio\n",
        "print(f\"Expected annual return of the 50/50 portfolio: {portfolio_return:.4f}\")\n",
        "print(f\"Annual volatility of the 50/50 portfolio: {portfolio_std_dev:.4f}\")\n",
        "\n",
        "# Compare with individual stock performance\n",
        "individual_perf = pd.DataFrame(index=data.columns)\n",
        "individual_perf['Annual Return'] = mean_returns\n",
        "individual_perf['Volatility'] = returns.std() * np.sqrt(252)\n",
        "\n",
        "print(individual_perf)"
      ],
      "metadata": {
        "id": "WU0g8RYWawWB",
        "colab": {
          "base_uri": "https://localhost:8080/"
        },
        "outputId": "ceb058fe-9ac7-45ed-d2b2-68a85ced8acb"
      },
      "execution_count": null,
      "outputs": [
        {
          "output_type": "stream",
          "name": "stdout",
          "text": [
            "Expected annual return of the 50/50 portfolio: 0.1088\n",
            "Annual volatility of the 50/50 portfolio: 0.2903\n",
            "         Annual Return  Volatility\n",
            "Ticker                            \n",
            "MC.PA         0.265303    0.291561\n",
            "SFER.MI      -0.047801    0.357832\n"
          ]
        }
      ]
    },
    {
      "cell_type": "markdown",
      "source": [
        "**Risk-Return Scatter Plot**"
      ],
      "metadata": {
        "id": "4uHEP5JVcauM"
      }
    },
    {
      "cell_type": "code",
      "source": [
        "import matplotlib.pyplot as plt\n",
        "\n",
        "# Individual Stocks Data\n",
        "stocks_data = {\n",
        "    'MC.PA': {'Return': individual_perf['Annual Return'][0], 'Volatility':individual_perf['Volatility'][0]},\n",
        "    'SFER.MI': {'Return': individual_perf['Annual Return'][1], 'Volatility': individual_perf['Volatility'][1]}\n",
        "}\n",
        "\n",
        "# 50/50 Portfolio Data\n",
        "portfolio_data = {'Return': 0.1088, 'Volatility': 0.2903}\n",
        "\n",
        "# Create a scatter plot for individual stocks\n",
        "for stock, values in stocks_data.items():\n",
        "    plt.scatter(values['Volatility'], values['Return'], label=f\"{stock} (Individual Stock)\")\n",
        "\n",
        "# Add the 50/50 portfolio to the scatter plot\n",
        "plt.scatter(portfolio_data['Volatility'], portfolio_data['Return'], color='pink', label=\"50/50 Portfolio\", zorder=5)\n",
        "\n",
        "# Plot settings\n",
        "plt.title('Risk-Return Profile')\n",
        "plt.xlabel('Annualized Volatility (Risk)')\n",
        "plt.ylabel('Annualized Return')\n",
        "plt.legend()\n",
        "plt.grid(True)\n",
        "plt.show()"
      ],
      "metadata": {
        "id": "6kih15hGb-A7",
        "colab": {
          "base_uri": "https://localhost:8080/",
          "height": 472
        },
        "outputId": "d6369c65-036f-46ab-d7b5-dd0c268f009d"
      },
      "execution_count": null,
      "outputs": [
        {
          "output_type": "display_data",
          "data": {
            "text/plain": [
              "<Figure size 640x480 with 1 Axes>"
            ],
            "image/png": "[encoded data removed]"
          },
          "metadata": {}
        }
      ]
    },
    {
      "cell_type": "markdown",
      "source": [
        "50/50 Portfolio\n",
        "Expected Annual Return (10.88%): This is the average return we would expect if the future performance mimics the historical average. It's lower than LVMH's past performance but higher than Ferragamo's. This is a blended return that averages out the individual performances of both stocks in our equally weighted portfolio.\n",
        "\n",
        "Annual Volatility ( 29.03%): This represents the standard deviation of the portfolio's returns, which is a common measure of risk. It indicates that the portfolio's return can be expected to deviate from the average by about 29.03% in any given year. Interestingly, this portfolio volatility is almost the same as LVMH's volatility and lower than Ferragamo's, suggesting that the inclusion of LVMH helps to mitigate the higher risk of Ferragamo but actually addinding ferragamo do not decrease the volatility at all as we can see in our first allocation.\n",
        "\n",
        "Individual Stocks\n",
        "LVMH Annual Return (26.53): LVMH has performed exceptionally well historically with a high return rate. This robust performance significantly influences the combined portfolio's return.\n",
        "\n",
        "LVMH Volatility (29.16%): The volatility is high, indicating that the returns vary widely year over year. This suggests a higher risk, which is typical for stocks with higher returns.\n",
        "\n",
        "Ferragamo Annual Return (-4%): Ferragamo's returns are much lower than LVMH's, indicating that it hasn't performed well historically in terms of return.\n",
        "\n",
        "Ferragamo Volatility (35.78%): Despite its lower returns, Ferragamo has higher volatility than LVMH, indicating a higher risk and less stable returns.\n",
        "\n",
        "Interpretation of the Combined Portfolio:\n",
        "Diversification Benefit: The portfolio's volatility is slightly less than the average of the individual volatilities of the stocks, which suggests that there is some diversification benefit. However, because both stocks are from the same sector and might be subject to similar market forces, this benefit is not as significant as it might be with stocks from different sectors and in addition ferragamo performance is very bad.\n",
        "\n",
        "Risk-Return Trade-off: By combining these two stocks, we have created a portfolio that has a lower return than LVMH alone but higher than Ferragamo. The risk (as measured by volatility) is nearly the same as investing in LVMH alone, which suggest that, given historical data, an investor would prefer a 100% investment in LVMH for a similar level of risk but with a higher return."
      ],
      "metadata": {
        "id": "UT4e-1wT3c5q"
      }
    },
    {
      "cell_type": "markdown",
      "source": [
        "\n",
        "\n",
        "---\n",
        "\n",
        "## REPLACE STOCK RETURNS WITH CAPM\n",
        "\n",
        "As we saw ferragamo had a negative mean return, so now we will consider the expected returns of both firms using capm that we calculated previously ."
      ],
      "metadata": {
        "id": "YpVGcs4apME8"
      }
    },
    {
      "cell_type": "code",
      "source": [
        "new_ret = pd.Series([r,r_ferr])\n",
        "\n",
        "def portfolio_annual_performance(weights, new_ret, covariance_matrix):\n",
        "    returns = np.sum(new_ret *weights )\n",
        "    std = np.sqrt(np.dot(weights.T, np.dot(covariance_matrix, weights)))\n",
        "    return std, returns\n",
        "\n",
        "   # the function above is calculating the expected annual performance of a portfolio.\n",
        "\n",
        "def random_portfolios(num_portfolios, new_ret, covariance_matrix, risk_free_rate):\n",
        "\n",
        "#Generates several random portfolios to simulate different weight distributions and calculates their performance.\n",
        "\n",
        "    results = np.zeros((3, num_portfolios))\n",
        "    weights_record = []\n",
        "    for i in range(num_portfolios):\n",
        "        weights = np.random.random(len(['SFER.MI', 'MC.PA']))\n",
        "        weights /= np.sum(weights)\n",
        "        weights_record.append(weights)\n",
        "        portfolio_std_dev, portfolio_return = portfolio_annual_performance(weights, new_ret, covariance_matrix)\n",
        "        results[0,i] = portfolio_std_dev\n",
        "        results[1,i] = portfolio_return\n",
        "        results[2,i] = (portfolio_return - risk_free_rate) / portfolio_std_dev\n",
        "    return results, weights_record\n",
        "\n",
        "results, weights = random_portfolios(num_portfolios, new_ret, covariance_matrix, risk_free_rate)"
      ],
      "metadata": {
        "id": "QAv7q0Vve0G9"
      },
      "execution_count": null,
      "outputs": []
    },
    {
      "cell_type": "code",
      "source": [
        "max_sharpe_idx = np.argmax(results[2])\n",
        "maxsharpe_r= results[2,max_sharpe_idx]\n",
        "sdp, rp = results[0,max_sharpe_idx], results[1,max_sharpe_idx]\n",
        "max_sharpe_allocation = pd.DataFrame(weights[max_sharpe_idx], index=data.columns, columns=['allocation'])\n",
        "max_sharpe_allocation.allocation = [round(i*100,2)for i in max_sharpe_allocation.allocation]\n",
        "\n",
        "min_vol_idx = np.argmin(results[0])\n",
        "minsharpe_r= results[2,min_vol_idx]\n",
        "sdp_min, rp_min = results[0,min_vol_idx], results[1,min_vol_idx]\n",
        "min_vol_allocation = pd.DataFrame(weights[min_vol_idx], index=data.columns, columns=['allocation'])\n",
        "min_vol_allocation.allocation = [round(i*100,2) for i in min_vol_allocation.allocation]\n",
        "\n",
        "print(\"-\"*80)\n",
        "print(\"Maximum Sharpe Ratio Portfolio Allocation\\n\")\n",
        "print(\"Sharpe Ratio:\", maxsharpe_r)\n",
        "print(\"Annualized Return:\", round(rp,2))\n",
        "print(\"Annualized Volatility:\", round(sdp,2))\n",
        "print(\"\\n\")\n",
        "print(max_sharpe_allocation)\n",
        "print(\"-\"*80)\n",
        "print(\"Minimum Volatility Portfolio Allocation\\n\")\n",
        "print(\"Sharpe Ratio:\", minsharpe_r)\n",
        "print(\"Annualized Return:\", round(rp_min,2))\n",
        "print(\"Annualized Volatility:\", round(sdp_min,2))\n",
        "print(\"\\n\")\n",
        "print(min_vol_allocation)\n",
        "\n",
        "plt.figure(figsize=(10, 7))\n",
        "plt.scatter(results[0,:], results[1,:], c=results[2,:], cmap='PuRd', marker='o', s=10, alpha=0.3)\n",
        "plt.colorbar(label='Sharpe Ratio')\n",
        "plt.title('Efficient Frontier')\n",
        "plt.xlabel('Volatility')\n",
        "plt.ylabel('Return')\n",
        "plt.plot(sdp,rp,'bo', markersize=10.0)\n",
        "plt.plot(sdp_min,rp_min,'bo', markersize=10.0)\n",
        "plt.show()"
      ],
      "metadata": {
        "colab": {
          "base_uri": "https://localhost:8080/",
          "height": 1000
        },
        "id": "q0qAVm8cq5R_",
        "outputId": "a745c7da-98ea-42da-fa7d-abc761cbc664"
      },
      "execution_count": null,
      "outputs": [
        {
          "output_type": "stream",
          "name": "stdout",
          "text": [
            "--------------------------------------------------------------------------------\n",
            "Maximum Sharpe Ratio Portfolio Allocation\n",
            "\n",
            "Sharpe Ratio: 0.27342129308548163\n",
            "Annualized Return: 0.11\n",
            "Annualized Volatility: 0.34\n",
            "\n",
            "\n",
            "         allocation\n",
            "Ticker             \n",
            "MC.PA         12.46\n",
            "SFER.MI       87.54\n",
            "--------------------------------------------------------------------------------\n",
            "Minimum Volatility Portfolio Allocation\n",
            "\n",
            "Sharpe Ratio: 0.2287405509525557\n",
            "Annualized Return: 0.09\n",
            "Annualized Volatility: 0.28\n",
            "\n",
            "\n",
            "         allocation\n",
            "Ticker             \n",
            "MC.PA         74.17\n",
            "SFER.MI       25.83\n"
          ]
        },
        {
          "output_type": "display_data",
          "data": {
            "text/plain": [
              "<Figure size 1000x700 with 2 Axes>"
            ],
            "image/png": "[encoded data removed]"
          },
          "metadata": {}
        }
      ]
    },
    {
      "cell_type": "markdown",
      "source": [
        "With this new outcome we observe a completely different situation. In particular we see that the returns of both portfolios decreased importantly, however the volatility remained similar to the old one. This reflects perfectly the fact that we modified the mean returns replacing them with the cost of equity calculated previously with the CAPM.\n",
        "In the first portfolio we can see that the majority is allocated to Ferragamo, while the remaining part to LVMH, indeed we can see that the volatility of the portfolio is very close to the individual volatility of Ferragamo. In the second one of course we see the opposite case.\n",
        "\n",
        "In the context of the provided analysis, the Sharpe ratio of both the Maximum Sharpe Ratio (MSR) and Minimum Volatility (MinVol) portfolios changed significantly after transitioning from historical returns to CAPM-adjusted returns.\n",
        "The decrease in Sharpe ratio suggests that the risk-adjusted returns of the portfolios declined after incorporating CAPM-adjusted expected returns. This indicates that the risk taken on by the portfolios may not be adequately compensated by the expected returns estimated using CAPM."
      ],
      "metadata": {
        "id": "mCMYpvOKEZgC"
      }
    },
    {
      "cell_type": "markdown",
      "source": [
        "\n",
        "\n",
        "---\n",
        "\n",
        "#GROWTH OR VALUE STOCKS\n",
        "high book-to-market-value stocks (i.e., value stocks) and low book-to-market-value stocks (i.e., growth stocks). Value stocks here are defined as those with high ratios of book value to market value. Growth stocks are those with low ratios of book to market.\n",
        "\n",
        "Growth stocks are those of companies that are considered to have the potential to outperform the overall market over time because of their future potential. Value stocks are classified as companies that are currently trading below what they are really worth and will thus provide a superior return.\n",
        "\n",
        "![image.png](data:image/png;base64,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)"
      ],
      "metadata": {
        "id": "fo6kPEjOlCZZ"
      }
    },
    {
      "cell_type": "markdown",
      "source": [],
      "metadata": {
        "id": "wgNsLhYgKNUD"
      }
    },
    {
      "cell_type": "markdown",
      "source": [
        "#payout policy lvmh stock rep"
      ],
      "metadata": {
        "id": "3qcMwK3ftMta"
      }
    },
    {
      "cell_type": "markdown",
      "source": [
        "This report examines LVMH's financial strategy concerning its dividend payouts, stock repurchase and issuance programs from 2019 to 2023. We analyze the impact of these strategies on the company's market capitalization, debt, capital structure, stock price, and earnings per share (EPS). The findings suggest that LVMH's aggressive stock repurchase strategy, adjustments in dividend payments, and debt management have contributed significantly to enhancing shareholder value and maintaining financial stability.\n",
        "\n",
        "Overview of Financial Strategies and Market Response:\n",
        "Dividend Policy Changes:\n",
        "LVMH adjusted its dividends, particularly noticeable with a decrease in 2020 due to the COVID-19 pandemic, followed by an increase in 2022 and a sharp decrease in 2023. These adjustments reflect the company's response to external economic conditions and internal cash flow management.\n",
        "Stock Repurchase and Issuance:\n",
        "The company undertook substantial stock repurchases from 2021 to 2023, following a less aggressive approach in 2019 and 2020. Negative figures indicate repurchases, with amounts increasing significantly to -€552 million in 2021, -€1604 million in 2022, and -€1569 million in 2023. These actions were aimed at reducing the number of shares outstanding, thereby potentially increasing the EPS and signaling confidence to investors.\n",
        "Impact Analysis:\n",
        "Market Capitalization:\n",
        "LVMH's market cap showed substantial growth, peaking in 2021 at €414.55 billion. This growth correlates with the company's aggressive buyback program, suggesting a positive market reception and an appreciation of LVMH’s growth prospects and financial health.\n",
        "Debt Management:\n",
        "LVMH's total debt increased significantly in 2020 (€47.43 billion), possibly to provide liquidity during the pandemic. However, subsequent years saw a reduction in debt, aligning with a strategy of using improved cash flows not only for repurchases but also for prudent debt management.\n",
        "Capital Structure:\n",
        "The aggressive repurchase of shares and the management of debt levels reflect a strategic shift in LVMH’s capital structure, aimed at optimizing shareholder value while maintaining financial flexibility.\n",
        "Stock Price and EPS:\n",
        "The stock price increased significantly from €300 in March 2020 to €900 in July 2023 before adjusting to around €800. This increase in stock price, along with an increase in EPS from €14.25 in 2019 to €30.34 in 2023, illustrates the efficacy of the repurchase strategy and its favorable reception by the market.\n",
        "EPS growth was likely bolstered by the reduced number of shares outstanding, which enhances the profitability per share, making the stock more attractive to investors.\n",
        "Conclusions and Strategic Recommendations:\n",
        "Efficiency of Repurchase Strategy:\n",
        "LVMH's stock repurchase strategy has effectively enhanced EPS and supported the stock price during volatile market conditions. This strategy not only signals management’s confidence in the company’s valuation but also offers a tax-efficient way to return capital to shareholders.\n",
        "Dividend Adjustments:\n",
        "The fluctuation in dividend payouts reflects a flexible approach, adapting to economic conditions and maintaining a balance between rewarding shareholders and retaining cash for operational stability and growth.\n",
        "Long-term Financial Health:\n",
        "LVMH should continue to monitor its capital structure closely, balancing between leveraging opportunities for growth and maintaining a buffer for economic downturns. The current approach of careful debt management combined with strategic repurchases and adaptable dividend policies appears to be sustainable and in line with the company's long-term financial goals.\n",
        "\n",
        "\n",
        "When crafting a payout policy for a corporation like LVMH, which has demonstrated a sophisticated approach to managing dividends and stock repurchases, the following elements should be considered to create an effective and responsive policy:\n",
        "\n",
        "1. Objectives of the Payout Policy\n",
        "Maximize Shareholder Value: Ensure that the payout strategy aligns with shareholder interests by balancing dividend payments and share repurchases to maximize earnings per share and overall return.\n",
        "Signal Financial Health: Use the payout policy as a tool to communicate confidence in the company's financial stability and growth prospects to the market.\n",
        "Maintain Flexibility: Retain sufficient cash flow to fund ongoing operations and future growth opportunities while returning excess capital to shareholders.\n",
        "2. Dividend Policy Components\n",
        "Stable or Growing Dividends: Aim to provide a stable or gradually increasing dividend payout ratio that is sustainable based on the company’s long-term earnings outlook.\n",
        "Dividend Yield Targeting: Maintain a competitive dividend yield that aligns with industry standards and investor expectations.\n",
        "Payout Ratio: Set a target payout ratio that reflects the company's maturity and cash flow stability, adjusting as necessary based on economic conditions and company performance.\n",
        "3. Share Repurchase Strategy\n",
        "Counter-Cyclical Repurchases: Implement share repurchases when the stock is perceived to be undervalued, effectively using the company’s capital to buy back shares at a discount.\n",
        "Flexible Implementation: Maintain flexibility in repurchase plans to adjust the volume of buybacks according to market conditions and internal cash requirements.\n",
        "Communicating the Rationale: Clearly communicate the rationale for share repurchases to shareholders, explaining how these actions fit into the broader financial strategy and benefit shareholder value.\n",
        "4. Balancing Dividends and Repurchases\n",
        "Integration with Financial Planning: Ensure that decisions on dividends and repurchases are integrated with overall financial planning, taking into consideration the company’s investment needs, debt levels, and liquidity requirements.\n",
        "Market Conditions: Respond to market conditions and investor sentiment, recognizing when dividends or repurchases might be more favorable under current tax laws and market trends.\n",
        "Shareholder Demographics: Consider the preferences and tax situations of the shareholder base, which can influence whether dividends or repurchases are more beneficial for the majority of shareholders.\n",
        "5. Legal and Regulatory Compliance\n",
        "Compliance with Laws: Adhere to all legal and regulatory requirements in the jurisdictions where the company operates, particularly concerning payout policies and insider trading laws during repurchase periods.\n",
        "Transparent Reporting: Maintain transparency in reporting dividend and repurchase activities in financial statements and public disclosures to ensure shareholders and regulatory bodies are well-informed.\n",
        "6. Review and Adjustment\n",
        "Regular Review: Regularly review the payout policy to ensure it remains aligned with the company’s strategic goals and financial health.\n",
        "Adjustments: Be prepared to adjust the policy in response to significant changes in the company’s operations, the economic environment, or tax legislation that could impact the effectiveness of the payout strategy."
      ],
      "metadata": {
        "id": "WTpijIAysoPa"
      }
    },
    {
      "cell_type": "markdown",
      "source": [
        "#payout policy ferragamo\n",
        "Constructing Ferragamo's Payout Policy: Analysis and Recommendations\n",
        "Overview of Financial Data:\n",
        "From the data provided, Ferragamo's financial performance and position exhibit fluctuating dividends, significant changes in free cash flow, a varied stock repurchase strategy, inconsistent stock prices, a relatively stable EPS with a downturn in recent years, and manageable but fluctuating debt levels. The company’s market capitalization has also been decreasing, indicating a potential loss of investor confidence or market challenges.\n",
        "\n",
        "Key Financial Observations:\n",
        "Dividends:\n",
        "Dividends were absent in 2020 and 2021, likely due to the impact of COVID-19 on business operations and financial stability.\n",
        "A return to dividend payments in 2022 and a reduction in 2023 and 2024 suggest cautious financial management in response to fluctuating cash flows and earnings.\n",
        "Free Cash Flow:\n",
        "The significant variation in free cash flow indicates operational fluctuations. A sharp increase in 2021 could suggest recovery or an accumulation of cash due to reduced operational costs or capital expenditures.\n",
        "Cash Repurchase of Equity:\n",
        "Share repurchases in 2019, 2021, and 2022 with significant increase in 2022 indicate an attempt to support the stock price and return capital to shareholders during periods of higher cash availability.\n",
        "Stock Price and EPS:\n",
        "Stock prices have generally declined, reflecting possible market concerns about the company's growth prospects or profitability.\n",
        "The EPS saw recovery in 2021 and then a subsequent decrease, aligning with the overall reduction in profitability and operational performance.\n",
        "Debt and Market Cap:\n",
        "The debt level remained relatively low, indicating a conservative approach to leverage. However, the rising market cap until 2021 followed by a decline suggests shifting investor perceptions regarding company valuation.\n",
        "Constructing a Payout Policy:\n",
        "Considering Ferragamo's financial data and strategic needs, the payout policy should aim to stabilize shareholder returns while preserving financial flexibility to support operational and strategic objectives.\n",
        "\n",
        "1. Dividend Strategy:\n",
        "Stable, Conservative Dividend: Given the volatility in free cash flow and earnings, a conservative dividend policy with a lower, stable payout ratio is advisable. This would reassure investors of the company’s commitment to providing returns while maintaining enough liquidity to fund operations and strategic investments.\n",
        "Flexibility Clause: Include a clause allowing for dividend adjustments based on annual free cash flow and long-term earnings projections. This ensures dividends are sustainable and aligned with financial performance.\n",
        "2. Share Repurchase Plan:\n",
        "Opportunistic Buybacks: Continue with an opportunistic approach to share buybacks, executing them in years where free cash flow is strong and the stock price is perceived to be undervalued. This not only enhances EPS but also provides a signal of confidence in the company’s value.\n",
        "Limitation on Buybacks: Set annual limits on buybacks as a percentage of free cash flow to ensure they do not compromise other financial obligations or strategic initiatives.\n",
        "3. Capital Structure Management:\n",
        "Moderate Leverage: Maintain a moderate level of debt to preserve financial stability and flexibility. Use debt judiciously to finance strategic growth initiatives that are expected to generate higher returns.\n",
        "Debt Monitoring: Regularly review debt levels in relation to cash flows and earnings to ensure that the capital structure supports both stability and strategic growth.\n",
        "4. Communication and Transparency:\n",
        "Clear Communication: Clearly communicate the rationale behind dividend and buyback decisions in annual reports and shareholder meetings. Transparency about financial decisions will build trust with investors.\n",
        "Regular Review: Implement annual reviews of the payout policy, adjusting it as necessary based on the company's financial condition, market environment, and strategic goals.\n",
        "Conclusion:\n",
        "Ferragamo's payout policy should balance the need to provide stable returns to shareholders through dividends and share repurchases with the need to maintain sufficient cash reserves for operational flexibility and strategic growth. By adopting a conservative yet flexible approach to dividends and a strategic, opportunistic approach to share buybacks, Ferragamo can effectively manage its capital structure while supporting shareholder value in a volatile market environment.\n",
        "\n",
        "\n",
        "\n",
        "\n",
        "Stock Repurchase/Issue and Its Effects:\n",
        "Earnings Per Share (EPS) Impact:\n",
        "Repurchases Generally Boost EPS: By reducing the number of outstanding shares, stock repurchases increase EPS, all else being equal. This can be seen in Ferragamo's activities, where despite fluctuating profitability, EPS in 2021 and 2022 showed some resilience, which could be partially attributed to reduced share counts in those years.\n",
        "2022 Repurchase and EPS: The large stock repurchase in 2022 (-€42.67 million) likely helped stabilize the EPS at €0.42, despite less favorable economic conditions.\n",
        "Market Capitalization:\n",
        "Impact Through Investor Perception: Share repurchases often signal to the market that management believes the stock is undervalued, which can bolster investor confidence and potentially support or increase the stock price in the short term. However, in Ferragamo’s case, while there were aggressive repurchases in 2022, the market cap continued to decline through 2023 and 2024, suggesting that other factors, such as overall declining sales or profitability and market conditions, had a more substantial negative impact.\n",
        "Long-term Decline in Market Cap: Despite repurchase efforts, the long-term decline in market cap indicates that repurchases were not sufficient to offset broader negative market sentiments or operational challenges.\n",
        "Debt Levels:\n",
        "Capital Allocation Decisions: Ferragamo's conservative approach to debt, with only modest increases in certain years, shows a cautious use of leverage. The stock repurchases in years like 2021 and 2022 did not coincide with large increases in debt, suggesting these were likely funded through operational cash flows or existing cash reserves.\n",
        "Financial Flexibility: The ability to execute repurchases without significantly increasing debt levels indicates good financial management and helps maintain a robust capital structure, ensuring that the company is not over-leveraged.\n",
        "Capital Structure:\n",
        "Leverage and Shareholder Equity: Stock repurchases reduce shareholder equity by converting part of it into treasury shares, thus impacting the equity side of the balance sheet. This can lead to a higher debt-to-equity ratio, assuming debt levels remain constant or increase. In Ferragamo's case, the relatively stable debt levels combined with the stock repurchases suggest a controlled approach to managing its leverage, with careful consideration not to overly skew the balance between debt and equity.\n",
        "Impact on Financial Stability and Risk: Reducing the number of shares through repurchases can make the company more susceptible to market volatility if not balanced with adequate cash reserves and a solid debt management strategy.\n",
        "Summary:\n",
        "The stock repurchase activities of Ferragamo have had mixed impacts on its financial metrics. While theoretically designed to enhance EPS and shareholder value, the effectiveness of these repurchases appears to have been mitigated by broader market and operational challenges. The continued decline in market cap, despite significant repurchases, suggests that underlying business factors and possibly investor confidence in the company's growth prospects or operational efficiency played a more significant role.\n",
        "\n",
        "Stock repurchases did not lead to an increase in debt to risky levels, indicating prudent financial management. However, the overall decline in market capitalization and varying stock prices reflect the complex interplay between market perceptions, company performance, and repurchase activities. A careful review and possibly a recalibration of the strategy might be necessary to align these activities more closely with achieving long-term shareholder value."
      ],
      "metadata": {
        "id": "5LzO2fbq0j_6"
      }
    }
  ]
}